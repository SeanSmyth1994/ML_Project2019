{
 "cells": [
  {
   "cell_type": "markdown",
   "metadata": {},
   "source": [
    "# Predicting Heart Disease\n",
    "\n",
    "The aim of this project is to build, fit and compare a number of different binary classification models to try and predict whether a patient has heart disease using the 'Heart Disease Data Set' source from the UCI repository <cite data-cite = \"heart-disease\">(Created by Robert Detrano, Donated by David W Aha, 1989)</cite>. The specific dataset used for this project is known as the cleveland dataset, as it was taken from the V.A. Medical Center, Long Beach and Cleveland Clinic Foundation. The features include 5 numerical features and 8 nominal categorical features. The target feature is a binary feature, with 0 refering to a patient without heart disease and 1 refering to a patient with heart disease.\n",
    "\n",
    "The report for this project is organised as follows:\n",
    "\n",
    "* <a href='Over'>Section 2: (Overview)</a> outlines the method\n",
    "* <a href='DataPrep'>Section 3: (Data Preparation)</a> outlines and summarises data preparation process and model evaluation strategy\n",
    "* <a href='Hyper'>Section 4: (Hyperparameter Tuning)</a> describes the hyperparameter tuning process for each classification algorithm.\n",
    "* <a href='Per'>Section 5: (Performance Comparison)</a> describes the performance comparison for each classification algorithm\n",
    "* <a href='Limit'>Section 6: (Critiques and Limitations)</a> outlines the limitations of the approaches used in this report\n",
    "* <a href='Summary'>Section 7: (Summary)</a> concise summary of the report\n",
    "\n",
    "This project was compiled using Jupyter Lab, it includes both the python code and explanations throughout the project.\n"
   ]
  },
  {
   "cell_type": "markdown",
   "metadata": {},
   "source": [
    "<a id='Over'></a>\n",
    "\n",
    "# Overview"
   ]
  },
  {
   "cell_type": "markdown",
   "metadata": {},
   "source": [
    "## Method\n",
    "\n",
    "I have built the following classifiers to try and predict heart disease:\n",
    "\n",
    "* KNN\n",
    "* Gaussian Naive Bayes\n",
    "* Bernoulli Naive Bayes\n",
    "* Decision Tree\n",
    "* Logistic Regression (both simplified and non-simplified)\n",
    "\n",
    "Using the cleaned data from phase 1, the process of transforming the data begins by encoding the categorical descriptive features by one-hot-encoding and then scaling the numerical features. The transformed data set was then split into a train and test set with a 70:30 ratio. From this split, the training set consisted of 212 rows, and the test set contained 91 rows.\n",
    "\n",
    "Before fitting one of the models mentioned above, the best features were selected using their respective F-scores inside a pipeline. In the pipeline, we consider 5, 10, 15, 20 and all the full set of 26 features (after encoding).\n",
    "\n",
    "Using the feature selection inside a hyperparameter search within a single pipeline, a 5 fold stratified cross validation took place to fine tune the hyperparameters. The AUC (Area Under Curve) was used as a the performance metric for each classifier. The stratified cross validation was used as it will help in making sure each fold is a representative of the whole, by using the same proportions of class structures <cite data-cite = 'CrossVal'></cite>, enabling less biased results. This cross validation strategy is essential as the target variable in this data set is unbalanced. Feature sensitivity was also examined as a result of the hyperparameter search.\n",
    "\n",
    "For Bernoulli Naive Bayes and the simplified Logistic Regression Models, new versions of the dataset were formed. With the Bernoulli Naive Bayes dataset looking at both a fully fitted binary model, whereby all the continuous features were binned and encoded, and a model that consists of just the binary variables. This was done to deal with the mixed dataset we have for this project. Like the Bernoulli Naive Bayes, the Logistic Regression model underwent two fits, one being a fully fitted model, and the other looking at a simplified model. To make a simplified model, the functions from the statsmodels.api, which contains the equivalent of the 'glm' function in R, were used in order to look into the p-value of each variable. From the p-value, predictors were cut until a satisfactory model was obtained. The simplified model was then tested against the other models.\n",
    "\n",
    "\n",
    "Once the best model was identified for each classification model, a number of pairwise t-tests were performed, with a 10 fold cross validation performed against the test data. The performance metric was again the AUC score. Since there are a number of classifiers, the two Naive Bayes models and the two logistic regression models were tested first. The best models from each were then tested against the rest of the models, until the significantly best model was obtained. In addition to the pairwise t-tests, the confusion matrices and classification reports were printed for each model, allowing us to compare the recall score for each classifier."
   ]
  },
  {
   "cell_type": "markdown",
   "metadata": {},
   "source": [
    "<a id = '#DataPrep'></a>\n",
    "\n",
    "# Data Preparation"
   ]
  },
  {
   "cell_type": "markdown",
   "metadata": {},
   "source": [
    "\n",
    "## Loading Dataset"
   ]
  },
  {
   "cell_type": "code",
   "execution_count": 1,
   "metadata": {},
   "outputs": [],
   "source": [
    "# imports and loading the dataset\n",
    "from scipy import stats\n",
    "import seaborn as sns\n",
    "import matplotlib.pyplot as plt\n",
    "import math\n",
    "from sklearn.model_selection import cross_val_score, RepeatedStratifiedKFold\n",
    "import warnings\n",
    "warnings.filterwarnings(\"ignore\")\n",
    "import numpy as np\n",
    "import pandas as pd\n",
    "from sklearn import feature_selection as fs"
   ]
  },
  {
   "cell_type": "code",
   "execution_count": 2,
   "metadata": {},
   "outputs": [
    {
     "name": "stdout",
     "output_type": "stream",
     "text": [
      "    age sex cp trestbps   chol fbs restecg thalach exang oldpeak slope ca  \\\n",
      "1.0  63   1  3    145.0  233.0   1       0   150.0     0     2.3     0  0   \n",
      "2.0  37   1  2    130.0  250.0   0       1   187.0     0     3.5     0  0   \n",
      "3.0  41   0  1    130.0  204.0   0       0   172.0     0     1.4     2  0   \n",
      "4.0  56   1  1    120.0  236.0   0       1   178.0     0     0.8     2  0   \n",
      "5.0  57   0  0    120.0  354.0   0       1   163.0     1     0.6     2  0   \n",
      "\n",
      "    thal target  \n",
      "1.0    1      1  \n",
      "2.0    2      1  \n",
      "3.0    2      1  \n",
      "4.0    2      1  \n",
      "5.0    2      1  \n"
     ]
    }
   ],
   "source": [
    "heart_filename = 'heart.csv'\n",
    "heart_df = pd.read_csv(heart_filename, sep=',', decimal = '.', header = None, \n",
    "                    names=['age','sex','cp', \n",
    "                           'trestbps', 'chol', 'fbs', \n",
    "                           'restecg', 'thalach', 'exang', \n",
    "                           'oldpeak', 'slope', 'ca', 'thal', 'target'])\n",
    "#first row loads in as column names so remove the first row of values\n",
    "heart_df = heart_df.ix[1:]\n",
    "print(heart_df.head())\n",
    "# we are now using The data from the UCI repository known as preprocessed.cleveland.data"
   ]
  },
  {
   "cell_type": "markdown",
   "metadata": {},
   "source": [
    "### Checking For Missing Values\n",
    "\n",
    "I will check for missing values just in case"
   ]
  },
  {
   "cell_type": "code",
   "execution_count": 3,
   "metadata": {},
   "outputs": [
    {
     "data": {
      "text/plain": [
       "age         0\n",
       "sex         0\n",
       "cp          0\n",
       "trestbps    0\n",
       "chol        0\n",
       "fbs         0\n",
       "restecg     0\n",
       "thalach     0\n",
       "exang       0\n",
       "oldpeak     0\n",
       "slope       0\n",
       "ca          0\n",
       "thal        0\n",
       "target      0\n",
       "dtype: int64"
      ]
     },
     "execution_count": 3,
     "metadata": {},
     "output_type": "execute_result"
    }
   ],
   "source": [
    "heart_df.isna().sum()"
   ]
  },
  {
   "cell_type": "markdown",
   "metadata": {},
   "source": [
    "<a id ='Encode'></a>\n",
    "\n",
    "## Encoding The Categorical Features"
   ]
  },
  {
   "cell_type": "markdown",
   "metadata": {},
   "source": [
    "### Encoding The Target Feature\n"
   ]
  },
  {
   "cell_type": "code",
   "execution_count": 4,
   "metadata": {},
   "outputs": [
    {
     "data": {
      "text/plain": [
       "1    165\n",
       "0    138\n",
       "Name: target, dtype: int64"
      ]
     },
     "execution_count": 4,
     "metadata": {},
     "output_type": "execute_result"
    }
   ],
   "source": [
    "heart = heart_df.drop(['target'], axis=1)\n",
    "target = heart_df['target']\n",
    "target.value_counts()"
   ]
  },
  {
   "cell_type": "code",
   "execution_count": 5,
   "metadata": {},
   "outputs": [
    {
     "data": {
      "text/plain": [
       "age         object\n",
       "sex         object\n",
       "cp          object\n",
       "trestbps    object\n",
       "chol        object\n",
       "fbs         object\n",
       "restecg     object\n",
       "thalach     object\n",
       "exang       object\n",
       "oldpeak     object\n",
       "slope       object\n",
       "ca          object\n",
       "thal        object\n",
       "dtype: object"
      ]
     },
     "execution_count": 5,
     "metadata": {},
     "output_type": "execute_result"
    }
   ],
   "source": [
    "# one hot encoding\n",
    "heart.dtypes"
   ]
  },
  {
   "cell_type": "markdown",
   "metadata": {},
   "source": [
    "### Changing Data Types for Numerical Features\n"
   ]
  },
  {
   "cell_type": "code",
   "execution_count": 6,
   "metadata": {},
   "outputs": [
    {
     "data": {
      "text/plain": [
       "age           int64\n",
       "sex          object\n",
       "cp           object\n",
       "trestbps    float64\n",
       "chol        float64\n",
       "fbs          object\n",
       "restecg      object\n",
       "thalach     float64\n",
       "exang        object\n",
       "oldpeak     float64\n",
       "slope        object\n",
       "ca           object\n",
       "thal         object\n",
       "dtype: object"
      ]
     },
     "execution_count": 6,
     "metadata": {},
     "output_type": "execute_result"
    }
   ],
   "source": [
    "col_list = ['trestbps', 'chol', 'thalach', 'oldpeak']\n",
    "for item in col_list:\n",
    "    heart[item] = heart[item].astype(str).astype(float)\n",
    "    \n",
    "col_list2 = ['age']\n",
    "for item2 in col_list2:\n",
    "    heart[item2] = heart[item2].astype(str).astype(np.int64)\n",
    "    \n",
    "col_list3 = ['sex','cp', 'fbs', 'restecg', 'exang', 'slope', 'ca', 'thal']\n",
    "for item3 in col_list3:\n",
    "    heart[item3] = heart[item3].astype(str).astype('object')\n",
    "    \n",
    "heart.dtypes"
   ]
  },
  {
   "cell_type": "markdown",
   "metadata": {},
   "source": [
    "### Encoding Categorical Descriptive Features\n"
   ]
  },
  {
   "cell_type": "code",
   "execution_count": 7,
   "metadata": {},
   "outputs": [
    {
     "data": {
      "text/plain": [
       "['sex', 'cp', 'fbs', 'restecg', 'exang', 'slope', 'ca', 'thal']"
      ]
     },
     "execution_count": 7,
     "metadata": {},
     "output_type": "execute_result"
    }
   ],
   "source": [
    "categorical_cols = heart.columns[heart.dtypes==object].tolist()\n",
    "categorical_cols"
   ]
  },
  {
   "cell_type": "code",
   "execution_count": 8,
   "metadata": {},
   "outputs": [],
   "source": [
    "for col in categorical_cols:\n",
    "    n = len(heart[col].unique())\n",
    "    if (n == 2):\n",
    "        heart[col] = pd.get_dummies(heart[col], drop_first=True)\n",
    "   \n",
    "# use one-hot-encoding for categorical features with >2 levels\n",
    "heart = pd.get_dummies(heart)"
   ]
  },
  {
   "cell_type": "markdown",
   "metadata": {},
   "source": [
    "The new data frame above shows any categorical feature with over 2 values being parsed into a new binary column. The number of columns has increased to 26."
   ]
  },
  {
   "cell_type": "code",
   "execution_count": 9,
   "metadata": {},
   "outputs": [
    {
     "data": {
      "text/plain": [
       "Index(['age', 'sex', 'trestbps', 'chol', 'fbs', 'thalach', 'exang', 'oldpeak',\n",
       "       'cp_0', 'cp_1', 'cp_2', 'cp_3', 'restecg_0', 'restecg_1', 'restecg_2',\n",
       "       'slope_0', 'slope_1', 'slope_2', 'ca_0', 'ca_1', 'ca_2', 'ca_3',\n",
       "       'thal_0', 'thal_1', 'thal_2', 'thal_3'],\n",
       "      dtype='object')"
      ]
     },
     "execution_count": 9,
     "metadata": {},
     "output_type": "execute_result"
    }
   ],
   "source": [
    "heart.columns"
   ]
  },
  {
   "cell_type": "markdown",
   "metadata": {},
   "source": [
    "Here we see all the new columns that have been one-hot-encoded"
   ]
  },
  {
   "cell_type": "code",
   "execution_count": 10,
   "metadata": {},
   "outputs": [
    {
     "data": {
      "text/html": [
       "<div>\n",
       "<style scoped>\n",
       "    .dataframe tbody tr th:only-of-type {\n",
       "        vertical-align: middle;\n",
       "    }\n",
       "\n",
       "    .dataframe tbody tr th {\n",
       "        vertical-align: top;\n",
       "    }\n",
       "\n",
       "    .dataframe thead th {\n",
       "        text-align: right;\n",
       "    }\n",
       "</style>\n",
       "<table border=\"1\" class=\"dataframe\">\n",
       "  <thead>\n",
       "    <tr style=\"text-align: right;\">\n",
       "      <th></th>\n",
       "      <th>age</th>\n",
       "      <th>sex</th>\n",
       "      <th>trestbps</th>\n",
       "      <th>chol</th>\n",
       "      <th>fbs</th>\n",
       "      <th>thalach</th>\n",
       "      <th>exang</th>\n",
       "      <th>oldpeak</th>\n",
       "      <th>cp_0</th>\n",
       "      <th>cp_1</th>\n",
       "      <th>...</th>\n",
       "      <th>slope_1</th>\n",
       "      <th>slope_2</th>\n",
       "      <th>ca_0</th>\n",
       "      <th>ca_1</th>\n",
       "      <th>ca_2</th>\n",
       "      <th>ca_3</th>\n",
       "      <th>thal_0</th>\n",
       "      <th>thal_1</th>\n",
       "      <th>thal_2</th>\n",
       "      <th>thal_3</th>\n",
       "    </tr>\n",
       "  </thead>\n",
       "  <tbody>\n",
       "    <tr>\n",
       "      <th>257.0</th>\n",
       "      <td>58</td>\n",
       "      <td>1</td>\n",
       "      <td>128.0</td>\n",
       "      <td>259.0</td>\n",
       "      <td>0</td>\n",
       "      <td>130.0</td>\n",
       "      <td>1</td>\n",
       "      <td>3.0</td>\n",
       "      <td>1</td>\n",
       "      <td>0</td>\n",
       "      <td>...</td>\n",
       "      <td>1</td>\n",
       "      <td>0</td>\n",
       "      <td>0</td>\n",
       "      <td>0</td>\n",
       "      <td>1</td>\n",
       "      <td>0</td>\n",
       "      <td>0</td>\n",
       "      <td>0</td>\n",
       "      <td>0</td>\n",
       "      <td>1</td>\n",
       "    </tr>\n",
       "    <tr>\n",
       "      <th>279.0</th>\n",
       "      <td>58</td>\n",
       "      <td>0</td>\n",
       "      <td>136.0</td>\n",
       "      <td>319.0</td>\n",
       "      <td>1</td>\n",
       "      <td>152.0</td>\n",
       "      <td>0</td>\n",
       "      <td>0.0</td>\n",
       "      <td>0</td>\n",
       "      <td>1</td>\n",
       "      <td>...</td>\n",
       "      <td>0</td>\n",
       "      <td>1</td>\n",
       "      <td>0</td>\n",
       "      <td>0</td>\n",
       "      <td>1</td>\n",
       "      <td>0</td>\n",
       "      <td>0</td>\n",
       "      <td>0</td>\n",
       "      <td>1</td>\n",
       "      <td>0</td>\n",
       "    </tr>\n",
       "    <tr>\n",
       "      <th>124.0</th>\n",
       "      <td>54</td>\n",
       "      <td>0</td>\n",
       "      <td>108.0</td>\n",
       "      <td>267.0</td>\n",
       "      <td>0</td>\n",
       "      <td>167.0</td>\n",
       "      <td>0</td>\n",
       "      <td>0.0</td>\n",
       "      <td>0</td>\n",
       "      <td>0</td>\n",
       "      <td>...</td>\n",
       "      <td>0</td>\n",
       "      <td>1</td>\n",
       "      <td>1</td>\n",
       "      <td>0</td>\n",
       "      <td>0</td>\n",
       "      <td>0</td>\n",
       "      <td>0</td>\n",
       "      <td>0</td>\n",
       "      <td>1</td>\n",
       "      <td>0</td>\n",
       "    </tr>\n",
       "    <tr>\n",
       "      <th>129.0</th>\n",
       "      <td>52</td>\n",
       "      <td>0</td>\n",
       "      <td>136.0</td>\n",
       "      <td>196.0</td>\n",
       "      <td>0</td>\n",
       "      <td>169.0</td>\n",
       "      <td>0</td>\n",
       "      <td>0.1</td>\n",
       "      <td>0</td>\n",
       "      <td>0</td>\n",
       "      <td>...</td>\n",
       "      <td>1</td>\n",
       "      <td>0</td>\n",
       "      <td>1</td>\n",
       "      <td>0</td>\n",
       "      <td>0</td>\n",
       "      <td>0</td>\n",
       "      <td>0</td>\n",
       "      <td>0</td>\n",
       "      <td>1</td>\n",
       "      <td>0</td>\n",
       "    </tr>\n",
       "    <tr>\n",
       "      <th>157.0</th>\n",
       "      <td>47</td>\n",
       "      <td>1</td>\n",
       "      <td>130.0</td>\n",
       "      <td>253.0</td>\n",
       "      <td>0</td>\n",
       "      <td>179.0</td>\n",
       "      <td>0</td>\n",
       "      <td>0.0</td>\n",
       "      <td>0</td>\n",
       "      <td>0</td>\n",
       "      <td>...</td>\n",
       "      <td>0</td>\n",
       "      <td>1</td>\n",
       "      <td>1</td>\n",
       "      <td>0</td>\n",
       "      <td>0</td>\n",
       "      <td>0</td>\n",
       "      <td>0</td>\n",
       "      <td>0</td>\n",
       "      <td>1</td>\n",
       "      <td>0</td>\n",
       "    </tr>\n",
       "  </tbody>\n",
       "</table>\n",
       "<p>5 rows × 26 columns</p>\n",
       "</div>"
      ],
      "text/plain": [
       "       age  sex  trestbps   chol  fbs  thalach  exang  oldpeak  cp_0  cp_1  \\\n",
       "257.0   58    1     128.0  259.0    0    130.0      1      3.0     1     0   \n",
       "279.0   58    0     136.0  319.0    1    152.0      0      0.0     0     1   \n",
       "124.0   54    0     108.0  267.0    0    167.0      0      0.0     0     0   \n",
       "129.0   52    0     136.0  196.0    0    169.0      0      0.1     0     0   \n",
       "157.0   47    1     130.0  253.0    0    179.0      0      0.0     0     0   \n",
       "\n",
       "       ...  slope_1  slope_2  ca_0  ca_1  ca_2  ca_3  thal_0  thal_1  thal_2  \\\n",
       "257.0  ...        1        0     0     0     1     0       0       0       0   \n",
       "279.0  ...        0        1     0     0     1     0       0       0       1   \n",
       "124.0  ...        0        1     1     0     0     0       0       0       1   \n",
       "129.0  ...        1        0     1     0     0     0       0       0       1   \n",
       "157.0  ...        0        1     1     0     0     0       0       0       1   \n",
       "\n",
       "       thal_3  \n",
       "257.0       1  \n",
       "279.0       0  \n",
       "124.0       0  \n",
       "129.0       0  \n",
       "157.0       0  \n",
       "\n",
       "[5 rows x 26 columns]"
      ]
     },
     "execution_count": 10,
     "metadata": {},
     "output_type": "execute_result"
    }
   ],
   "source": [
    "heart.sample(5, random_state=999)"
   ]
  },
  {
   "cell_type": "markdown",
   "metadata": {},
   "source": [
    "### Data Scaling\n",
    "\n",
    "I will now apply min-max scaling to these features"
   ]
  },
  {
   "cell_type": "code",
   "execution_count": 11,
   "metadata": {},
   "outputs": [],
   "source": [
    "from sklearn import preprocessing\n",
    "\n",
    "heart_copy = heart.copy()\n",
    "df = heart.copy()\n",
    "Data_scaler = preprocessing.MinMaxScaler()\n",
    "Data_scaler.fit(heart)\n",
    "heart = Data_scaler.fit_transform(heart)"
   ]
  },
  {
   "cell_type": "code",
   "execution_count": 12,
   "metadata": {},
   "outputs": [
    {
     "data": {
      "text/html": [
       "<div>\n",
       "<style scoped>\n",
       "    .dataframe tbody tr th:only-of-type {\n",
       "        vertical-align: middle;\n",
       "    }\n",
       "\n",
       "    .dataframe tbody tr th {\n",
       "        vertical-align: top;\n",
       "    }\n",
       "\n",
       "    .dataframe thead th {\n",
       "        text-align: right;\n",
       "    }\n",
       "</style>\n",
       "<table border=\"1\" class=\"dataframe\">\n",
       "  <thead>\n",
       "    <tr style=\"text-align: right;\">\n",
       "      <th></th>\n",
       "      <th>age</th>\n",
       "      <th>sex</th>\n",
       "      <th>trestbps</th>\n",
       "      <th>chol</th>\n",
       "      <th>fbs</th>\n",
       "      <th>thalach</th>\n",
       "      <th>exang</th>\n",
       "      <th>oldpeak</th>\n",
       "      <th>cp_0</th>\n",
       "      <th>cp_1</th>\n",
       "      <th>...</th>\n",
       "      <th>slope_1</th>\n",
       "      <th>slope_2</th>\n",
       "      <th>ca_0</th>\n",
       "      <th>ca_1</th>\n",
       "      <th>ca_2</th>\n",
       "      <th>ca_3</th>\n",
       "      <th>thal_0</th>\n",
       "      <th>thal_1</th>\n",
       "      <th>thal_2</th>\n",
       "      <th>thal_3</th>\n",
       "    </tr>\n",
       "  </thead>\n",
       "  <tbody>\n",
       "    <tr>\n",
       "      <th>256</th>\n",
       "      <td>0.604167</td>\n",
       "      <td>1.0</td>\n",
       "      <td>0.320755</td>\n",
       "      <td>0.303653</td>\n",
       "      <td>0.0</td>\n",
       "      <td>0.450382</td>\n",
       "      <td>1.0</td>\n",
       "      <td>0.483871</td>\n",
       "      <td>1.0</td>\n",
       "      <td>0.0</td>\n",
       "      <td>...</td>\n",
       "      <td>1.0</td>\n",
       "      <td>0.0</td>\n",
       "      <td>0.0</td>\n",
       "      <td>0.0</td>\n",
       "      <td>1.0</td>\n",
       "      <td>0.0</td>\n",
       "      <td>0.0</td>\n",
       "      <td>0.0</td>\n",
       "      <td>0.0</td>\n",
       "      <td>1.0</td>\n",
       "    </tr>\n",
       "    <tr>\n",
       "      <th>278</th>\n",
       "      <td>0.604167</td>\n",
       "      <td>0.0</td>\n",
       "      <td>0.396226</td>\n",
       "      <td>0.440639</td>\n",
       "      <td>1.0</td>\n",
       "      <td>0.618321</td>\n",
       "      <td>0.0</td>\n",
       "      <td>0.000000</td>\n",
       "      <td>0.0</td>\n",
       "      <td>1.0</td>\n",
       "      <td>...</td>\n",
       "      <td>0.0</td>\n",
       "      <td>1.0</td>\n",
       "      <td>0.0</td>\n",
       "      <td>0.0</td>\n",
       "      <td>1.0</td>\n",
       "      <td>0.0</td>\n",
       "      <td>0.0</td>\n",
       "      <td>0.0</td>\n",
       "      <td>1.0</td>\n",
       "      <td>0.0</td>\n",
       "    </tr>\n",
       "    <tr>\n",
       "      <th>123</th>\n",
       "      <td>0.520833</td>\n",
       "      <td>0.0</td>\n",
       "      <td>0.132075</td>\n",
       "      <td>0.321918</td>\n",
       "      <td>0.0</td>\n",
       "      <td>0.732824</td>\n",
       "      <td>0.0</td>\n",
       "      <td>0.000000</td>\n",
       "      <td>0.0</td>\n",
       "      <td>0.0</td>\n",
       "      <td>...</td>\n",
       "      <td>0.0</td>\n",
       "      <td>1.0</td>\n",
       "      <td>1.0</td>\n",
       "      <td>0.0</td>\n",
       "      <td>0.0</td>\n",
       "      <td>0.0</td>\n",
       "      <td>0.0</td>\n",
       "      <td>0.0</td>\n",
       "      <td>1.0</td>\n",
       "      <td>0.0</td>\n",
       "    </tr>\n",
       "    <tr>\n",
       "      <th>128</th>\n",
       "      <td>0.479167</td>\n",
       "      <td>0.0</td>\n",
       "      <td>0.396226</td>\n",
       "      <td>0.159817</td>\n",
       "      <td>0.0</td>\n",
       "      <td>0.748092</td>\n",
       "      <td>0.0</td>\n",
       "      <td>0.016129</td>\n",
       "      <td>0.0</td>\n",
       "      <td>0.0</td>\n",
       "      <td>...</td>\n",
       "      <td>1.0</td>\n",
       "      <td>0.0</td>\n",
       "      <td>1.0</td>\n",
       "      <td>0.0</td>\n",
       "      <td>0.0</td>\n",
       "      <td>0.0</td>\n",
       "      <td>0.0</td>\n",
       "      <td>0.0</td>\n",
       "      <td>1.0</td>\n",
       "      <td>0.0</td>\n",
       "    </tr>\n",
       "    <tr>\n",
       "      <th>156</th>\n",
       "      <td>0.375000</td>\n",
       "      <td>1.0</td>\n",
       "      <td>0.339623</td>\n",
       "      <td>0.289954</td>\n",
       "      <td>0.0</td>\n",
       "      <td>0.824427</td>\n",
       "      <td>0.0</td>\n",
       "      <td>0.000000</td>\n",
       "      <td>0.0</td>\n",
       "      <td>0.0</td>\n",
       "      <td>...</td>\n",
       "      <td>0.0</td>\n",
       "      <td>1.0</td>\n",
       "      <td>1.0</td>\n",
       "      <td>0.0</td>\n",
       "      <td>0.0</td>\n",
       "      <td>0.0</td>\n",
       "      <td>0.0</td>\n",
       "      <td>0.0</td>\n",
       "      <td>1.0</td>\n",
       "      <td>0.0</td>\n",
       "    </tr>\n",
       "  </tbody>\n",
       "</table>\n",
       "<p>5 rows × 26 columns</p>\n",
       "</div>"
      ],
      "text/plain": [
       "          age  sex  trestbps      chol  fbs   thalach  exang   oldpeak  cp_0  \\\n",
       "256  0.604167  1.0  0.320755  0.303653  0.0  0.450382    1.0  0.483871   1.0   \n",
       "278  0.604167  0.0  0.396226  0.440639  1.0  0.618321    0.0  0.000000   0.0   \n",
       "123  0.520833  0.0  0.132075  0.321918  0.0  0.732824    0.0  0.000000   0.0   \n",
       "128  0.479167  0.0  0.396226  0.159817  0.0  0.748092    0.0  0.016129   0.0   \n",
       "156  0.375000  1.0  0.339623  0.289954  0.0  0.824427    0.0  0.000000   0.0   \n",
       "\n",
       "     cp_1  ...  slope_1  slope_2  ca_0  ca_1  ca_2  ca_3  thal_0  thal_1  \\\n",
       "256   0.0  ...      1.0      0.0   0.0   0.0   1.0   0.0     0.0     0.0   \n",
       "278   1.0  ...      0.0      1.0   0.0   0.0   1.0   0.0     0.0     0.0   \n",
       "123   0.0  ...      0.0      1.0   1.0   0.0   0.0   0.0     0.0     0.0   \n",
       "128   0.0  ...      1.0      0.0   1.0   0.0   0.0   0.0     0.0     0.0   \n",
       "156   0.0  ...      0.0      1.0   1.0   0.0   0.0   0.0     0.0     0.0   \n",
       "\n",
       "     thal_2  thal_3  \n",
       "256     0.0     1.0  \n",
       "278     1.0     0.0  \n",
       "123     1.0     0.0  \n",
       "128     1.0     0.0  \n",
       "156     1.0     0.0  \n",
       "\n",
       "[5 rows x 26 columns]"
      ]
     },
     "execution_count": 12,
     "metadata": {},
     "output_type": "execute_result"
    }
   ],
   "source": [
    "pd.DataFrame(heart, columns=heart_copy.columns).sample(5, random_state=999)"
   ]
  },
  {
   "cell_type": "markdown",
   "metadata": {},
   "source": [
    "<a id ='Fselction'></a>\n",
    "\n",
    "## Feature Selection And Ranking\n"
   ]
  },
  {
   "cell_type": "markdown",
   "metadata": {},
   "source": [
    "### F-Score Feature Selection \n",
    "\n",
    "We will now look at the 10 most important features as selected by their F-Score in the full dataset. This will give us some insight into what features are the most relevent. The F-Score uses the distribution of the relationship between the feature and the Target to produce a score. The higher the score, the more likely a feature is related to the target in some capacity. These results will guide our hyperparameter tuning, as we will include the F-Score Selection as part of our pipeline. "
   ]
  },
  {
   "cell_type": "code",
   "execution_count": 13,
   "metadata": {},
   "outputs": [],
   "source": [
    "number_f = 10"
   ]
  },
  {
   "cell_type": "markdown",
   "metadata": {},
   "source": [
    "Code below will output the 10 best features column numbers"
   ]
  },
  {
   "cell_type": "code",
   "execution_count": 14,
   "metadata": {},
   "outputs": [
    {
     "data": {
      "text/plain": [
       "array([24,  8, 25, 18,  6,  7,  5, 17, 16, 10])"
      ]
     },
     "execution_count": 14,
     "metadata": {},
     "output_type": "execute_result"
    }
   ],
   "source": [
    "fs_Fscore = fs.SelectKBest(fs.f_classif, k=number_f)\n",
    "fs_Fscore.fit_transform(heart, target)\n",
    "fs_colNum_fscore = np.argsort(fs_Fscore.scores_)[::-1][0:number_f]\n",
    "fs_colNum_fscore"
   ]
  },
  {
   "cell_type": "markdown",
   "metadata": {},
   "source": [
    "Code below will output the best the names of all the best features according their F-Score"
   ]
  },
  {
   "cell_type": "code",
   "execution_count": 15,
   "metadata": {},
   "outputs": [
    {
     "data": {
      "text/plain": [
       "array(['thal_2', 'cp_0', 'thal_3', 'ca_0', 'exang', 'oldpeak', 'thalach',\n",
       "       'slope_2', 'slope_1', 'cp_2'], dtype=object)"
      ]
     },
     "execution_count": 15,
     "metadata": {},
     "output_type": "execute_result"
    }
   ],
   "source": [
    "best_Features_Fscore = heart_copy.columns[fs_colNum_fscore].values\n",
    "best_Features_Fscore"
   ]
  },
  {
   "cell_type": "markdown",
   "metadata": {},
   "source": [
    "The F-Score of each of the best features is outpuuted below"
   ]
  },
  {
   "cell_type": "code",
   "execution_count": 16,
   "metadata": {},
   "outputs": [
    {
     "data": {
      "text/plain": [
       "array([115.94409453, 109.23326767,  93.13641568,  83.30805433,\n",
       "        70.95243822,  68.55143941,  65.1201044 ,  55.33459452,\n",
       "        45.40806725,  33.56548086])"
      ]
     },
     "execution_count": 16,
     "metadata": {},
     "output_type": "execute_result"
    }
   ],
   "source": [
    "fs_importance = fs_Fscore.scores_[fs_colNum_fscore]\n",
    "fs_importance"
   ]
  },
  {
   "cell_type": "code",
   "execution_count": 17,
   "metadata": {},
   "outputs": [],
   "source": [
    "import altair as alt\n",
    "\n",
    "def plot_importance(best_features, scores, method_name, color):\n",
    "    \n",
    "    df = pd.DataFrame({'features': best_features, \n",
    "                       'importances': scores})\n",
    "    \n",
    "    chart = alt.Chart(df,height = 100, width = 200, \n",
    "                      title=method_name + ' Feature Importances'\n",
    "                     ).mark_bar(opacity=0.85, \n",
    "                                color=color).encode(\n",
    "        alt.X('features', title='Feature', sort=None, axis=alt.AxisConfig(labelAngle=45)),\n",
    "        alt.Y('importances', title='Importance')\n",
    "    )\n",
    "    \n",
    "    return chart"
   ]
  },
  {
   "cell_type": "code",
   "execution_count": 18,
   "metadata": {},
   "outputs": [
    {
     "data": {
      "application/vnd.vegalite.v2+json": {
       "$schema": "https://vega.github.io/schema/vega-lite/v2.6.0.json",
       "config": {
        "view": {
         "height": 300,
         "width": 400
        }
       },
       "data": {
        "name": "data-e2eea0bec51a2f12e7795f16fae3900a"
       },
       "datasets": {
        "data-e2eea0bec51a2f12e7795f16fae3900a": [
         {
          "features": "thal_2",
          "importances": 115.94409453103076
         },
         {
          "features": "cp_0",
          "importances": 109.23326766953937
         },
         {
          "features": "thal_3",
          "importances": 93.13641567610426
         },
         {
          "features": "ca_0",
          "importances": 83.30805433350663
         },
         {
          "features": "exang",
          "importances": 70.95243821639583
         },
         {
          "features": "oldpeak",
          "importances": 68.55143941030713
         },
         {
          "features": "thalach",
          "importances": 65.12010440125152
         },
         {
          "features": "slope_2",
          "importances": 55.334594524132356
         },
         {
          "features": "slope_1",
          "importances": 45.408067248090696
         },
         {
          "features": "cp_2",
          "importances": 33.56548085954464
         }
        ]
       },
       "encoding": {
        "x": {
         "axis": {
          "labelAngle": 45
         },
         "field": "features",
         "sort": null,
         "title": "Feature",
         "type": "nominal"
        },
        "y": {
         "field": "importances",
         "title": "Importance",
         "type": "quantitative"
        }
       },
       "height": 100,
       "mark": {
        "color": "red",
        "opacity": 0.85,
        "type": "bar"
       },
       "title": "F-Score Feature Importances",
       "width": 200
      },
      "image/png": "[encoded data removed]",
      "text/plain": [
       "<VegaLite 2 object>\n",
       "\n",
       "If you see this message, it means the renderer has not been properly enabled\n",
       "for the frontend that you are using. For more information, see\n",
       "https://altair-viz.github.io/user_guide/troubleshooting.html\n"
      ]
     },
     "execution_count": 18,
     "metadata": {},
     "output_type": "execute_result"
    }
   ],
   "source": [
    "plot_importance(best_Features_Fscore, fs_importance, \"F-Score\", \"red\")"
   ]
  },
  {
   "cell_type": "markdown",
   "metadata": {},
   "source": [
    "According to the F-Scores, the highest F-Score was thal_2, which refers to a fixed defect. This is followed by a chest pain value of 0 (cp_0) which refers to a typical angina, and then followed by thal_3 (which refers to a reversable defect). As a side note, all the features refer to an aspect of the chest or heart in some capacity."
   ]
  },
  {
   "cell_type": "markdown",
   "metadata": {},
   "source": [
    "### Data Train and Test Splitting\n",
    "\n",
    "The original dataset contains 303 values, which isn't a lot, therefore we shall use all 303 rows for the train and test split. We will also use a 70:30 ratio for the train and test split."
   ]
  },
  {
   "cell_type": "code",
   "execution_count": 19,
   "metadata": {},
   "outputs": [
    {
     "name": "stdout",
     "output_type": "stream",
     "text": [
      "(303, 26)\n",
      "(303, 1)\n"
     ]
    }
   ],
   "source": [
    "heart_sample = pd.DataFrame(heart).values\n",
    "target_sample = pd.DataFrame(target).values\n",
    "\n",
    "print(heart_sample.shape)\n",
    "print(target_sample.shape)"
   ]
  },
  {
   "cell_type": "code",
   "execution_count": 20,
   "metadata": {},
   "outputs": [
    {
     "name": "stdout",
     "output_type": "stream",
     "text": [
      "(212, 26)\n",
      "(91, 26)\n"
     ]
    }
   ],
   "source": [
    "from sklearn.model_selection import train_test_split\n",
    "\n",
    "heart_train, heart_test, \\\n",
    "target_train, target_test = train_test_split(heart_sample, target_sample, \n",
    "                                                    test_size = 0.3, random_state=999,\n",
    "                                                    stratify = target_sample)\n",
    "\n",
    "print(heart_train.shape)\n",
    "print(heart_test.shape)"
   ]
  },
  {
   "cell_type": "markdown",
   "metadata": {},
   "source": [
    "### Model Evaluation Strategy\n",
    "\n",
    "We will train and tune our data on the 212 rows and test it against 91 rows. \n",
    "\n",
    "For each model we will also used a 5 fold stratified cross-validation. The stratified cross validation will help in making sure each fold is a representative of the whole <cite data-cite = 'CrossVal'>(Kohavi, 1995)</cite>. Stratification is generally a better scheme when dealing with variance and bias compared to regular cross validation."
   ]
  },
  {
   "cell_type": "code",
   "execution_count": 21,
   "metadata": {},
   "outputs": [],
   "source": [
    "from sklearn.model_selection import StratifiedKFold, GridSearchCV\n",
    "\n",
    "cross_val_method = StratifiedKFold(n_splits=5, random_state=999)"
   ]
  },
  {
   "cell_type": "markdown",
   "metadata": {},
   "source": [
    "<a id ='Hyper'></a>\n",
    "\n",
    "# Hyperparameter Tuning\n"
   ]
  },
  {
   "cell_type": "markdown",
   "metadata": {},
   "source": [
    "## K-Nearest Neighbour (KNN)\n",
    "\n",
    "Using a pipeline, I will conduct a grid search to find the best features for KNN. I will tune the hyperparameters on:\n",
    "\n",
    "* Number of Neighbours (`n_neighbours`)\n",
    "* p (Manhatten, Euclidean and Minkowski)\n",
    "\n",
    "Similar usages of a Pipeline will be used on subsequent models."
   ]
  },
  {
   "cell_type": "code",
   "execution_count": 22,
   "metadata": {},
   "outputs": [],
   "source": [
    "from sklearn.pipeline import Pipeline\n",
    "from sklearn.neighbors import KNeighborsClassifier\n",
    "\n",
    "pipe_KNN = Pipeline([('fselector', fs.SelectKBest()), \n",
    "                     ('knn', KNeighborsClassifier())])\n",
    "\n",
    "params_pipe_KNN = {'fselector__k': [5,10, 20, heart.shape[1]],\n",
    "                   'knn__n_neighbors': [1, 5, 10, 15, 20, 25, 30 ,35, 40, 60],\n",
    "                   'knn__p': [1, 2, 3, 4, 5]}\n",
    " \n",
    "GridSearch_KNN = GridSearchCV(estimator=pipe_KNN, \n",
    "                           param_grid=params_pipe_KNN, \n",
    "                           cv=cross_val_method,\n",
    "                           scoring='roc_auc',\n",
    "                           verbose=1) \n"
   ]
  },
  {
   "cell_type": "code",
   "execution_count": 23,
   "metadata": {},
   "outputs": [
    {
     "name": "stdout",
     "output_type": "stream",
     "text": [
      "Fitting 5 folds for each of 200 candidates, totalling 1000 fits\n"
     ]
    },
    {
     "name": "stderr",
     "output_type": "stream",
     "text": [
      "[Parallel(n_jobs=1)]: Using backend SequentialBackend with 1 concurrent workers.\n",
      "[Parallel(n_jobs=1)]: Done 1000 out of 1000 | elapsed:    9.0s finished\n"
     ]
    }
   ],
   "source": [
    "GridSearch_KNN.fit(heart_train, target_train);"
   ]
  },
  {
   "cell_type": "code",
   "execution_count": 24,
   "metadata": {},
   "outputs": [
    {
     "data": {
      "text/plain": [
       "{'fselector__k': 20, 'knn__n_neighbors': 40, 'knn__p': 4}"
      ]
     },
     "execution_count": 24,
     "metadata": {},
     "output_type": "execute_result"
    }
   ],
   "source": [
    "GridSearch_KNN.best_params_"
   ]
  },
  {
   "cell_type": "code",
   "execution_count": 25,
   "metadata": {},
   "outputs": [
    {
     "data": {
      "text/plain": [
       "0.9174871011614352"
      ]
     },
     "execution_count": 25,
     "metadata": {},
     "output_type": "execute_result"
    }
   ],
   "source": [
    "GridSearch_KNN.best_score_"
   ]
  },
  {
   "cell_type": "markdown",
   "metadata": {},
   "source": [
    "We observe that the best parameters for the KNN are 20 features, 40 neighbours and p = 4. This gives an AUC score ~0.917."
   ]
  },
  {
   "cell_type": "markdown",
   "metadata": {},
   "source": [
    "Below is a custom function from <cite data-cite= 'Custom'>(Vural, 2019)</cite>, this function will get the search results of a pipeline and convert it into a pandas dataframe"
   ]
  },
  {
   "cell_type": "code",
   "execution_count": 26,
   "metadata": {},
   "outputs": [],
   "source": [
    "def get_search_results(gs):\n",
    "\n",
    "    def model_result(scores, params):\n",
    "        scores = {'mean_score': np.mean(scores),\n",
    "             'std_score': np.std(scores),\n",
    "             'min_score': np.min(scores),\n",
    "             'max_score': np.max(scores)}\n",
    "        return pd.Series({**params,**scores})\n",
    "\n",
    "    models = []\n",
    "    scores = []\n",
    "\n",
    "    for i in range(gs.n_splits_):\n",
    "        key = f\"split{i}_test_score\"\n",
    "        r = gs.cv_results_[key]        \n",
    "        scores.append(r.reshape(-1,1))\n",
    "\n",
    "    all_scores = np.hstack(scores)\n",
    "    for p, s in zip(gs.cv_results_['params'], all_scores):\n",
    "        models.append((model_result(s, p)))\n",
    "\n",
    "    pipe_results = pd.concat(models, axis=1).T.sort_values(['mean_score'], ascending=False)\n",
    "\n",
    "    columns_first = ['mean_score', 'std_score', 'max_score', 'min_score']\n",
    "    columns = columns_first + [c for c in pipe_results.columns if c not in columns_first]\n",
    "\n",
    "    return pipe_results[columns]"
   ]
  },
  {
   "cell_type": "code",
   "execution_count": 27,
   "metadata": {},
   "outputs": [
    {
     "data": {
      "text/html": [
       "<div>\n",
       "<style scoped>\n",
       "    .dataframe tbody tr th:only-of-type {\n",
       "        vertical-align: middle;\n",
       "    }\n",
       "\n",
       "    .dataframe tbody tr th {\n",
       "        vertical-align: top;\n",
       "    }\n",
       "\n",
       "    .dataframe thead th {\n",
       "        text-align: right;\n",
       "    }\n",
       "</style>\n",
       "<table border=\"1\" class=\"dataframe\">\n",
       "  <thead>\n",
       "    <tr style=\"text-align: right;\">\n",
       "      <th></th>\n",
       "      <th>mean_score</th>\n",
       "      <th>std_score</th>\n",
       "      <th>max_score</th>\n",
       "      <th>min_score</th>\n",
       "      <th>fselector__k</th>\n",
       "      <th>knn__n_neighbors</th>\n",
       "      <th>knn__p</th>\n",
       "    </tr>\n",
       "  </thead>\n",
       "  <tbody>\n",
       "    <tr>\n",
       "      <th>143</th>\n",
       "      <td>0.917265</td>\n",
       "      <td>0.050176</td>\n",
       "      <td>0.981693</td>\n",
       "      <td>0.842105</td>\n",
       "      <td>20.0</td>\n",
       "      <td>40.0</td>\n",
       "      <td>4.0</td>\n",
       "    </tr>\n",
       "    <tr>\n",
       "      <th>144</th>\n",
       "      <td>0.917025</td>\n",
       "      <td>0.050731</td>\n",
       "      <td>0.981693</td>\n",
       "      <td>0.840961</td>\n",
       "      <td>20.0</td>\n",
       "      <td>40.0</td>\n",
       "      <td>5.0</td>\n",
       "    </tr>\n",
       "    <tr>\n",
       "      <th>199</th>\n",
       "      <td>0.916716</td>\n",
       "      <td>0.046086</td>\n",
       "      <td>0.983982</td>\n",
       "      <td>0.856979</td>\n",
       "      <td>26.0</td>\n",
       "      <td>60.0</td>\n",
       "      <td>5.0</td>\n",
       "    </tr>\n",
       "    <tr>\n",
       "      <th>198</th>\n",
       "      <td>0.916487</td>\n",
       "      <td>0.046299</td>\n",
       "      <td>0.983982</td>\n",
       "      <td>0.856979</td>\n",
       "      <td>26.0</td>\n",
       "      <td>60.0</td>\n",
       "      <td>4.0</td>\n",
       "    </tr>\n",
       "    <tr>\n",
       "      <th>197</th>\n",
       "      <td>0.916476</td>\n",
       "      <td>0.047372</td>\n",
       "      <td>0.985126</td>\n",
       "      <td>0.853547</td>\n",
       "      <td>26.0</td>\n",
       "      <td>60.0</td>\n",
       "      <td>3.0</td>\n",
       "    </tr>\n",
       "  </tbody>\n",
       "</table>\n",
       "</div>"
      ],
      "text/plain": [
       "     mean_score  std_score  max_score  min_score  fselector__k  \\\n",
       "143    0.917265   0.050176   0.981693   0.842105          20.0   \n",
       "144    0.917025   0.050731   0.981693   0.840961          20.0   \n",
       "199    0.916716   0.046086   0.983982   0.856979          26.0   \n",
       "198    0.916487   0.046299   0.983982   0.856979          26.0   \n",
       "197    0.916476   0.047372   0.985126   0.853547          26.0   \n",
       "\n",
       "     knn__n_neighbors  knn__p  \n",
       "143              40.0     4.0  \n",
       "144              40.0     5.0  \n",
       "199              60.0     5.0  \n",
       "198              60.0     4.0  \n",
       "197              60.0     3.0  "
      ]
     },
     "execution_count": 27,
     "metadata": {},
     "output_type": "execute_result"
    }
   ],
   "source": [
    "KNN_results = get_search_results(GridSearch_KNN)\n",
    "KNN_results.head()"
   ]
  },
  {
   "cell_type": "markdown",
   "metadata": {},
   "source": [
    "We observe that the best grid search results all contain 20 or more features with a p value refering to a Minkowski distance parameter. \n",
    "\n",
    "The below function allows us to visualise the grid search based on the number of features entered."
   ]
  },
  {
   "cell_type": "code",
   "execution_count": 28,
   "metadata": {},
   "outputs": [],
   "source": [
    "import altair as alt\n",
    "\n",
    "def plot_GS_KNN(number_features):\n",
    "    results_KNN_x_features = KNN_results[KNN_results['fselector__k'] == number_features]\n",
    "\n",
    "    chart = alt.Chart(results_KNN_x_features, height = 100, width = 150,\n",
    "          title='KNN Performance Comparison with ' + str(number_features) + \" Features\"\n",
    "         ).mark_line(point=True).encode(\n",
    "    alt.X('knn__n_neighbors', title='Number of Neighbors'),\n",
    "    alt.Y('mean_score', title='AUC Score', scale=alt.Scale(zero=False)),\n",
    "    alt.Color('knn__p:N', title='p')\n",
    "    )\n",
    "    return chart\n"
   ]
  },
  {
   "cell_type": "code",
   "execution_count": 29,
   "metadata": {},
   "outputs": [
    {
     "data": {
      "application/vnd.vegalite.v2+json": {
       "$schema": "https://vega.github.io/schema/vega-lite/v2.6.0.json",
       "config": {
        "view": {
         "height": 300,
         "width": 400
        }
       },
       "data": {
        "name": "data-2f83713f3a1f315d6e94240bc76aacf0"
       },
       "datasets": {
        "data-2f83713f3a1f315d6e94240bc76aacf0": [
         {
          "fselector__k": 20,
          "knn__n_neighbors": 40,
          "knn__p": 4,
          "max_score": 0.9816933638443935,
          "mean_score": 0.9172654462242564,
          "min_score": 0.8421052631578948,
          "std_score": 0.05017564152385316
         },
         {
          "fselector__k": 20,
          "knn__n_neighbors": 40,
          "knn__p": 5,
          "max_score": 0.9816933638443935,
          "mean_score": 0.917025171624714,
          "min_score": 0.8409610983981693,
          "std_score": 0.05073063974629617
         },
         {
          "fselector__k": 20,
          "knn__n_neighbors": 40,
          "knn__p": 3,
          "max_score": 0.9816933638443937,
          "mean_score": 0.9164187643020595,
          "min_score": 0.8432494279176203,
          "std_score": 0.04948805562682022
         },
         {
          "fselector__k": 20,
          "knn__n_neighbors": 40,
          "knn__p": 2,
          "max_score": 0.9816933638443937,
          "mean_score": 0.9159954233409611,
          "min_score": 0.8443935926773455,
          "std_score": 0.04853408271178056
         },
         {
          "fselector__k": 20,
          "knn__n_neighbors": 35,
          "knn__p": 5,
          "max_score": 0.982837528604119,
          "mean_score": 0.9151487414187642,
          "min_score": 0.8501144164759725,
          "std_score": 0.046870027528730575
         },
         {
          "fselector__k": 20,
          "knn__n_neighbors": 35,
          "knn__p": 3,
          "max_score": 0.9839816933638443,
          "mean_score": 0.9144508009153318,
          "min_score": 0.8443935926773455,
          "std_score": 0.04902074537007335
         },
         {
          "fselector__k": 20,
          "knn__n_neighbors": 35,
          "knn__p": 4,
          "max_score": 0.982837528604119,
          "mean_score": 0.9140045766590388,
          "min_score": 0.8443935926773455,
          "std_score": 0.048485625685121346
         },
         {
          "fselector__k": 20,
          "knn__n_neighbors": 40,
          "knn__p": 1,
          "max_score": 0.982837528604119,
          "mean_score": 0.9135469107551488,
          "min_score": 0.8398169336384439,
          "std_score": 0.049668749670701756
         },
         {
          "fselector__k": 20,
          "knn__n_neighbors": 30,
          "knn__p": 4,
          "max_score": 0.9816933638443937,
          "mean_score": 0.9131922196796338,
          "min_score": 0.8558352402745996,
          "std_score": 0.0451453488108914
         },
         {
          "fselector__k": 20,
          "knn__n_neighbors": 30,
          "knn__p": 3,
          "max_score": 0.9816933638443937,
          "mean_score": 0.9129748283752861,
          "min_score": 0.8546910755148741,
          "std_score": 0.04521472768445026
         },
         {
          "fselector__k": 20,
          "knn__n_neighbors": 30,
          "knn__p": 5,
          "max_score": 0.9816933638443937,
          "mean_score": 0.912745995423341,
          "min_score": 0.8546910755148741,
          "std_score": 0.045413143204487
         },
         {
          "fselector__k": 20,
          "knn__n_neighbors": 35,
          "knn__p": 1,
          "max_score": 0.9816933638443937,
          "mean_score": 0.9126430205949656,
          "min_score": 0.8455377574370709,
          "std_score": 0.049368210187293704
         },
         {
          "fselector__k": 20,
          "knn__n_neighbors": 35,
          "knn__p": 2,
          "max_score": 0.9839816933638443,
          "mean_score": 0.9124141876430206,
          "min_score": 0.8421052631578948,
          "std_score": 0.050587042321731036
         },
         {
          "fselector__k": 20,
          "knn__n_neighbors": 30,
          "knn__p": 2,
          "max_score": 0.9839816933638443,
          "mean_score": 0.9123112128146452,
          "min_score": 0.8569794050343249,
          "std_score": 0.04657127821938601
         },
         {
          "fselector__k": 20,
          "knn__n_neighbors": 15,
          "knn__p": 4,
          "max_score": 0.9816933638443935,
          "mean_score": 0.911704805491991,
          "min_score": 0.8718535469107551,
          "std_score": 0.03871184030920733
         },
         {
          "fselector__k": 20,
          "knn__n_neighbors": 15,
          "knn__p": 3,
          "max_score": 0.9839816933638444,
          "mean_score": 0.9114874141876431,
          "min_score": 0.8695652173913044,
          "std_score": 0.03997514858818353
         },
         {
          "fselector__k": 20,
          "knn__n_neighbors": 15,
          "knn__p": 5,
          "max_score": 0.9816933638443935,
          "mean_score": 0.9114874141876431,
          "min_score": 0.8718535469107551,
          "std_score": 0.03867011825235847
         },
         {
          "fselector__k": 20,
          "knn__n_neighbors": 15,
          "knn__p": 2,
          "max_score": 0.9851258581235698,
          "mean_score": 0.9108123569794051,
          "min_score": 0.8661327231121282,
          "std_score": 0.04116704169491518
         },
         {
          "fselector__k": 20,
          "knn__n_neighbors": 60,
          "knn__p": 2,
          "max_score": 0.9828375286041189,
          "mean_score": 0.9103661327231121,
          "min_score": 0.8329519450800915,
          "std_score": 0.05203641201163003
         },
         {
          "fselector__k": 20,
          "knn__n_neighbors": 60,
          "knn__p": 1,
          "max_score": 0.9782608695652174,
          "mean_score": 0.9103432494279176,
          "min_score": 0.8386727688787184,
          "std_score": 0.04984992584913235
         },
         {
          "fselector__k": 20,
          "knn__n_neighbors": 30,
          "knn__p": 1,
          "max_score": 0.9862700228832952,
          "mean_score": 0.9091075514874142,
          "min_score": 0.8615560640732265,
          "std_score": 0.044831032659885015
         },
         {
          "fselector__k": 20,
          "knn__n_neighbors": 60,
          "knn__p": 5,
          "max_score": 0.9851258581235698,
          "mean_score": 0.9090503432494279,
          "min_score": 0.8318077803203662,
          "std_score": 0.05301361692855938
         },
         {
          "fselector__k": 20,
          "knn__n_neighbors": 10,
          "knn__p": 1,
          "max_score": 0.9839816933638443,
          "mean_score": 0.9090503432494279,
          "min_score": 0.8663043478260869,
          "std_score": 0.04259546380855858
         },
         {
          "fselector__k": 20,
          "knn__n_neighbors": 60,
          "knn__p": 3,
          "max_score": 0.9851258581235698,
          "mean_score": 0.9088329519450801,
          "min_score": 0.8318077803203662,
          "std_score": 0.052860629835008936
         },
         {
          "fselector__k": 20,
          "knn__n_neighbors": 60,
          "knn__p": 4,
          "max_score": 0.9851258581235698,
          "mean_score": 0.9086270022883296,
          "min_score": 0.8329519450800916,
          "std_score": 0.05242579160095011
         },
         {
          "fselector__k": 20,
          "knn__n_neighbors": 15,
          "knn__p": 1,
          "max_score": 0.9839816933638444,
          "mean_score": 0.9080091533180779,
          "min_score": 0.8672768878718535,
          "std_score": 0.041439698491073894
         },
         {
          "fselector__k": 20,
          "knn__n_neighbors": 10,
          "knn__p": 2,
          "max_score": 0.9851258581235698,
          "mean_score": 0.9073340961098397,
          "min_score": 0.8663043478260869,
          "std_score": 0.04195149017024859
         },
         {
          "fselector__k": 20,
          "knn__n_neighbors": 20,
          "knn__p": 4,
          "max_score": 0.9816933638443937,
          "mean_score": 0.9069679633867278,
          "min_score": 0.8546910755148741,
          "std_score": 0.04227536900068686
         },
         {
          "fselector__k": 20,
          "knn__n_neighbors": 20,
          "knn__p": 3,
          "max_score": 0.9816933638443935,
          "mean_score": 0.9069679633867276,
          "min_score": 0.8569794050343249,
          "std_score": 0.04201323142742245
         },
         {
          "fselector__k": 20,
          "knn__n_neighbors": 20,
          "knn__p": 5,
          "max_score": 0.9816933638443937,
          "mean_score": 0.9069565217391304,
          "min_score": 0.8558352402745995,
          "std_score": 0.042288221170376464
         },
         {
          "fselector__k": 20,
          "knn__n_neighbors": 20,
          "knn__p": 2,
          "max_score": 0.9816933638443935,
          "mean_score": 0.9065217391304348,
          "min_score": 0.8558352402745996,
          "std_score": 0.042273690592321285
         },
         {
          "fselector__k": 20,
          "knn__n_neighbors": 5,
          "knn__p": 1,
          "max_score": 0.9782608695652174,
          "mean_score": 0.9064302059496567,
          "min_score": 0.8695652173913044,
          "std_score": 0.03912990953385753
         },
         {
          "fselector__k": 20,
          "knn__n_neighbors": 25,
          "knn__p": 1,
          "max_score": 0.9794050343249427,
          "mean_score": 0.9064187643020596,
          "min_score": 0.8524027459954234,
          "std_score": 0.04316684207565807
         },
         {
          "fselector__k": 20,
          "knn__n_neighbors": 5,
          "knn__p": 2,
          "max_score": 0.9782608695652174,
          "mean_score": 0.9060983981693363,
          "min_score": 0.8728260869565216,
          "std_score": 0.03930580824773163
         },
         {
          "fselector__k": 20,
          "knn__n_neighbors": 10,
          "knn__p": 5,
          "max_score": 0.9816933638443937,
          "mean_score": 0.9057093821510298,
          "min_score": 0.868421052631579,
          "std_score": 0.04139366725134284
         },
         {
          "fselector__k": 20,
          "knn__n_neighbors": 10,
          "knn__p": 4,
          "max_score": 0.9816933638443937,
          "mean_score": 0.9056979405034324,
          "min_score": 0.8672768878718535,
          "std_score": 0.041643583053962076
         },
         {
          "fselector__k": 20,
          "knn__n_neighbors": 25,
          "knn__p": 2,
          "max_score": 0.982837528604119,
          "mean_score": 0.9044622425629291,
          "min_score": 0.8501144164759725,
          "std_score": 0.04484810617978681
         },
         {
          "fselector__k": 20,
          "knn__n_neighbors": 25,
          "knn__p": 5,
          "max_score": 0.9816933638443937,
          "mean_score": 0.9042906178489704,
          "min_score": 0.8535469107551489,
          "std_score": 0.04326153378694909
         },
         {
          "fselector__k": 20,
          "knn__n_neighbors": 20,
          "knn__p": 1,
          "max_score": 0.9782608695652175,
          "mean_score": 0.9040961098398169,
          "min_score": 0.8627002288329519,
          "std_score": 0.04082588616123719
         },
         {
          "fselector__k": 20,
          "knn__n_neighbors": 25,
          "knn__p": 4,
          "max_score": 0.9805491990846682,
          "mean_score": 0.9038672768878719,
          "min_score": 0.8535469107551489,
          "std_score": 0.0425334012140027
         },
         {
          "fselector__k": 20,
          "knn__n_neighbors": 5,
          "knn__p": 3,
          "max_score": 0.9782608695652174,
          "mean_score": 0.903466819221968,
          "min_score": 0.8535469107551489,
          "std_score": 0.042504074611397956
         },
         {
          "fselector__k": 20,
          "knn__n_neighbors": 25,
          "knn__p": 3,
          "max_score": 0.9805491990846681,
          "mean_score": 0.9031693363844393,
          "min_score": 0.8535469107551489,
          "std_score": 0.043113846788560777
         },
         {
          "fselector__k": 20,
          "knn__n_neighbors": 5,
          "knn__p": 5,
          "max_score": 0.9782608695652174,
          "mean_score": 0.9030434782608696,
          "min_score": 0.8535469107551489,
          "std_score": 0.04221297224910502
         },
         {
          "fselector__k": 20,
          "knn__n_neighbors": 5,
          "knn__p": 4,
          "max_score": 0.9782608695652174,
          "mean_score": 0.9030434782608696,
          "min_score": 0.8535469107551489,
          "std_score": 0.04221297224910502
         },
         {
          "fselector__k": 20,
          "knn__n_neighbors": 10,
          "knn__p": 3,
          "max_score": 0.9851258581235698,
          "mean_score": 0.9023569794050343,
          "min_score": 0.8619565217391304,
          "std_score": 0.0452005818124118
         },
         {
          "fselector__k": 20,
          "knn__n_neighbors": 1,
          "knn__p": 1,
          "max_score": 0.8867276887871854,
          "mean_score": 0.8002745995423342,
          "min_score": 0.6853546910755148,
          "std_score": 0.07042174134297073
         },
         {
          "fselector__k": 20,
          "knn__n_neighbors": 1,
          "knn__p": 4,
          "max_score": 0.8867276887871854,
          "mean_score": 0.7909267734553777,
          "min_score": 0.6853546910755148,
          "std_score": 0.06710749780224273
         },
         {
          "fselector__k": 20,
          "knn__n_neighbors": 1,
          "knn__p": 3,
          "max_score": 0.8867276887871854,
          "mean_score": 0.7909267734553777,
          "min_score": 0.6853546910755148,
          "std_score": 0.06710749780224273
         },
         {
          "fselector__k": 20,
          "knn__n_neighbors": 1,
          "knn__p": 2,
          "max_score": 0.8867276887871854,
          "mean_score": 0.7909267734553777,
          "min_score": 0.6853546910755148,
          "std_score": 0.06710749780224273
         },
         {
          "fselector__k": 20,
          "knn__n_neighbors": 1,
          "knn__p": 5,
          "max_score": 0.8604118993135011,
          "mean_score": 0.7856636155606407,
          "min_score": 0.6853546910755148,
          "std_score": 0.06004822143639639
         }
        ]
       },
       "encoding": {
        "color": {
         "field": "knn__p",
         "title": "p",
         "type": "nominal"
        },
        "x": {
         "field": "knn__n_neighbors",
         "title": "Number of Neighbors",
         "type": "quantitative"
        },
        "y": {
         "field": "mean_score",
         "scale": {
          "zero": false
         },
         "title": "AUC Score",
         "type": "quantitative"
        }
       },
       "height": 100,
       "mark": {
        "point": true,
        "type": "line"
       },
       "title": "KNN Performance Comparison with 20 Features",
       "width": 150
      },
      "image/png": "[encoded data removed]",
      "text/plain": [
       "<VegaLite 2 object>\n",
       "\n",
       "If you see this message, it means the renderer has not been properly enabled\n",
       "for the frontend that you are using. For more information, see\n",
       "https://altair-viz.github.io/user_guide/troubleshooting.html\n"
      ]
     },
     "execution_count": 29,
     "metadata": {},
     "output_type": "execute_result"
    }
   ],
   "source": [
    "plot_GS_KNN(20)"
   ]
  },
  {
   "cell_type": "markdown",
   "metadata": {},
   "source": [
    "We observe that the KNN performance with 40 neighbours had overall better results. We also observe that the p value distribitions are very similar in both cases."
   ]
  },
  {
   "cell_type": "markdown",
   "metadata": {},
   "source": [
    "## (Gaussian) Naive Bayes (NB)"
   ]
  },
  {
   "cell_type": "markdown",
   "metadata": {},
   "source": [
    "For the Gaussian Naive Bayes model, we want to optimise var_smoothing. To do this I used a NumPy logspace of 10, to 10 to the power of -2, with 200 different values. To meet the requirements of a Gaussian distribution, I need to first perform a power transformation on the train data before fitting the model."
   ]
  },
  {
   "cell_type": "code",
   "execution_count": 30,
   "metadata": {},
   "outputs": [],
   "source": [
    "from sklearn.preprocessing import PowerTransformer\n",
    "heart_train_transformed = PowerTransformer().fit_transform(heart_train)"
   ]
  },
  {
   "cell_type": "code",
   "execution_count": 31,
   "metadata": {},
   "outputs": [
    {
     "name": "stdout",
     "output_type": "stream",
     "text": [
      "Fitting 5 folds for each of 10 candidates, totalling 50 fits\n"
     ]
    },
    {
     "name": "stderr",
     "output_type": "stream",
     "text": [
      "[Parallel(n_jobs=-2)]: Using backend LokyBackend with 3 concurrent workers.\n",
      "[Parallel(n_jobs=-2)]: Done  50 out of  50 | elapsed:    1.3s finished\n"
     ]
    }
   ],
   "source": [
    "from sklearn.naive_bayes import GaussianNB\n",
    "from sklearn.model_selection import RandomizedSearchCV\n",
    "\n",
    "pipe_NB = Pipeline([('fselector', fs.SelectKBest()), \n",
    "                     ('nb', GaussianNB())])\n",
    "\n",
    "params_pipe_NB = {'fselector__k': [5,10, 20, heart.shape[1]],\n",
    "                  'nb__var_smoothing': np.logspace(1,-2, num=200)}\n",
    "\n",
    "\n",
    "gs_NB = RandomizedSearchCV(estimator=pipe_NB, \n",
    "                          param_distributions=params_pipe_NB, \n",
    "                          cv=cross_val_method,\n",
    "                          refit=True,\n",
    "                          n_jobs=-2,\n",
    "                          scoring='roc_auc',\n",
    "                          verbose=1) \n",
    "\n",
    "gs_NB.fit(heart_train_transformed, target_train);"
   ]
  },
  {
   "cell_type": "code",
   "execution_count": 32,
   "metadata": {},
   "outputs": [
    {
     "data": {
      "text/plain": [
       "{'nb__var_smoothing': 6.368249944718588, 'fselector__k': 26}"
      ]
     },
     "execution_count": 32,
     "metadata": {},
     "output_type": "execute_result"
    }
   ],
   "source": [
    "gs_NB.best_params_"
   ]
  },
  {
   "cell_type": "code",
   "execution_count": 33,
   "metadata": {},
   "outputs": [
    {
     "data": {
      "text/plain": [
       "0.9158693493372478"
      ]
     },
     "execution_count": 33,
     "metadata": {},
     "output_type": "execute_result"
    }
   ],
   "source": [
    "gs_NB.best_score_"
   ]
  },
  {
   "cell_type": "markdown",
   "metadata": {},
   "source": [
    "We observe the optimal parameters of the Gaussian NB model yields an AUC score of ~0.916 with a var_smoothing value of ~6.83. This however, is using all 26 features. This however looks as though it doesn't perform as well as the KNN which had a slightly higher score. This will be tested later on to see if each score are significantly different from one another."
   ]
  },
  {
   "cell_type": "code",
   "execution_count": 34,
   "metadata": {},
   "outputs": [
    {
     "data": {
      "text/html": [
       "<div>\n",
       "<style scoped>\n",
       "    .dataframe tbody tr th:only-of-type {\n",
       "        vertical-align: middle;\n",
       "    }\n",
       "\n",
       "    .dataframe tbody tr th {\n",
       "        vertical-align: top;\n",
       "    }\n",
       "\n",
       "    .dataframe thead th {\n",
       "        text-align: right;\n",
       "    }\n",
       "</style>\n",
       "<table border=\"1\" class=\"dataframe\">\n",
       "  <thead>\n",
       "    <tr style=\"text-align: right;\">\n",
       "      <th></th>\n",
       "      <th>mean_score</th>\n",
       "      <th>std_score</th>\n",
       "      <th>max_score</th>\n",
       "      <th>min_score</th>\n",
       "      <th>nb__var_smoothing</th>\n",
       "      <th>fselector__k</th>\n",
       "    </tr>\n",
       "  </thead>\n",
       "  <tbody>\n",
       "    <tr>\n",
       "      <th>0</th>\n",
       "      <td>0.915606</td>\n",
       "      <td>0.051768</td>\n",
       "      <td>0.979405</td>\n",
       "      <td>0.846682</td>\n",
       "      <td>6.368250</td>\n",
       "      <td>26.0</td>\n",
       "    </tr>\n",
       "    <tr>\n",
       "      <th>5</th>\n",
       "      <td>0.909497</td>\n",
       "      <td>0.053062</td>\n",
       "      <td>0.981693</td>\n",
       "      <td>0.846682</td>\n",
       "      <td>2.673842</td>\n",
       "      <td>26.0</td>\n",
       "    </tr>\n",
       "    <tr>\n",
       "      <th>3</th>\n",
       "      <td>0.903593</td>\n",
       "      <td>0.052762</td>\n",
       "      <td>0.977117</td>\n",
       "      <td>0.842105</td>\n",
       "      <td>0.977124</td>\n",
       "      <td>20.0</td>\n",
       "    </tr>\n",
       "    <tr>\n",
       "      <th>4</th>\n",
       "      <td>0.900069</td>\n",
       "      <td>0.054924</td>\n",
       "      <td>0.967963</td>\n",
       "      <td>0.812357</td>\n",
       "      <td>0.027364</td>\n",
       "      <td>10.0</td>\n",
       "    </tr>\n",
       "    <tr>\n",
       "      <th>8</th>\n",
       "      <td>0.900023</td>\n",
       "      <td>0.054291</td>\n",
       "      <td>0.967963</td>\n",
       "      <td>0.816934</td>\n",
       "      <td>0.130490</td>\n",
       "      <td>10.0</td>\n",
       "    </tr>\n",
       "  </tbody>\n",
       "</table>\n",
       "</div>"
      ],
      "text/plain": [
       "   mean_score  std_score  max_score  min_score  nb__var_smoothing  \\\n",
       "0    0.915606   0.051768   0.979405   0.846682           6.368250   \n",
       "5    0.909497   0.053062   0.981693   0.846682           2.673842   \n",
       "3    0.903593   0.052762   0.977117   0.842105           0.977124   \n",
       "4    0.900069   0.054924   0.967963   0.812357           0.027364   \n",
       "8    0.900023   0.054291   0.967963   0.816934           0.130490   \n",
       "\n",
       "   fselector__k  \n",
       "0          26.0  \n",
       "5          26.0  \n",
       "3          20.0  \n",
       "4          10.0  \n",
       "8          10.0  "
      ]
     },
     "execution_count": 34,
     "metadata": {},
     "output_type": "execute_result"
    }
   ],
   "source": [
    "results_NB = get_search_results(gs_NB)\n",
    "results_NB.head()"
   ]
  },
  {
   "cell_type": "markdown",
   "metadata": {},
   "source": [
    "We observe that all 26 features yield the best result for this model. However 20 features yield a score slightly less than the best parameter score. \n",
    "\n",
    "Below is a function to plot the distribution of var_smoothing with the AUC score, with the input being the number of features you want to visualise."
   ]
  },
  {
   "cell_type": "code",
   "execution_count": 35,
   "metadata": {},
   "outputs": [],
   "source": [
    "def plot_GS_NB(number_features):\n",
    "    results_NB_x_features = results_NB[results_NB['fselector__k'] == number_features]\n",
    "\n",
    "    chart = alt.Chart(results_NB_x_features,height = 100, width = 150,\n",
    "          title='NB Performance Comparison with ' + str(number_features) + \" Features\"\n",
    "         ).mark_line(point=True).encode(\n",
    "    alt.X('nb__var_smoothing', title='Var. Smoothing'),\n",
    "    alt.Y('mean_score', title='AUC Score', scale=alt.Scale(zero=False)),\n",
    "    )\n",
    "    return chart\n"
   ]
  },
  {
   "cell_type": "code",
   "execution_count": 36,
   "metadata": {},
   "outputs": [
    {
     "data": {
      "application/vnd.vegalite.v2+json": {
       "$schema": "https://vega.github.io/schema/vega-lite/v2.6.0.json",
       "config": {
        "view": {
         "height": 300,
         "width": 400
        }
       },
       "data": {
        "name": "data-1fa8e098c97da4e9dae2fcb0532fa544"
       },
       "datasets": {
        "data-1fa8e098c97da4e9dae2fcb0532fa544": [
         {
          "fselector__k": 10,
          "max_score": 0.9679633867276888,
          "mean_score": 0.9000686498855837,
          "min_score": 0.8123569794050344,
          "nb__var_smoothing": 0.02736439997074672,
          "std_score": 0.054923703148842484
         },
         {
          "fselector__k": 10,
          "max_score": 0.9679633867276888,
          "mean_score": 0.9000228832951944,
          "min_score": 0.816933638443936,
          "nb__var_smoothing": 0.1304901978014403,
          "std_score": 0.05429065522420241
         },
         {
          "fselector__k": 10,
          "max_score": 0.9679633867276888,
          "mean_score": 0.8991533180778031,
          "min_score": 0.816933638443936,
          "nb__var_smoothing": 0.09884959046625587,
          "std_score": 0.05435365980974977
         }
        ]
       },
       "encoding": {
        "x": {
         "field": "nb__var_smoothing",
         "title": "Var. Smoothing",
         "type": "quantitative"
        },
        "y": {
         "field": "mean_score",
         "scale": {
          "zero": false
         },
         "title": "AUC Score",
         "type": "quantitative"
        }
       },
       "height": 100,
       "mark": {
        "point": true,
        "type": "line"
       },
       "title": "NB Performance Comparison with 10 Features",
       "width": 150
      },
      "image/png": "[encoded data removed]",
      "text/plain": [
       "<VegaLite 2 object>\n",
       "\n",
       "If you see this message, it means the renderer has not been properly enabled\n",
       "for the frontend that you are using. For more information, see\n",
       "https://altair-viz.github.io/user_guide/troubleshooting.html\n"
      ]
     },
     "execution_count": 36,
     "metadata": {},
     "output_type": "execute_result"
    }
   ],
   "source": [
    "plot_GS_NB(10)"
   ]
  },
  {
   "cell_type": "markdown",
   "metadata": {},
   "source": [
    "## Bernoulli NB\n",
    "\n",
    "In this section I will look at fitting a Bernoulli Naive Bayes (NB) model to this data. For Bernoulli NB, features are assumed independant boolean/binary variables which describe the input. Assuming all features are independant, we will begin to build this model by transforming the original data set into a set of binary variables. For this, we could either take the non-binary variables and bin them, for example, we could bin age into age group columns and give a binary 0 or 1 if a patient falls into that age group, or we could take away all the variables that are not binary. In this case we will do both by removing any non-binary variables and re-training the model and also binning all continous variables into binary columns. Since the target column is binary we do not have to binarize this column."
   ]
  },
  {
   "cell_type": "markdown",
   "metadata": {},
   "source": [
    "### Removing Non-Binary Features"
   ]
  },
  {
   "cell_type": "markdown",
   "metadata": {},
   "source": [
    "In this section I will remove the non-binary features and run a Bernoulli NB model on only the binary features"
   ]
  },
  {
   "cell_type": "code",
   "execution_count": 37,
   "metadata": {},
   "outputs": [],
   "source": [
    "from sklearn.naive_bayes import BernoulliNB"
   ]
  },
  {
   "cell_type": "code",
   "execution_count": 38,
   "metadata": {},
   "outputs": [
    {
     "data": {
      "text/html": [
       "<div>\n",
       "<style scoped>\n",
       "    .dataframe tbody tr th:only-of-type {\n",
       "        vertical-align: middle;\n",
       "    }\n",
       "\n",
       "    .dataframe tbody tr th {\n",
       "        vertical-align: top;\n",
       "    }\n",
       "\n",
       "    .dataframe thead th {\n",
       "        text-align: right;\n",
       "    }\n",
       "</style>\n",
       "<table border=\"1\" class=\"dataframe\">\n",
       "  <thead>\n",
       "    <tr style=\"text-align: right;\">\n",
       "      <th></th>\n",
       "      <th>age</th>\n",
       "      <th>sex</th>\n",
       "      <th>trestbps</th>\n",
       "      <th>chol</th>\n",
       "      <th>fbs</th>\n",
       "      <th>thalach</th>\n",
       "      <th>exang</th>\n",
       "      <th>oldpeak</th>\n",
       "      <th>cp_0</th>\n",
       "      <th>cp_1</th>\n",
       "      <th>...</th>\n",
       "      <th>slope_1</th>\n",
       "      <th>slope_2</th>\n",
       "      <th>ca_0</th>\n",
       "      <th>ca_1</th>\n",
       "      <th>ca_2</th>\n",
       "      <th>ca_3</th>\n",
       "      <th>thal_0</th>\n",
       "      <th>thal_1</th>\n",
       "      <th>thal_2</th>\n",
       "      <th>thal_3</th>\n",
       "    </tr>\n",
       "  </thead>\n",
       "  <tbody>\n",
       "    <tr>\n",
       "      <th>1.0</th>\n",
       "      <td>63</td>\n",
       "      <td>1</td>\n",
       "      <td>145.0</td>\n",
       "      <td>233.0</td>\n",
       "      <td>1</td>\n",
       "      <td>150.0</td>\n",
       "      <td>0</td>\n",
       "      <td>2.3</td>\n",
       "      <td>0</td>\n",
       "      <td>0</td>\n",
       "      <td>...</td>\n",
       "      <td>0</td>\n",
       "      <td>0</td>\n",
       "      <td>1</td>\n",
       "      <td>0</td>\n",
       "      <td>0</td>\n",
       "      <td>0</td>\n",
       "      <td>0</td>\n",
       "      <td>1</td>\n",
       "      <td>0</td>\n",
       "      <td>0</td>\n",
       "    </tr>\n",
       "    <tr>\n",
       "      <th>2.0</th>\n",
       "      <td>37</td>\n",
       "      <td>1</td>\n",
       "      <td>130.0</td>\n",
       "      <td>250.0</td>\n",
       "      <td>0</td>\n",
       "      <td>187.0</td>\n",
       "      <td>0</td>\n",
       "      <td>3.5</td>\n",
       "      <td>0</td>\n",
       "      <td>0</td>\n",
       "      <td>...</td>\n",
       "      <td>0</td>\n",
       "      <td>0</td>\n",
       "      <td>1</td>\n",
       "      <td>0</td>\n",
       "      <td>0</td>\n",
       "      <td>0</td>\n",
       "      <td>0</td>\n",
       "      <td>0</td>\n",
       "      <td>1</td>\n",
       "      <td>0</td>\n",
       "    </tr>\n",
       "    <tr>\n",
       "      <th>3.0</th>\n",
       "      <td>41</td>\n",
       "      <td>0</td>\n",
       "      <td>130.0</td>\n",
       "      <td>204.0</td>\n",
       "      <td>0</td>\n",
       "      <td>172.0</td>\n",
       "      <td>0</td>\n",
       "      <td>1.4</td>\n",
       "      <td>0</td>\n",
       "      <td>1</td>\n",
       "      <td>...</td>\n",
       "      <td>0</td>\n",
       "      <td>1</td>\n",
       "      <td>1</td>\n",
       "      <td>0</td>\n",
       "      <td>0</td>\n",
       "      <td>0</td>\n",
       "      <td>0</td>\n",
       "      <td>0</td>\n",
       "      <td>1</td>\n",
       "      <td>0</td>\n",
       "    </tr>\n",
       "    <tr>\n",
       "      <th>4.0</th>\n",
       "      <td>56</td>\n",
       "      <td>1</td>\n",
       "      <td>120.0</td>\n",
       "      <td>236.0</td>\n",
       "      <td>0</td>\n",
       "      <td>178.0</td>\n",
       "      <td>0</td>\n",
       "      <td>0.8</td>\n",
       "      <td>0</td>\n",
       "      <td>1</td>\n",
       "      <td>...</td>\n",
       "      <td>0</td>\n",
       "      <td>1</td>\n",
       "      <td>1</td>\n",
       "      <td>0</td>\n",
       "      <td>0</td>\n",
       "      <td>0</td>\n",
       "      <td>0</td>\n",
       "      <td>0</td>\n",
       "      <td>1</td>\n",
       "      <td>0</td>\n",
       "    </tr>\n",
       "    <tr>\n",
       "      <th>5.0</th>\n",
       "      <td>57</td>\n",
       "      <td>0</td>\n",
       "      <td>120.0</td>\n",
       "      <td>354.0</td>\n",
       "      <td>0</td>\n",
       "      <td>163.0</td>\n",
       "      <td>1</td>\n",
       "      <td>0.6</td>\n",
       "      <td>1</td>\n",
       "      <td>0</td>\n",
       "      <td>...</td>\n",
       "      <td>0</td>\n",
       "      <td>1</td>\n",
       "      <td>1</td>\n",
       "      <td>0</td>\n",
       "      <td>0</td>\n",
       "      <td>0</td>\n",
       "      <td>0</td>\n",
       "      <td>0</td>\n",
       "      <td>1</td>\n",
       "      <td>0</td>\n",
       "    </tr>\n",
       "  </tbody>\n",
       "</table>\n",
       "<p>5 rows × 26 columns</p>\n",
       "</div>"
      ],
      "text/plain": [
       "     age  sex  trestbps   chol  fbs  thalach  exang  oldpeak  cp_0  cp_1  ...  \\\n",
       "1.0   63    1     145.0  233.0    1    150.0      0      2.3     0     0  ...   \n",
       "2.0   37    1     130.0  250.0    0    187.0      0      3.5     0     0  ...   \n",
       "3.0   41    0     130.0  204.0    0    172.0      0      1.4     0     1  ...   \n",
       "4.0   56    1     120.0  236.0    0    178.0      0      0.8     0     1  ...   \n",
       "5.0   57    0     120.0  354.0    0    163.0      1      0.6     1     0  ...   \n",
       "\n",
       "     slope_1  slope_2  ca_0  ca_1  ca_2  ca_3  thal_0  thal_1  thal_2  thal_3  \n",
       "1.0        0        0     1     0     0     0       0       1       0       0  \n",
       "2.0        0        0     1     0     0     0       0       0       1       0  \n",
       "3.0        0        1     1     0     0     0       0       0       1       0  \n",
       "4.0        0        1     1     0     0     0       0       0       1       0  \n",
       "5.0        0        1     1     0     0     0       0       0       1       0  \n",
       "\n",
       "[5 rows x 26 columns]"
      ]
     },
     "execution_count": 38,
     "metadata": {},
     "output_type": "execute_result"
    }
   ],
   "source": [
    "# Check for binary values\n",
    "heart_copy.head()"
   ]
  },
  {
   "cell_type": "markdown",
   "metadata": {},
   "source": [
    "Drop all non-binary variables"
   ]
  },
  {
   "cell_type": "code",
   "execution_count": 39,
   "metadata": {},
   "outputs": [],
   "source": [
    "heart_B = heart_copy.drop(['age', 'trestbps','chol','thalach', 'oldpeak'], axis=1)"
   ]
  },
  {
   "cell_type": "markdown",
   "metadata": {},
   "source": [
    "Now we need to re-train a model as we have changed the dataframe"
   ]
  },
  {
   "cell_type": "code",
   "execution_count": 40,
   "metadata": {},
   "outputs": [
    {
     "name": "stdout",
     "output_type": "stream",
     "text": [
      "(303, 21)\n",
      "(303, 1)\n"
     ]
    }
   ],
   "source": [
    "heart_B_sample = pd.DataFrame(heart_B).values\n",
    "target_B_sample = pd.DataFrame(target).values\n",
    "\n",
    "print(heart_B_sample.shape)\n",
    "print(target_B_sample.shape)"
   ]
  },
  {
   "cell_type": "code",
   "execution_count": 41,
   "metadata": {},
   "outputs": [
    {
     "name": "stdout",
     "output_type": "stream",
     "text": [
      "(212, 21)\n",
      "(91, 21)\n"
     ]
    }
   ],
   "source": [
    "heart_B_train, heart_B_test, \\\n",
    "target_B_train, target_B_test = train_test_split(heart_B_sample, target_B_sample, \n",
    "                                                    test_size = 0.3, random_state=999,\n",
    "                                                    stratify = target_sample)\n",
    "print(heart_B_train.shape)\n",
    "print(heart_B_test.shape)"
   ]
  },
  {
   "cell_type": "code",
   "execution_count": 42,
   "metadata": {},
   "outputs": [
    {
     "name": "stderr",
     "output_type": "stream",
     "text": [
      "[Parallel(n_jobs=-2)]: Using backend LokyBackend with 3 concurrent workers.\n"
     ]
    },
    {
     "name": "stdout",
     "output_type": "stream",
     "text": [
      "Fitting 5 folds for each of 5 candidates, totalling 25 fits\n"
     ]
    },
    {
     "name": "stderr",
     "output_type": "stream",
     "text": [
      "[Parallel(n_jobs=-2)]: Done  25 out of  25 | elapsed:    0.1s finished\n"
     ]
    }
   ],
   "source": [
    "pipe_b_NB = Pipeline([('fselector', fs.SelectKBest()), \n",
    "                     ('b_NB', BernoulliNB(binarize = None))])\n",
    "\n",
    "params_pipe_b_NB = {'fselector__k': [5, 10, 15, 20, heart_B.shape[1]]}\n",
    "\n",
    "gs_b_NB = RandomizedSearchCV(estimator=pipe_b_NB, \n",
    "                          param_distributions=params_pipe_b_NB, \n",
    "                          cv=cross_val_method,\n",
    "                          refit=True,\n",
    "                          n_jobs=-2,\n",
    "                          scoring='roc_auc',\n",
    "                          verbose=1) \n",
    "\n",
    "gs_b_NB.fit(heart_B_train, target_B_train);\n"
   ]
  },
  {
   "cell_type": "code",
   "execution_count": 43,
   "metadata": {},
   "outputs": [
    {
     "data": {
      "text/plain": [
       "{'fselector__k': 21}"
      ]
     },
     "execution_count": 43,
     "metadata": {},
     "output_type": "execute_result"
    }
   ],
   "source": [
    "gs_b_NB.best_params_"
   ]
  },
  {
   "cell_type": "code",
   "execution_count": 44,
   "metadata": {},
   "outputs": [
    {
     "data": {
      "text/plain": [
       "0.920098441345365"
      ]
     },
     "execution_count": 44,
     "metadata": {},
     "output_type": "execute_result"
    }
   ],
   "source": [
    "gs_b_NB.best_score_"
   ]
  },
  {
   "cell_type": "markdown",
   "metadata": {},
   "source": [
    "We observe that all 21 features yield the best results for this model, with an AUC score of 0.92"
   ]
  },
  {
   "cell_type": "code",
   "execution_count": 45,
   "metadata": {},
   "outputs": [
    {
     "data": {
      "text/html": [
       "<div>\n",
       "<style scoped>\n",
       "    .dataframe tbody tr th:only-of-type {\n",
       "        vertical-align: middle;\n",
       "    }\n",
       "\n",
       "    .dataframe tbody tr th {\n",
       "        vertical-align: top;\n",
       "    }\n",
       "\n",
       "    .dataframe thead th {\n",
       "        text-align: right;\n",
       "    }\n",
       "</style>\n",
       "<table border=\"1\" class=\"dataframe\">\n",
       "  <thead>\n",
       "    <tr style=\"text-align: right;\">\n",
       "      <th></th>\n",
       "      <th>mean_score</th>\n",
       "      <th>std_score</th>\n",
       "      <th>max_score</th>\n",
       "      <th>min_score</th>\n",
       "      <th>fselector__k</th>\n",
       "    </tr>\n",
       "  </thead>\n",
       "  <tbody>\n",
       "    <tr>\n",
       "      <th>4</th>\n",
       "      <td>0.920000</td>\n",
       "      <td>0.044110</td>\n",
       "      <td>0.986270</td>\n",
       "      <td>0.862700</td>\n",
       "      <td>21.0</td>\n",
       "    </tr>\n",
       "    <tr>\n",
       "      <th>3</th>\n",
       "      <td>0.917757</td>\n",
       "      <td>0.045337</td>\n",
       "      <td>0.986270</td>\n",
       "      <td>0.862700</td>\n",
       "      <td>20.0</td>\n",
       "    </tr>\n",
       "    <tr>\n",
       "      <th>2</th>\n",
       "      <td>0.915057</td>\n",
       "      <td>0.044119</td>\n",
       "      <td>0.979405</td>\n",
       "      <td>0.853547</td>\n",
       "      <td>15.0</td>\n",
       "    </tr>\n",
       "    <tr>\n",
       "      <th>1</th>\n",
       "      <td>0.912014</td>\n",
       "      <td>0.043745</td>\n",
       "      <td>0.973684</td>\n",
       "      <td>0.839817</td>\n",
       "      <td>10.0</td>\n",
       "    </tr>\n",
       "    <tr>\n",
       "      <th>0</th>\n",
       "      <td>0.865435</td>\n",
       "      <td>0.053362</td>\n",
       "      <td>0.947368</td>\n",
       "      <td>0.779176</td>\n",
       "      <td>5.0</td>\n",
       "    </tr>\n",
       "  </tbody>\n",
       "</table>\n",
       "</div>"
      ],
      "text/plain": [
       "   mean_score  std_score  max_score  min_score  fselector__k\n",
       "4    0.920000   0.044110   0.986270   0.862700          21.0\n",
       "3    0.917757   0.045337   0.986270   0.862700          20.0\n",
       "2    0.915057   0.044119   0.979405   0.853547          15.0\n",
       "1    0.912014   0.043745   0.973684   0.839817          10.0\n",
       "0    0.865435   0.053362   0.947368   0.779176           5.0"
      ]
     },
     "execution_count": 45,
     "metadata": {},
     "output_type": "execute_result"
    }
   ],
   "source": [
    "results_b_NB = get_search_results(gs_b_NB)\n",
    "results_b_NB.head()"
   ]
  },
  {
   "cell_type": "markdown",
   "metadata": {},
   "source": [
    "We observe that 10 or more features produces a relatively similar score to models with more features. With the 10 feature mean score at ~0.91 and the best having a score of 0.92. This model seems to be the best model so far, producing a result better than both previous models."
   ]
  },
  {
   "cell_type": "markdown",
   "metadata": {},
   "source": [
    "This function will let us visualise both results."
   ]
  },
  {
   "cell_type": "code",
   "execution_count": 46,
   "metadata": {},
   "outputs": [],
   "source": [
    "def plot_GS_b_NB(results):\n",
    "\n",
    "    chart = alt.Chart(results, height = 100, width = 150,\n",
    "          title='Bernoulli NB Performance Comparison'\n",
    "         ).mark_line(point=True).encode(\n",
    "    alt.X('fselector__k', title='Features'),\n",
    "    alt.Y('mean_score', title='AUC Score', scale=alt.Scale(zero=False)),\n",
    "    )\n",
    "    return chart"
   ]
  },
  {
   "cell_type": "code",
   "execution_count": 47,
   "metadata": {},
   "outputs": [
    {
     "data": {
      "application/vnd.vegalite.v2+json": {
       "$schema": "https://vega.github.io/schema/vega-lite/v2.6.0.json",
       "config": {
        "view": {
         "height": 300,
         "width": 400
        }
       },
       "data": {
        "name": "data-59c74e79a09026cf74f1d7e06927553d"
       },
       "datasets": {
        "data-59c74e79a09026cf74f1d7e06927553d": [
         {
          "fselector__k": 21,
          "max_score": 0.9862700228832952,
          "mean_score": 0.9200000000000002,
          "min_score": 0.862700228832952,
          "std_score": 0.044109734398846814
         },
         {
          "fselector__k": 20,
          "max_score": 0.9862700228832952,
          "mean_score": 0.9177574370709383,
          "min_score": 0.862700228832952,
          "std_score": 0.04533702293100608
         },
         {
          "fselector__k": 15,
          "max_score": 0.9794050343249427,
          "mean_score": 0.9150572082379863,
          "min_score": 0.8535469107551488,
          "std_score": 0.04411918303746742
         },
         {
          "fselector__k": 10,
          "max_score": 0.9736842105263158,
          "mean_score": 0.9120137299771167,
          "min_score": 0.8398169336384441,
          "std_score": 0.04374498160153588
         },
         {
          "fselector__k": 5,
          "max_score": 0.9473684210526315,
          "mean_score": 0.8654347826086957,
          "min_score": 0.7791762013729977,
          "std_score": 0.05336169536162084
         }
        ]
       },
       "encoding": {
        "x": {
         "field": "fselector__k",
         "title": "Features",
         "type": "quantitative"
        },
        "y": {
         "field": "mean_score",
         "scale": {
          "zero": false
         },
         "title": "AUC Score",
         "type": "quantitative"
        }
       },
       "height": 100,
       "mark": {
        "point": true,
        "type": "line"
       },
       "title": "Bernoulli NB Performance Comparison",
       "width": 150
      },
      "image/png": "[encoded data removed]",
      "text/plain": [
       "<VegaLite 2 object>\n",
       "\n",
       "If you see this message, it means the renderer has not been properly enabled\n",
       "for the frontend that you are using. For more information, see\n",
       "https://altair-viz.github.io/user_guide/troubleshooting.html\n"
      ]
     },
     "execution_count": 47,
     "metadata": {},
     "output_type": "execute_result"
    }
   ],
   "source": [
    "plot_GS_b_NB(results_b_NB)"
   ]
  },
  {
   "cell_type": "markdown",
   "metadata": {},
   "source": [
    "This distribution shows us that the score basically plateaus after 10 features, with incremental performance gains as the number of features goes increases."
   ]
  },
  {
   "cell_type": "markdown",
   "metadata": {},
   "source": [
    "### Binning Continuous Values"
   ]
  },
  {
   "cell_type": "markdown",
   "metadata": {},
   "source": [
    "In this section I will make a new dataframe that will bin all the continuous variables and parse them as a 0 or 1 if they fit into that category. First I will bin the values, then I will make dummies of these values and drop the real column. The values I need to make bins for are: age, trestbps, chol, thalach and oldpeak. To make the bins for these columns, I looked at their summary statistics and determined a suitable number of bins."
   ]
  },
  {
   "cell_type": "code",
   "execution_count": 48,
   "metadata": {},
   "outputs": [],
   "source": [
    "heart_bin_B = heart_copy"
   ]
  },
  {
   "cell_type": "code",
   "execution_count": 49,
   "metadata": {},
   "outputs": [
    {
     "data": {
      "text/plain": [
       "count    303.000000\n",
       "mean      54.366337\n",
       "std        9.082101\n",
       "min       29.000000\n",
       "25%       47.500000\n",
       "50%       55.000000\n",
       "75%       61.000000\n",
       "max       77.000000\n",
       "Name: age, dtype: float64"
      ]
     },
     "execution_count": 49,
     "metadata": {},
     "output_type": "execute_result"
    }
   ],
   "source": [
    "heart_bin_B['age'].describe()"
   ]
  },
  {
   "cell_type": "code",
   "execution_count": 50,
   "metadata": {},
   "outputs": [],
   "source": [
    "# Set up bins variables\n",
    "heart_bin_B['age_bins'] = pd.cut(heart_bin_B['age'], 5)"
   ]
  },
  {
   "cell_type": "code",
   "execution_count": 51,
   "metadata": {},
   "outputs": [
    {
     "data": {
      "text/plain": [
       "count    303.000000\n",
       "mean     131.623762\n",
       "std       17.538143\n",
       "min       94.000000\n",
       "25%      120.000000\n",
       "50%      130.000000\n",
       "75%      140.000000\n",
       "max      200.000000\n",
       "Name: trestbps, dtype: float64"
      ]
     },
     "execution_count": 51,
     "metadata": {},
     "output_type": "execute_result"
    }
   ],
   "source": [
    "heart_bin_B['trestbps'].describe()"
   ]
  },
  {
   "cell_type": "code",
   "execution_count": 52,
   "metadata": {},
   "outputs": [],
   "source": [
    "heart_bin_B['trestbps_bins'] = pd.cut(heart_bin_B['trestbps'], 5)"
   ]
  },
  {
   "cell_type": "code",
   "execution_count": 53,
   "metadata": {},
   "outputs": [
    {
     "data": {
      "text/plain": [
       "count    303.000000\n",
       "mean     246.264026\n",
       "std       51.830751\n",
       "min      126.000000\n",
       "25%      211.000000\n",
       "50%      240.000000\n",
       "75%      274.500000\n",
       "max      564.000000\n",
       "Name: chol, dtype: float64"
      ]
     },
     "execution_count": 53,
     "metadata": {},
     "output_type": "execute_result"
    }
   ],
   "source": [
    "heart_bin_B['chol'].describe()"
   ]
  },
  {
   "cell_type": "code",
   "execution_count": 54,
   "metadata": {},
   "outputs": [],
   "source": [
    "heart_bin_B['chol_bins'] = pd.cut(heart_bin_B['chol'], 5)"
   ]
  },
  {
   "cell_type": "code",
   "execution_count": 55,
   "metadata": {},
   "outputs": [
    {
     "data": {
      "text/plain": [
       "count    303.000000\n",
       "mean     149.646865\n",
       "std       22.905161\n",
       "min       71.000000\n",
       "25%      133.500000\n",
       "50%      153.000000\n",
       "75%      166.000000\n",
       "max      202.000000\n",
       "Name: thalach, dtype: float64"
      ]
     },
     "execution_count": 55,
     "metadata": {},
     "output_type": "execute_result"
    }
   ],
   "source": [
    "heart_bin_B['thalach'].describe()"
   ]
  },
  {
   "cell_type": "code",
   "execution_count": 56,
   "metadata": {},
   "outputs": [],
   "source": [
    "heart_bin_B['thalach_bins'] = pd.cut(heart_bin_B['thalach'], 5)"
   ]
  },
  {
   "cell_type": "code",
   "execution_count": 57,
   "metadata": {},
   "outputs": [
    {
     "data": {
      "text/plain": [
       "count    303.000000\n",
       "mean       1.039604\n",
       "std        1.161075\n",
       "min        0.000000\n",
       "25%        0.000000\n",
       "50%        0.800000\n",
       "75%        1.600000\n",
       "max        6.200000\n",
       "Name: oldpeak, dtype: float64"
      ]
     },
     "execution_count": 57,
     "metadata": {},
     "output_type": "execute_result"
    }
   ],
   "source": [
    "heart_bin_B['oldpeak'].describe()"
   ]
  },
  {
   "cell_type": "code",
   "execution_count": 58,
   "metadata": {},
   "outputs": [],
   "source": [
    "heart_bin_B['oldpeak_bins'] = pd.cut(heart_bin_B['oldpeak'], 4)"
   ]
  },
  {
   "cell_type": "markdown",
   "metadata": {},
   "source": [
    "Now we will make dummies of these columns and drop the original continuous columns"
   ]
  },
  {
   "cell_type": "code",
   "execution_count": 59,
   "metadata": {},
   "outputs": [],
   "source": [
    "heart_bin_B = pd.get_dummies(heart_bin_B)\n",
    "heart_bin_B = heart_bin_B.drop(['age', 'trestbps','chol','thalach', 'oldpeak'], axis=1)"
   ]
  },
  {
   "cell_type": "markdown",
   "metadata": {},
   "source": [
    "Now we will re run the Bernoulli Naive Bayes Classifier to see if our results have gotten better. First we must re-train the model as we have changed the dataframe"
   ]
  },
  {
   "cell_type": "code",
   "execution_count": 60,
   "metadata": {},
   "outputs": [
    {
     "name": "stdout",
     "output_type": "stream",
     "text": [
      "(303, 45)\n",
      "(303, 1)\n"
     ]
    }
   ],
   "source": [
    "heart_B_bins = pd.DataFrame(heart_bin_B).values\n",
    "target_B_bins = pd.DataFrame(target).values\n",
    "\n",
    "print(heart_B_bins.shape)\n",
    "print(target_B_bins.shape)"
   ]
  },
  {
   "cell_type": "code",
   "execution_count": 61,
   "metadata": {},
   "outputs": [
    {
     "name": "stdout",
     "output_type": "stream",
     "text": [
      "(212, 45)\n",
      "(91, 45)\n"
     ]
    }
   ],
   "source": [
    "heart_B_bin_train, heart_B_bin_test, \\\n",
    "target_B_bin_train, target_B_bin_test = train_test_split(heart_B_bins, target_B_bins, \n",
    "                                                    test_size = 0.3, random_state=999,\n",
    "                                                    stratify = target_sample)\n",
    "print(heart_B_bin_train.shape)\n",
    "print(heart_B_bin_test.shape)"
   ]
  },
  {
   "cell_type": "code",
   "execution_count": 62,
   "metadata": {},
   "outputs": [
    {
     "name": "stdout",
     "output_type": "stream",
     "text": [
      "Fitting 5 folds for each of 9 candidates, totalling 45 fits\n"
     ]
    },
    {
     "name": "stderr",
     "output_type": "stream",
     "text": [
      "[Parallel(n_jobs=-2)]: Using backend LokyBackend with 3 concurrent workers.\n",
      "[Parallel(n_jobs=-2)]: Done  45 out of  45 | elapsed:    0.2s finished\n"
     ]
    }
   ],
   "source": [
    "pipe_b_bins_NB = Pipeline([('fselector', fs.SelectKBest()), \n",
    "                     ('b_NB', BernoulliNB(binarize = None))])\n",
    "\n",
    "params_pipe_b_bins_NB = {'fselector__k': [5, 10, 15, 20, 25, 30, 35, 40, heart_B.shape[1]]}\n",
    "\n",
    "gs_b_NB_binned = RandomizedSearchCV(estimator=pipe_b_bins_NB, \n",
    "                          param_distributions=params_pipe_b_bins_NB, \n",
    "                          cv=cross_val_method,\n",
    "                          refit=True,\n",
    "                          n_jobs=-2,\n",
    "                          scoring='roc_auc',\n",
    "                          verbose=1) \n",
    "\n",
    "gs_b_NB_binned.fit(heart_B_bin_train, target_B_bin_train);"
   ]
  },
  {
   "cell_type": "code",
   "execution_count": 63,
   "metadata": {},
   "outputs": [
    {
     "data": {
      "text/plain": [
       "{'fselector__k': 40}"
      ]
     },
     "execution_count": 63,
     "metadata": {},
     "output_type": "execute_result"
    }
   ],
   "source": [
    "gs_b_NB_binned.best_params_"
   ]
  },
  {
   "cell_type": "code",
   "execution_count": 64,
   "metadata": {},
   "outputs": [
    {
     "data": {
      "text/plain": [
       "0.9140683692413972"
      ]
     },
     "execution_count": 64,
     "metadata": {},
     "output_type": "execute_result"
    }
   ],
   "source": [
    "gs_b_NB_binned.best_score_"
   ]
  },
  {
   "cell_type": "markdown",
   "metadata": {},
   "source": [
    "Binning the values didn't seem to give us a better classifier than the one before. In fact the top test result was lower than the non-binned one. Indicating that they didn't improve the overall score of the for this model."
   ]
  },
  {
   "cell_type": "code",
   "execution_count": 65,
   "metadata": {},
   "outputs": [
    {
     "data": {
      "text/html": [
       "<div>\n",
       "<style scoped>\n",
       "    .dataframe tbody tr th:only-of-type {\n",
       "        vertical-align: middle;\n",
       "    }\n",
       "\n",
       "    .dataframe tbody tr th {\n",
       "        vertical-align: top;\n",
       "    }\n",
       "\n",
       "    .dataframe thead th {\n",
       "        text-align: right;\n",
       "    }\n",
       "</style>\n",
       "<table border=\"1\" class=\"dataframe\">\n",
       "  <thead>\n",
       "    <tr style=\"text-align: right;\">\n",
       "      <th></th>\n",
       "      <th>mean_score</th>\n",
       "      <th>std_score</th>\n",
       "      <th>max_score</th>\n",
       "      <th>min_score</th>\n",
       "      <th>fselector__k</th>\n",
       "    </tr>\n",
       "  </thead>\n",
       "  <tbody>\n",
       "    <tr>\n",
       "      <th>7</th>\n",
       "      <td>0.913799</td>\n",
       "      <td>0.060516</td>\n",
       "      <td>0.990847</td>\n",
       "      <td>0.823799</td>\n",
       "      <td>40.0</td>\n",
       "    </tr>\n",
       "    <tr>\n",
       "      <th>4</th>\n",
       "      <td>0.912288</td>\n",
       "      <td>0.052352</td>\n",
       "      <td>0.979405</td>\n",
       "      <td>0.836384</td>\n",
       "      <td>25.0</td>\n",
       "    </tr>\n",
       "    <tr>\n",
       "      <th>5</th>\n",
       "      <td>0.911808</td>\n",
       "      <td>0.056426</td>\n",
       "      <td>0.983982</td>\n",
       "      <td>0.829519</td>\n",
       "      <td>30.0</td>\n",
       "    </tr>\n",
       "    <tr>\n",
       "      <th>8</th>\n",
       "      <td>0.910801</td>\n",
       "      <td>0.057641</td>\n",
       "      <td>0.979405</td>\n",
       "      <td>0.824943</td>\n",
       "      <td>21.0</td>\n",
       "    </tr>\n",
       "    <tr>\n",
       "      <th>6</th>\n",
       "      <td>0.909085</td>\n",
       "      <td>0.062169</td>\n",
       "      <td>0.988558</td>\n",
       "      <td>0.815789</td>\n",
       "      <td>35.0</td>\n",
       "    </tr>\n",
       "  </tbody>\n",
       "</table>\n",
       "</div>"
      ],
      "text/plain": [
       "   mean_score  std_score  max_score  min_score  fselector__k\n",
       "7    0.913799   0.060516   0.990847   0.823799          40.0\n",
       "4    0.912288   0.052352   0.979405   0.836384          25.0\n",
       "5    0.911808   0.056426   0.983982   0.829519          30.0\n",
       "8    0.910801   0.057641   0.979405   0.824943          21.0\n",
       "6    0.909085   0.062169   0.988558   0.815789          35.0"
      ]
     },
     "execution_count": 65,
     "metadata": {},
     "output_type": "execute_result"
    }
   ],
   "source": [
    "results_b__binned_NB = get_search_results(gs_b_NB_binned)\n",
    "results_b__binned_NB.head()"
   ]
  },
  {
   "cell_type": "markdown",
   "metadata": {},
   "source": [
    "For this version of the Bernoulli NB model, we observe that the classifier seems to be a bit less sensitive to the number of features, unlike previous models. "
   ]
  },
  {
   "cell_type": "code",
   "execution_count": 66,
   "metadata": {},
   "outputs": [
    {
     "data": {
      "application/vnd.vegalite.v2+json": {
       "$schema": "https://vega.github.io/schema/vega-lite/v2.6.0.json",
       "config": {
        "view": {
         "height": 300,
         "width": 400
        }
       },
       "data": {
        "name": "data-239958cf9635d7564d60ac2e4e95bdce"
       },
       "datasets": {
        "data-239958cf9635d7564d60ac2e4e95bdce": [
         {
          "fselector__k": 40,
          "max_score": 0.9908466819221968,
          "mean_score": 0.9137986270022882,
          "min_score": 0.8237986270022883,
          "std_score": 0.060516067185258815
         },
         {
          "fselector__k": 25,
          "max_score": 0.9794050343249427,
          "mean_score": 0.9122883295194507,
          "min_score": 0.8363844393592678,
          "std_score": 0.05235243855426921
         },
         {
          "fselector__k": 30,
          "max_score": 0.9839816933638443,
          "mean_score": 0.9118077803203661,
          "min_score": 0.8295194508009154,
          "std_score": 0.05642629913668934
         },
         {
          "fselector__k": 21,
          "max_score": 0.9794050343249427,
          "mean_score": 0.910800915331808,
          "min_score": 0.8249427917620138,
          "std_score": 0.05764113557654869
         },
         {
          "fselector__k": 35,
          "max_score": 0.988558352402746,
          "mean_score": 0.9090846681922198,
          "min_score": 0.8157894736842106,
          "std_score": 0.06216855204039837
         },
         {
          "fselector__k": 20,
          "max_score": 0.9816933638443935,
          "mean_score": 0.9090160183066361,
          "min_score": 0.8180778032036614,
          "std_score": 0.06003045096856035
         },
         {
          "fselector__k": 15,
          "max_score": 0.9771167048054921,
          "mean_score": 0.9050572082379864,
          "min_score": 0.8135011441647598,
          "std_score": 0.05818706778563395
         },
         {
          "fselector__k": 10,
          "max_score": 0.9736842105263158,
          "mean_score": 0.9050114416475974,
          "min_score": 0.8146453089244852,
          "std_score": 0.05453144460244132
         },
         {
          "fselector__k": 5,
          "max_score": 0.9473684210526315,
          "mean_score": 0.8654347826086957,
          "min_score": 0.7791762013729977,
          "std_score": 0.05336169536162084
         }
        ]
       },
       "encoding": {
        "x": {
         "field": "fselector__k",
         "title": "Features",
         "type": "quantitative"
        },
        "y": {
         "field": "mean_score",
         "scale": {
          "zero": false
         },
         "title": "AUC Score",
         "type": "quantitative"
        }
       },
       "height": 100,
       "mark": {
        "point": true,
        "type": "line"
       },
       "title": "Bernoulli NB Performance Comparison",
       "width": 150
      },
      "image/png": "[encoded data removed]",
      "text/plain": [
       "<VegaLite 2 object>\n",
       "\n",
       "If you see this message, it means the renderer has not been properly enabled\n",
       "for the frontend that you are using. For more information, see\n",
       "https://altair-viz.github.io/user_guide/troubleshooting.html\n"
      ]
     },
     "execution_count": 66,
     "metadata": {},
     "output_type": "execute_result"
    }
   ],
   "source": [
    "plot_GS_b_NB(results_b__binned_NB)"
   ]
  },
  {
   "cell_type": "markdown",
   "metadata": {},
   "source": [
    "This distribution is vastly different from the previous distribution, as we observe that the number of features doesn't always indicate how well the model performs."
   ]
  },
  {
   "cell_type": "markdown",
   "metadata": {},
   "source": [
    "## Decision Tree (DT)\n",
    "\n",
    "We want to build a Decision Tree to maximise the information gain. We will look to see which criterion, gini or entropy will give us the best result. To do this we will pipe in different values for these parameters in order to determine the best set of values. We will also look into different values for max_depth and min_samples_split, to find the best hyperparameters for this model."
   ]
  },
  {
   "cell_type": "code",
   "execution_count": 67,
   "metadata": {},
   "outputs": [],
   "source": [
    "from sklearn.tree import DecisionTreeClassifier"
   ]
  },
  {
   "cell_type": "code",
   "execution_count": 68,
   "metadata": {},
   "outputs": [],
   "source": [
    "DT_pipe = Pipeline([('fselector', fs.SelectKBest()), \n",
    "                     ('DT', DecisionTreeClassifier())])\n",
    "\n",
    "DT_pipe_params = {'fselector__k' : [5, 10, 15, 20,  heart.shape[1]],\n",
    "                  'DT__criterion': ['entropy', 'gini'],\n",
    "                 'DT__max_depth' : [2,3,5,9,10],\n",
    "                 'DT__min_samples_split' : [2,3,5,10,50,100]}\n",
    "\n",
    "GridSearch_DT = GridSearchCV(estimator=DT_pipe, \n",
    "                          param_grid=DT_pipe_params, \n",
    "                          cv=cross_val_method,\n",
    "                          refit=True,\n",
    "                          n_jobs=-2,\n",
    "                          scoring='roc_auc',\n",
    "                          verbose=0) "
   ]
  },
  {
   "cell_type": "code",
   "execution_count": 69,
   "metadata": {},
   "outputs": [
    {
     "data": {
      "text/plain": [
       "GridSearchCV(cv=StratifiedKFold(n_splits=5, random_state=999, shuffle=False),\n",
       "       error_score='raise-deprecating',\n",
       "       estimator=Pipeline(memory=None,\n",
       "     steps=[('fselector', SelectKBest(k=10, score_func=<function f_classif at 0x1a2567cd08>)), ('DT', DecisionTreeClassifier(class_weight=None, criterion='gini', max_depth=None,\n",
       "            max_features=None, max_leaf_nodes=None,\n",
       "            min_impurity_decrease=0.0, min_impurity_split=None,\n",
       "            min_samples_leaf=1, min_samples_split=2,\n",
       "            min_weight_fraction_leaf=0.0, presort=False, random_state=None,\n",
       "            splitter='best'))]),\n",
       "       fit_params=None, iid='warn', n_jobs=-2,\n",
       "       param_grid={'fselector__k': [5, 10, 15, 20, 26], 'DT__criterion': ['entropy', 'gini'], 'DT__max_depth': [2, 3, 5, 9, 10], 'DT__min_samples_split': [2, 3, 5, 10, 50, 100]},\n",
       "       pre_dispatch='2*n_jobs', refit=True, return_train_score='warn',\n",
       "       scoring='roc_auc', verbose=0)"
      ]
     },
     "execution_count": 69,
     "metadata": {},
     "output_type": "execute_result"
    }
   ],
   "source": [
    "GridSearch_DT.fit(heart_train, target_train)"
   ]
  },
  {
   "cell_type": "code",
   "execution_count": 70,
   "metadata": {},
   "outputs": [
    {
     "data": {
      "text/plain": [
       "{'DT__criterion': 'entropy',\n",
       " 'DT__max_depth': 5,\n",
       " 'DT__min_samples_split': 50,\n",
       " 'fselector__k': 20}"
      ]
     },
     "execution_count": 70,
     "metadata": {},
     "output_type": "execute_result"
    }
   ],
   "source": [
    "GridSearch_DT.best_params_"
   ]
  },
  {
   "cell_type": "code",
   "execution_count": 71,
   "metadata": {},
   "outputs": [
    {
     "data": {
      "text/plain": [
       "0.8630726220802211"
      ]
     },
     "execution_count": 71,
     "metadata": {},
     "output_type": "execute_result"
    }
   ],
   "source": [
    "GridSearch_DT.best_score_"
   ]
  },
  {
   "cell_type": "markdown",
   "metadata": {},
   "source": [
    "We observe that the best parameters are the criterion being entropy, max_depth = 5, min_samples_split = 50, all based on the 20 best features as selected by their f score. This yielded an AUC score of ~0.86, which is much worse than the previous models."
   ]
  },
  {
   "cell_type": "code",
   "execution_count": 72,
   "metadata": {},
   "outputs": [
    {
     "data": {
      "text/html": [
       "<div>\n",
       "<style scoped>\n",
       "    .dataframe tbody tr th:only-of-type {\n",
       "        vertical-align: middle;\n",
       "    }\n",
       "\n",
       "    .dataframe tbody tr th {\n",
       "        vertical-align: top;\n",
       "    }\n",
       "\n",
       "    .dataframe thead th {\n",
       "        text-align: right;\n",
       "    }\n",
       "</style>\n",
       "<table border=\"1\" class=\"dataframe\">\n",
       "  <thead>\n",
       "    <tr style=\"text-align: right;\">\n",
       "      <th></th>\n",
       "      <th>mean_score</th>\n",
       "      <th>std_score</th>\n",
       "      <th>max_score</th>\n",
       "      <th>min_score</th>\n",
       "      <th>DT__criterion</th>\n",
       "      <th>DT__max_depth</th>\n",
       "      <th>DT__min_samples_split</th>\n",
       "      <th>fselector__k</th>\n",
       "    </tr>\n",
       "  </thead>\n",
       "  <tbody>\n",
       "    <tr>\n",
       "      <th>83</th>\n",
       "      <td>0.8627</td>\n",
       "      <td>0.0783921</td>\n",
       "      <td>0.929062</td>\n",
       "      <td>0.710526</td>\n",
       "      <td>entropy</td>\n",
       "      <td>5</td>\n",
       "      <td>50</td>\n",
       "      <td>20</td>\n",
       "    </tr>\n",
       "    <tr>\n",
       "      <th>48</th>\n",
       "      <td>0.861178</td>\n",
       "      <td>0.0631719</td>\n",
       "      <td>0.911957</td>\n",
       "      <td>0.741419</td>\n",
       "      <td>entropy</td>\n",
       "      <td>3</td>\n",
       "      <td>10</td>\n",
       "      <td>20</td>\n",
       "    </tr>\n",
       "    <tr>\n",
       "      <th>47</th>\n",
       "      <td>0.861178</td>\n",
       "      <td>0.0631719</td>\n",
       "      <td>0.911957</td>\n",
       "      <td>0.741419</td>\n",
       "      <td>entropy</td>\n",
       "      <td>3</td>\n",
       "      <td>10</td>\n",
       "      <td>15</td>\n",
       "    </tr>\n",
       "    <tr>\n",
       "      <th>32</th>\n",
       "      <td>0.861178</td>\n",
       "      <td>0.0631719</td>\n",
       "      <td>0.911957</td>\n",
       "      <td>0.741419</td>\n",
       "      <td>entropy</td>\n",
       "      <td>3</td>\n",
       "      <td>2</td>\n",
       "      <td>15</td>\n",
       "    </tr>\n",
       "    <tr>\n",
       "      <th>43</th>\n",
       "      <td>0.861178</td>\n",
       "      <td>0.0631719</td>\n",
       "      <td>0.911957</td>\n",
       "      <td>0.741419</td>\n",
       "      <td>entropy</td>\n",
       "      <td>3</td>\n",
       "      <td>5</td>\n",
       "      <td>20</td>\n",
       "    </tr>\n",
       "  </tbody>\n",
       "</table>\n",
       "</div>"
      ],
      "text/plain": [
       "   mean_score  std_score max_score min_score DT__criterion DT__max_depth  \\\n",
       "83     0.8627  0.0783921  0.929062  0.710526       entropy             5   \n",
       "48   0.861178  0.0631719  0.911957  0.741419       entropy             3   \n",
       "47   0.861178  0.0631719  0.911957  0.741419       entropy             3   \n",
       "32   0.861178  0.0631719  0.911957  0.741419       entropy             3   \n",
       "43   0.861178  0.0631719  0.911957  0.741419       entropy             3   \n",
       "\n",
       "   DT__min_samples_split fselector__k  \n",
       "83                    50           20  \n",
       "48                    10           20  \n",
       "47                    10           15  \n",
       "32                     2           15  \n",
       "43                     5           20  "
      ]
     },
     "execution_count": 72,
     "metadata": {},
     "output_type": "execute_result"
    }
   ],
   "source": [
    "results_DT = get_search_results(GridSearch_DT)\n",
    "results_DT.head()"
   ]
  },
  {
   "cell_type": "markdown",
   "metadata": {},
   "source": [
    "From the table we can observe that the best criterion was always entropy, with the min_sample_spit seeming to play a big role in determining the best DT, as its values are quite erratic. the F-score selector was constantly above 15.\n",
    "\n",
    "Below we visualise the results on how to the model performed based on both the max_depth and the criterion, given the number of features as an input."
   ]
  },
  {
   "cell_type": "code",
   "execution_count": 73,
   "metadata": {},
   "outputs": [],
   "source": [
    "def plot_DT_MaxDepth(number_of_features):\n",
    "    results_DT_x_features = results_DT[results_DT['fselector__k'] == number_of_features]\n",
    "\n",
    "    chart = alt.Chart(results_DT_x_features, height = 100, width = 150, \n",
    "          title='DT Performance Comparison with ' + str(number_of_features) +' Features'\n",
    "             ).mark_line(point=True).encode(\n",
    "        alt.X('DT__min_samples_split', title='Min Samples for Split'),\n",
    "        alt.Y('mean_score', title='AUC Score', scale=alt.Scale(zero=False)),\n",
    "        alt.Color('DT__max_depth:N', title='Max Depth')\n",
    "    )\n",
    "    return chart"
   ]
  },
  {
   "cell_type": "code",
   "execution_count": 74,
   "metadata": {},
   "outputs": [
    {
     "data": {
      "application/vnd.vegalite.v2+json": {
       "$schema": "https://vega.github.io/schema/vega-lite/v2.6.0.json",
       "config": {
        "view": {
         "height": 300,
         "width": 400
        }
       },
       "data": {
        "name": "data-3468e039ef016e669ebc815ec5e2902a"
       },
       "datasets": {
        "data-3468e039ef016e669ebc815ec5e2902a": [
         {
          "DT__criterion": "entropy",
          "DT__max_depth": 5,
          "DT__min_samples_split": 50,
          "fselector__k": 20,
          "max_score": 0.9290617848970251,
          "mean_score": 0.8627002288329519,
          "min_score": 0.7105263157894737,
          "std_score": 0.0783920792445009
         },
         {
          "DT__criterion": "entropy",
          "DT__max_depth": 3,
          "DT__min_samples_split": 10,
          "fselector__k": 20,
          "max_score": 0.9119565217391304,
          "mean_score": 0.8611784897025171,
          "min_score": 0.7414187643020596,
          "std_score": 0.06317188018803394
         },
         {
          "DT__criterion": "entropy",
          "DT__max_depth": 3,
          "DT__min_samples_split": 5,
          "fselector__k": 20,
          "max_score": 0.9119565217391304,
          "mean_score": 0.8611784897025171,
          "min_score": 0.7414187643020596,
          "std_score": 0.06317188018803394
         },
         {
          "DT__criterion": "entropy",
          "DT__max_depth": 3,
          "DT__min_samples_split": 2,
          "fselector__k": 20,
          "max_score": 0.9119565217391304,
          "mean_score": 0.8611784897025171,
          "min_score": 0.7414187643020596,
          "std_score": 0.06317188018803394
         },
         {
          "DT__criterion": "entropy",
          "DT__max_depth": 3,
          "DT__min_samples_split": 3,
          "fselector__k": 20,
          "max_score": 0.9119565217391304,
          "mean_score": 0.8611784897025171,
          "min_score": 0.7414187643020596,
          "std_score": 0.06317188018803394
         },
         {
          "DT__criterion": "entropy",
          "DT__max_depth": 3,
          "DT__min_samples_split": 50,
          "fselector__k": 20,
          "max_score": 0.9061784897025171,
          "mean_score": 0.8581235697940504,
          "min_score": 0.7105263157894737,
          "std_score": 0.07497781598124285
         },
         {
          "DT__criterion": "entropy",
          "DT__max_depth": 10,
          "DT__min_samples_split": 50,
          "fselector__k": 20,
          "max_score": 0.9032608695652175,
          "mean_score": 0.8569794050343249,
          "min_score": 0.7105263157894737,
          "std_score": 0.07427613243515926
         },
         {
          "DT__criterion": "entropy",
          "DT__max_depth": 9,
          "DT__min_samples_split": 50,
          "fselector__k": 20,
          "max_score": 0.9032608695652175,
          "mean_score": 0.8565217391304347,
          "min_score": 0.7105263157894737,
          "std_score": 0.07401340856035998
         },
         {
          "DT__criterion": "gini",
          "DT__max_depth": 3,
          "DT__min_samples_split": 10,
          "fselector__k": 20,
          "max_score": 0.9184782608695652,
          "mean_score": 0.8495423340961098,
          "min_score": 0.7414187643020594,
          "std_score": 0.06407910033553853
         },
         {
          "DT__criterion": "gini",
          "DT__max_depth": 3,
          "DT__min_samples_split": 5,
          "fselector__k": 20,
          "max_score": 0.9184782608695652,
          "mean_score": 0.8460640732265446,
          "min_score": 0.7414187643020594,
          "std_score": 0.06542082967335246
         },
         {
          "DT__criterion": "gini",
          "DT__max_depth": 3,
          "DT__min_samples_split": 3,
          "fselector__k": 20,
          "max_score": 0.9184782608695652,
          "mean_score": 0.8460640732265446,
          "min_score": 0.7414187643020594,
          "std_score": 0.06542082967335246
         },
         {
          "DT__criterion": "gini",
          "DT__max_depth": 3,
          "DT__min_samples_split": 2,
          "fselector__k": 20,
          "max_score": 0.9184782608695652,
          "mean_score": 0.8460640732265446,
          "min_score": 0.7414187643020594,
          "std_score": 0.06542082967335246
         },
         {
          "DT__criterion": "entropy",
          "DT__max_depth": 2,
          "DT__min_samples_split": 2,
          "fselector__k": 20,
          "max_score": 0.9061784897025171,
          "mean_score": 0.8444851258581234,
          "min_score": 0.7036613272311212,
          "std_score": 0.0720381852096031
         },
         {
          "DT__criterion": "entropy",
          "DT__max_depth": 2,
          "DT__min_samples_split": 3,
          "fselector__k": 20,
          "max_score": 0.9061784897025171,
          "mean_score": 0.8444851258581234,
          "min_score": 0.7036613272311212,
          "std_score": 0.0720381852096031
         },
         {
          "DT__criterion": "entropy",
          "DT__max_depth": 2,
          "DT__min_samples_split": 5,
          "fselector__k": 20,
          "max_score": 0.9061784897025171,
          "mean_score": 0.8444851258581234,
          "min_score": 0.7036613272311212,
          "std_score": 0.0720381852096031
         },
         {
          "DT__criterion": "entropy",
          "DT__max_depth": 2,
          "DT__min_samples_split": 50,
          "fselector__k": 20,
          "max_score": 0.9061784897025171,
          "mean_score": 0.8444851258581234,
          "min_score": 0.7036613272311212,
          "std_score": 0.0720381852096031
         },
         {
          "DT__criterion": "entropy",
          "DT__max_depth": 2,
          "DT__min_samples_split": 10,
          "fselector__k": 20,
          "max_score": 0.9061784897025171,
          "mean_score": 0.8444851258581234,
          "min_score": 0.7036613272311212,
          "std_score": 0.0720381852096031
         },
         {
          "DT__criterion": "entropy",
          "DT__max_depth": 5,
          "DT__min_samples_split": 10,
          "fselector__k": 20,
          "max_score": 0.9050343249427918,
          "mean_score": 0.840812356979405,
          "min_score": 0.7173913043478262,
          "std_score": 0.0683852412347272
         },
         {
          "DT__criterion": "gini",
          "DT__max_depth": 5,
          "DT__min_samples_split": 10,
          "fselector__k": 20,
          "max_score": 0.9271739130434782,
          "mean_score": 0.8396453089244851,
          "min_score": 0.7151029748283753,
          "std_score": 0.07386382446370986
         },
         {
          "DT__criterion": "entropy",
          "DT__max_depth": 9,
          "DT__min_samples_split": 10,
          "fselector__k": 20,
          "max_score": 0.9130434782608695,
          "mean_score": 0.8354576659038901,
          "min_score": 0.7219679633867278,
          "std_score": 0.06226132524457512
         },
         {
          "DT__criterion": "gini",
          "DT__max_depth": 2,
          "DT__min_samples_split": 50,
          "fselector__k": 20,
          "max_score": 0.9061784897025171,
          "mean_score": 0.8310068649885582,
          "min_score": 0.7036613272311212,
          "std_score": 0.07633813772592905
         },
         {
          "DT__criterion": "gini",
          "DT__max_depth": 2,
          "DT__min_samples_split": 2,
          "fselector__k": 20,
          "max_score": 0.9061784897025171,
          "mean_score": 0.8310068649885582,
          "min_score": 0.7036613272311212,
          "std_score": 0.07633813772592905
         },
         {
          "DT__criterion": "gini",
          "DT__max_depth": 2,
          "DT__min_samples_split": 3,
          "fselector__k": 20,
          "max_score": 0.9061784897025171,
          "mean_score": 0.8310068649885582,
          "min_score": 0.7036613272311212,
          "std_score": 0.07633813772592905
         },
         {
          "DT__criterion": "gini",
          "DT__max_depth": 2,
          "DT__min_samples_split": 5,
          "fselector__k": 20,
          "max_score": 0.9061784897025171,
          "mean_score": 0.8310068649885582,
          "min_score": 0.7036613272311212,
          "std_score": 0.07633813772592905
         },
         {
          "DT__criterion": "gini",
          "DT__max_depth": 2,
          "DT__min_samples_split": 10,
          "fselector__k": 20,
          "max_score": 0.9061784897025171,
          "mean_score": 0.8310068649885582,
          "min_score": 0.7036613272311212,
          "std_score": 0.07633813772592905
         },
         {
          "DT__criterion": "gini",
          "DT__max_depth": 3,
          "DT__min_samples_split": 50,
          "fselector__k": 20,
          "max_score": 0.9061784897025171,
          "mean_score": 0.8310068649885582,
          "min_score": 0.7036613272311212,
          "std_score": 0.07633813772592905
         },
         {
          "DT__criterion": "gini",
          "DT__max_depth": 5,
          "DT__min_samples_split": 50,
          "fselector__k": 20,
          "max_score": 0.9108695652173913,
          "mean_score": 0.8291304347826086,
          "min_score": 0.7082379862700229,
          "std_score": 0.08159759528313787
         },
         {
          "DT__criterion": "entropy",
          "DT__max_depth": 9,
          "DT__min_samples_split": 5,
          "fselector__k": 20,
          "max_score": 0.875,
          "mean_score": 0.8291075514874142,
          "min_score": 0.7173913043478262,
          "std_score": 0.05719683410365035
         },
         {
          "DT__criterion": "gini",
          "DT__max_depth": 10,
          "DT__min_samples_split": 50,
          "fselector__k": 20,
          "max_score": 0.9004576659038901,
          "mean_score": 0.8258695652173913,
          "min_score": 0.7082379862700229,
          "std_score": 0.07853419224663849
         },
         {
          "DT__criterion": "entropy",
          "DT__max_depth": 10,
          "DT__min_samples_split": 10,
          "fselector__k": 20,
          "max_score": 0.8958810068649885,
          "mean_score": 0.8256178489702517,
          "min_score": 0.7070938215102975,
          "std_score": 0.06483944846590953
         },
         {
          "DT__criterion": "gini",
          "DT__max_depth": 9,
          "DT__min_samples_split": 50,
          "fselector__k": 20,
          "max_score": 0.8981693363844393,
          "mean_score": 0.8254118993135011,
          "min_score": 0.7082379862700229,
          "std_score": 0.07810367675794805
         },
         {
          "DT__criterion": "gini",
          "DT__max_depth": 10,
          "DT__min_samples_split": 10,
          "fselector__k": 20,
          "max_score": 0.902745995423341,
          "mean_score": 0.820720823798627,
          "min_score": 0.7151029748283753,
          "std_score": 0.06748031558560363
         },
         {
          "DT__criterion": "gini",
          "DT__max_depth": 5,
          "DT__min_samples_split": 5,
          "fselector__k": 20,
          "max_score": 0.8695652173913043,
          "mean_score": 0.8151830663615559,
          "min_score": 0.7311212814645309,
          "std_score": 0.047271504563684265
         },
         {
          "DT__criterion": "entropy",
          "DT__max_depth": 5,
          "DT__min_samples_split": 5,
          "fselector__k": 20,
          "max_score": 0.858695652173913,
          "mean_score": 0.813066361556064,
          "min_score": 0.7036613272311212,
          "std_score": 0.05733233222863217
         },
         {
          "DT__criterion": "entropy",
          "DT__max_depth": 5,
          "DT__min_samples_split": 2,
          "fselector__k": 20,
          "max_score": 0.8847826086956522,
          "mean_score": 0.8129405034324944,
          "min_score": 0.7345537757437071,
          "std_score": 0.051968643533058745
         },
         {
          "DT__criterion": "entropy",
          "DT__max_depth": 10,
          "DT__min_samples_split": 5,
          "fselector__k": 20,
          "max_score": 0.8569794050343249,
          "mean_score": 0.810629290617849,
          "min_score": 0.7173913043478262,
          "std_score": 0.0488703079866215
         },
         {
          "DT__criterion": "gini",
          "DT__max_depth": 5,
          "DT__min_samples_split": 3,
          "fselector__k": 20,
          "max_score": 0.9097826086956522,
          "mean_score": 0.8089359267734555,
          "min_score": 0.7322654462242563,
          "std_score": 0.06420922148170796
         },
         {
          "DT__criterion": "gini",
          "DT__max_depth": 9,
          "DT__min_samples_split": 10,
          "fselector__k": 20,
          "max_score": 0.902745995423341,
          "mean_score": 0.8085926773455376,
          "min_score": 0.7151029748283753,
          "std_score": 0.06229252016564309
         },
         {
          "DT__criterion": "gini",
          "DT__max_depth": 5,
          "DT__min_samples_split": 2,
          "fselector__k": 20,
          "max_score": 0.8913043478260869,
          "mean_score": 0.8072768878718535,
          "min_score": 0.7322654462242563,
          "std_score": 0.06121328941837738
         },
         {
          "DT__criterion": "entropy",
          "DT__max_depth": 5,
          "DT__min_samples_split": 3,
          "fselector__k": 20,
          "max_score": 0.8847826086956522,
          "mean_score": 0.8040160183066363,
          "min_score": 0.7013729977116705,
          "std_score": 0.06186056050130536
         },
         {
          "DT__criterion": "gini",
          "DT__max_depth": 10,
          "DT__min_samples_split": 5,
          "fselector__k": 20,
          "max_score": 0.8432494279176201,
          "mean_score": 0.8010183066361556,
          "min_score": 0.7242562929061785,
          "std_score": 0.04723339403468677
         },
         {
          "DT__criterion": "entropy",
          "DT__max_depth": 10,
          "DT__min_samples_split": 3,
          "fselector__k": 20,
          "max_score": 0.8558352402745995,
          "mean_score": 0.7993592677345537,
          "min_score": 0.711670480549199,
          "std_score": 0.04830114808062221
         },
         {
          "DT__criterion": "entropy",
          "DT__max_depth": 9,
          "DT__min_samples_split": 2,
          "fselector__k": 20,
          "max_score": 0.8380434782608697,
          "mean_score": 0.799096109839817,
          "min_score": 0.7379862700228833,
          "std_score": 0.03463219464678519
         },
         {
          "DT__criterion": "entropy",
          "DT__max_depth": 9,
          "DT__min_samples_split": 3,
          "fselector__k": 20,
          "max_score": 0.8565217391304348,
          "mean_score": 0.798020594965675,
          "min_score": 0.711670480549199,
          "std_score": 0.053310018935065005
         },
         {
          "DT__criterion": "gini",
          "DT__max_depth": 9,
          "DT__min_samples_split": 2,
          "fselector__k": 20,
          "max_score": 0.8558352402745995,
          "mean_score": 0.7946224256292906,
          "min_score": 0.7195652173913043,
          "std_score": 0.05499165793736469
         },
         {
          "DT__criterion": "entropy",
          "DT__max_depth": 10,
          "DT__min_samples_split": 2,
          "fselector__k": 20,
          "max_score": 0.851258581235698,
          "mean_score": 0.7937070938215103,
          "min_score": 0.7379862700228833,
          "std_score": 0.04083793148968911
         },
         {
          "DT__criterion": "gini",
          "DT__max_depth": 9,
          "DT__min_samples_split": 5,
          "fselector__k": 20,
          "max_score": 0.8569794050343249,
          "mean_score": 0.7924713958810068,
          "min_score": 0.7173913043478262,
          "std_score": 0.049263668960848855
         },
         {
          "DT__criterion": "gini",
          "DT__max_depth": 9,
          "DT__min_samples_split": 3,
          "fselector__k": 20,
          "max_score": 0.8315217391304348,
          "mean_score": 0.7882265446224256,
          "min_score": 0.7379862700228833,
          "std_score": 0.03279209735688556
         },
         {
          "DT__criterion": "entropy",
          "DT__max_depth": 3,
          "DT__min_samples_split": 100,
          "fselector__k": 20,
          "max_score": 0.8558352402745995,
          "mean_score": 0.7813157894736842,
          "min_score": 0.620137299771167,
          "std_score": 0.08252155054069757
         },
         {
          "DT__criterion": "gini",
          "DT__max_depth": 10,
          "DT__min_samples_split": 100,
          "fselector__k": 20,
          "max_score": 0.8558352402745995,
          "mean_score": 0.7813157894736842,
          "min_score": 0.620137299771167,
          "std_score": 0.08252155054069757
         },
         {
          "DT__criterion": "entropy",
          "DT__max_depth": 9,
          "DT__min_samples_split": 100,
          "fselector__k": 20,
          "max_score": 0.8558352402745995,
          "mean_score": 0.7813157894736842,
          "min_score": 0.620137299771167,
          "std_score": 0.08252155054069757
         },
         {
          "DT__criterion": "entropy",
          "DT__max_depth": 10,
          "DT__min_samples_split": 100,
          "fselector__k": 20,
          "max_score": 0.8558352402745995,
          "mean_score": 0.7813157894736842,
          "min_score": 0.620137299771167,
          "std_score": 0.08252155054069757
         },
         {
          "DT__criterion": "entropy",
          "DT__max_depth": 2,
          "DT__min_samples_split": 100,
          "fselector__k": 20,
          "max_score": 0.8558352402745995,
          "mean_score": 0.7813157894736842,
          "min_score": 0.620137299771167,
          "std_score": 0.08252155054069757
         },
         {
          "DT__criterion": "gini",
          "DT__max_depth": 9,
          "DT__min_samples_split": 100,
          "fselector__k": 20,
          "max_score": 0.8558352402745995,
          "mean_score": 0.7813157894736842,
          "min_score": 0.620137299771167,
          "std_score": 0.08252155054069757
         },
         {
          "DT__criterion": "gini",
          "DT__max_depth": 2,
          "DT__min_samples_split": 100,
          "fselector__k": 20,
          "max_score": 0.8558352402745995,
          "mean_score": 0.7813157894736842,
          "min_score": 0.620137299771167,
          "std_score": 0.08252155054069757
         },
         {
          "DT__criterion": "gini",
          "DT__max_depth": 3,
          "DT__min_samples_split": 100,
          "fselector__k": 20,
          "max_score": 0.8558352402745995,
          "mean_score": 0.7813157894736842,
          "min_score": 0.620137299771167,
          "std_score": 0.08252155054069757
         },
         {
          "DT__criterion": "entropy",
          "DT__max_depth": 5,
          "DT__min_samples_split": 100,
          "fselector__k": 20,
          "max_score": 0.8558352402745995,
          "mean_score": 0.7813157894736842,
          "min_score": 0.620137299771167,
          "std_score": 0.08252155054069757
         },
         {
          "DT__criterion": "gini",
          "DT__max_depth": 5,
          "DT__min_samples_split": 100,
          "fselector__k": 20,
          "max_score": 0.8558352402745995,
          "mean_score": 0.7813157894736842,
          "min_score": 0.620137299771167,
          "std_score": 0.08252155054069757
         },
         {
          "DT__criterion": "gini",
          "DT__max_depth": 10,
          "DT__min_samples_split": 2,
          "fselector__k": 20,
          "max_score": 0.851258581235698,
          "mean_score": 0.7800114416475973,
          "min_score": 0.7228260869565217,
          "std_score": 0.04983808332051845
         },
         {
          "DT__criterion": "gini",
          "DT__max_depth": 10,
          "DT__min_samples_split": 3,
          "fselector__k": 20,
          "max_score": 0.8295194508009154,
          "mean_score": 0.7712356979405034,
          "min_score": 0.6869565217391304,
          "std_score": 0.05110806603621859
         }
        ]
       },
       "encoding": {
        "color": {
         "field": "DT__max_depth",
         "title": "Max Depth",
         "type": "nominal"
        },
        "x": {
         "field": "DT__min_samples_split",
         "title": "Min Samples for Split",
         "type": "quantitative"
        },
        "y": {
         "field": "mean_score",
         "scale": {
          "zero": false
         },
         "title": "AUC Score",
         "type": "quantitative"
        }
       },
       "height": 100,
       "mark": {
        "point": true,
        "type": "line"
       },
       "title": "DT Performance Comparison with 20 Features",
       "width": 150
      },
      "image/png": "[encoded data removed]",
      "text/plain": [
       "<VegaLite 2 object>\n",
       "\n",
       "If you see this message, it means the renderer has not been properly enabled\n",
       "for the frontend that you are using. For more information, see\n",
       "https://altair-viz.github.io/user_guide/troubleshooting.html\n"
      ]
     },
     "execution_count": 74,
     "metadata": {},
     "output_type": "execute_result"
    }
   ],
   "source": [
    "plot_DT_MaxDepth(20)"
   ]
  },
  {
   "cell_type": "code",
   "execution_count": 75,
   "metadata": {},
   "outputs": [],
   "source": [
    "def plot_DT_Cr(number_of_features):\n",
    "    results_DT_x_features = results_DT[results_DT['fselector__k'] == number_of_features]\n",
    "\n",
    "    chart = alt.Chart(results_DT_x_features, height = 100, width = 150,\n",
    "          title='DT Performance Comparison with ' + str(number_of_features) +' Features'\n",
    "             ).mark_line(point=True).encode(\n",
    "        alt.X('DT__min_samples_split', title='Min Samples for Split'),\n",
    "        alt.Y('mean_score', title='AUC Score', scale=alt.Scale(zero=False)),\n",
    "        alt.Color('DT__criterion')\n",
    "    )\n",
    "    return chart"
   ]
  },
  {
   "cell_type": "code",
   "execution_count": 76,
   "metadata": {},
   "outputs": [
    {
     "data": {
      "application/vnd.vegalite.v2+json": {
       "$schema": "https://vega.github.io/schema/vega-lite/v2.6.0.json",
       "config": {
        "view": {
         "height": 300,
         "width": 400
        }
       },
       "data": {
        "name": "data-23e0f8cec8093f3278728ee0b4ba6936"
       },
       "datasets": {
        "data-23e0f8cec8093f3278728ee0b4ba6936": [
         {
          "DT__criterion": "entropy",
          "DT__max_depth": 2,
          "DT__min_samples_split": 3,
          "fselector__k": 10,
          "max_score": 0.9221967963386728,
          "mean_score": 0.8343020594965675,
          "min_score": 0.7036613272311212,
          "std_score": 0.08020022536430206
         },
         {
          "DT__criterion": "entropy",
          "DT__max_depth": 2,
          "DT__min_samples_split": 5,
          "fselector__k": 10,
          "max_score": 0.9221967963386728,
          "mean_score": 0.8343020594965675,
          "min_score": 0.7036613272311212,
          "std_score": 0.08020022536430206
         },
         {
          "DT__criterion": "entropy",
          "DT__max_depth": 2,
          "DT__min_samples_split": 10,
          "fselector__k": 10,
          "max_score": 0.9221967963386728,
          "mean_score": 0.8343020594965675,
          "min_score": 0.7036613272311212,
          "std_score": 0.08020022536430206
         },
         {
          "DT__criterion": "entropy",
          "DT__max_depth": 2,
          "DT__min_samples_split": 2,
          "fselector__k": 10,
          "max_score": 0.9221967963386728,
          "mean_score": 0.8343020594965675,
          "min_score": 0.7036613272311212,
          "std_score": 0.08020022536430206
         },
         {
          "DT__criterion": "entropy",
          "DT__max_depth": 2,
          "DT__min_samples_split": 50,
          "fselector__k": 10,
          "max_score": 0.9221967963386728,
          "mean_score": 0.8343020594965675,
          "min_score": 0.7036613272311212,
          "std_score": 0.08020022536430206
         },
         {
          "DT__criterion": "entropy",
          "DT__max_depth": 3,
          "DT__min_samples_split": 2,
          "fselector__k": 10,
          "max_score": 0.9010869565217391,
          "mean_score": 0.8336498855835239,
          "min_score": 0.7608695652173914,
          "std_score": 0.04987191465579229
         },
         {
          "DT__criterion": "entropy",
          "DT__max_depth": 3,
          "DT__min_samples_split": 5,
          "fselector__k": 10,
          "max_score": 0.9010869565217391,
          "mean_score": 0.8336498855835239,
          "min_score": 0.7608695652173914,
          "std_score": 0.04987191465579229
         },
         {
          "DT__criterion": "entropy",
          "DT__max_depth": 3,
          "DT__min_samples_split": 3,
          "fselector__k": 10,
          "max_score": 0.9010869565217391,
          "mean_score": 0.8336498855835239,
          "min_score": 0.7608695652173914,
          "std_score": 0.04987191465579229
         },
         {
          "DT__criterion": "entropy",
          "DT__max_depth": 3,
          "DT__min_samples_split": 10,
          "fselector__k": 10,
          "max_score": 0.9010869565217391,
          "mean_score": 0.8336498855835239,
          "min_score": 0.7608695652173914,
          "std_score": 0.04987191465579229
         },
         {
          "DT__criterion": "entropy",
          "DT__max_depth": 5,
          "DT__min_samples_split": 50,
          "fselector__k": 10,
          "max_score": 0.9107551487414187,
          "mean_score": 0.832974828375286,
          "min_score": 0.7105263157894737,
          "std_score": 0.07482789067646209
         },
         {
          "DT__criterion": "entropy",
          "DT__max_depth": 10,
          "DT__min_samples_split": 50,
          "fselector__k": 10,
          "max_score": 0.9107551487414187,
          "mean_score": 0.832974828375286,
          "min_score": 0.7105263157894737,
          "std_score": 0.07482789067646209
         },
         {
          "DT__criterion": "entropy",
          "DT__max_depth": 9,
          "DT__min_samples_split": 50,
          "fselector__k": 10,
          "max_score": 0.9107551487414187,
          "mean_score": 0.832974828375286,
          "min_score": 0.7105263157894737,
          "std_score": 0.07482789067646209
         },
         {
          "DT__criterion": "entropy",
          "DT__max_depth": 3,
          "DT__min_samples_split": 50,
          "fselector__k": 10,
          "max_score": 0.9107551487414187,
          "mean_score": 0.8316018306636156,
          "min_score": 0.7036613272311212,
          "std_score": 0.0770908345337442
         },
         {
          "DT__criterion": "gini",
          "DT__max_depth": 3,
          "DT__min_samples_split": 10,
          "fselector__k": 10,
          "max_score": 0.9010869565217391,
          "mean_score": 0.8283409610983983,
          "min_score": 0.7608695652173914,
          "std_score": 0.05007021864267049
         },
         {
          "DT__criterion": "gini",
          "DT__max_depth": 3,
          "DT__min_samples_split": 2,
          "fselector__k": 10,
          "max_score": 0.9010869565217391,
          "mean_score": 0.8274713958810068,
          "min_score": 0.7608695652173914,
          "std_score": 0.049874907009417414
         },
         {
          "DT__criterion": "gini",
          "DT__max_depth": 3,
          "DT__min_samples_split": 3,
          "fselector__k": 10,
          "max_score": 0.9010869565217391,
          "mean_score": 0.8274713958810068,
          "min_score": 0.7608695652173914,
          "std_score": 0.049874907009417414
         },
         {
          "DT__criterion": "gini",
          "DT__max_depth": 3,
          "DT__min_samples_split": 5,
          "fselector__k": 10,
          "max_score": 0.9010869565217391,
          "mean_score": 0.8274713958810068,
          "min_score": 0.7608695652173914,
          "std_score": 0.049874907009417414
         },
         {
          "DT__criterion": "gini",
          "DT__max_depth": 9,
          "DT__min_samples_split": 10,
          "fselector__k": 10,
          "max_score": 0.9073226544622426,
          "mean_score": 0.8262013729977117,
          "min_score": 0.7265446224256293,
          "std_score": 0.0587998281515061
         },
         {
          "DT__criterion": "gini",
          "DT__max_depth": 10,
          "DT__min_samples_split": 10,
          "fselector__k": 10,
          "max_score": 0.8981693363844393,
          "mean_score": 0.8261556064073226,
          "min_score": 0.7528604118993134,
          "std_score": 0.046655194933253756
         },
         {
          "DT__criterion": "gini",
          "DT__max_depth": 10,
          "DT__min_samples_split": 50,
          "fselector__k": 10,
          "max_score": 0.9107551487414187,
          "mean_score": 0.8235240274599542,
          "min_score": 0.7105263157894737,
          "std_score": 0.07226727403876357
         },
         {
          "DT__criterion": "gini",
          "DT__max_depth": 5,
          "DT__min_samples_split": 50,
          "fselector__k": 10,
          "max_score": 0.9107551487414187,
          "mean_score": 0.8235240274599542,
          "min_score": 0.7105263157894737,
          "std_score": 0.07226727403876357
         },
         {
          "DT__criterion": "gini",
          "DT__max_depth": 9,
          "DT__min_samples_split": 50,
          "fselector__k": 10,
          "max_score": 0.9107551487414187,
          "mean_score": 0.8235240274599542,
          "min_score": 0.7105263157894737,
          "std_score": 0.07226727403876357
         },
         {
          "DT__criterion": "gini",
          "DT__max_depth": 3,
          "DT__min_samples_split": 50,
          "fselector__k": 10,
          "max_score": 0.9107551487414187,
          "mean_score": 0.823066361556064,
          "min_score": 0.7036613272311212,
          "std_score": 0.07413830436065545
         },
         {
          "DT__criterion": "entropy",
          "DT__max_depth": 10,
          "DT__min_samples_split": 10,
          "fselector__k": 10,
          "max_score": 0.9027459954233409,
          "mean_score": 0.8205720823798627,
          "min_score": 0.7013729977116705,
          "std_score": 0.06778650058274077
         },
         {
          "DT__criterion": "gini",
          "DT__max_depth": 5,
          "DT__min_samples_split": 10,
          "fselector__k": 10,
          "max_score": 0.8981693363844393,
          "mean_score": 0.8199199084668191,
          "min_score": 0.7562929061784898,
          "std_score": 0.050912097189825305
         },
         {
          "DT__criterion": "entropy",
          "DT__max_depth": 5,
          "DT__min_samples_split": 10,
          "fselector__k": 10,
          "max_score": 0.9073226544622426,
          "mean_score": 0.8179061784897026,
          "min_score": 0.6876430205949657,
          "std_score": 0.07647429838477462
         },
         {
          "DT__criterion": "gini",
          "DT__max_depth": 2,
          "DT__min_samples_split": 10,
          "fselector__k": 10,
          "max_score": 0.9221967963386728,
          "mean_score": 0.8175629290617848,
          "min_score": 0.7036613272311212,
          "std_score": 0.07959856459925753
         },
         {
          "DT__criterion": "gini",
          "DT__max_depth": 2,
          "DT__min_samples_split": 3,
          "fselector__k": 10,
          "max_score": 0.9221967963386728,
          "mean_score": 0.8175629290617848,
          "min_score": 0.7036613272311212,
          "std_score": 0.07959856459925753
         },
         {
          "DT__criterion": "gini",
          "DT__max_depth": 2,
          "DT__min_samples_split": 50,
          "fselector__k": 10,
          "max_score": 0.9221967963386728,
          "mean_score": 0.8175629290617848,
          "min_score": 0.7036613272311212,
          "std_score": 0.07959856459925753
         },
         {
          "DT__criterion": "gini",
          "DT__max_depth": 2,
          "DT__min_samples_split": 2,
          "fselector__k": 10,
          "max_score": 0.9221967963386728,
          "mean_score": 0.8175629290617848,
          "min_score": 0.7036613272311212,
          "std_score": 0.07959856459925753
         },
         {
          "DT__criterion": "gini",
          "DT__max_depth": 2,
          "DT__min_samples_split": 5,
          "fselector__k": 10,
          "max_score": 0.9221967963386728,
          "mean_score": 0.8175629290617848,
          "min_score": 0.7036613272311212,
          "std_score": 0.07959856459925753
         },
         {
          "DT__criterion": "entropy",
          "DT__max_depth": 9,
          "DT__min_samples_split": 10,
          "fselector__k": 10,
          "max_score": 0.9027459954233409,
          "mean_score": 0.8164530892448513,
          "min_score": 0.6807780320366132,
          "std_score": 0.07513211365278409
         },
         {
          "DT__criterion": "entropy",
          "DT__max_depth": 10,
          "DT__min_samples_split": 5,
          "fselector__k": 10,
          "max_score": 0.8604118993135011,
          "mean_score": 0.8058810068649886,
          "min_score": 0.7562929061784898,
          "std_score": 0.037012525666641344
         },
         {
          "DT__criterion": "gini",
          "DT__max_depth": 10,
          "DT__min_samples_split": 5,
          "fselector__k": 10,
          "max_score": 0.8649885583524027,
          "mean_score": 0.8030892448512585,
          "min_score": 0.7688787185354691,
          "std_score": 0.03307487241313614
         },
         {
          "DT__criterion": "gini",
          "DT__max_depth": 9,
          "DT__min_samples_split": 5,
          "fselector__k": 10,
          "max_score": 0.8434782608695651,
          "mean_score": 0.7976659038901601,
          "min_score": 0.7528604118993134,
          "std_score": 0.030697204868747763
         },
         {
          "DT__criterion": "entropy",
          "DT__max_depth": 9,
          "DT__min_samples_split": 5,
          "fselector__k": 10,
          "max_score": 0.8535469107551488,
          "mean_score": 0.7953775743707093,
          "min_score": 0.7139588100686499,
          "std_score": 0.053243623189978835
         },
         {
          "DT__criterion": "entropy",
          "DT__max_depth": 5,
          "DT__min_samples_split": 5,
          "fselector__k": 10,
          "max_score": 0.8558352402745995,
          "mean_score": 0.7951601830663615,
          "min_score": 0.679633867276888,
          "std_score": 0.062396032529728855
         },
         {
          "DT__criterion": "gini",
          "DT__max_depth": 5,
          "DT__min_samples_split": 5,
          "fselector__k": 10,
          "max_score": 0.8581235697940504,
          "mean_score": 0.7950572082379862,
          "min_score": 0.7391304347826086,
          "std_score": 0.043857278482014365
         },
         {
          "DT__criterion": "gini",
          "DT__max_depth": 5,
          "DT__min_samples_split": 2,
          "fselector__k": 10,
          "max_score": 0.8576086956521739,
          "mean_score": 0.7928604118993136,
          "min_score": 0.7119565217391304,
          "std_score": 0.05444458927786441
         },
         {
          "DT__criterion": "gini",
          "DT__max_depth": 10,
          "DT__min_samples_split": 100,
          "fselector__k": 10,
          "max_score": 0.8558352402745995,
          "mean_score": 0.7813157894736842,
          "min_score": 0.620137299771167,
          "std_score": 0.08252155054069757
         },
         {
          "DT__criterion": "gini",
          "DT__max_depth": 9,
          "DT__min_samples_split": 100,
          "fselector__k": 10,
          "max_score": 0.8558352402745995,
          "mean_score": 0.7813157894736842,
          "min_score": 0.620137299771167,
          "std_score": 0.08252155054069757
         },
         {
          "DT__criterion": "entropy",
          "DT__max_depth": 3,
          "DT__min_samples_split": 100,
          "fselector__k": 10,
          "max_score": 0.8558352402745995,
          "mean_score": 0.7813157894736842,
          "min_score": 0.620137299771167,
          "std_score": 0.08252155054069757
         },
         {
          "DT__criterion": "entropy",
          "DT__max_depth": 2,
          "DT__min_samples_split": 100,
          "fselector__k": 10,
          "max_score": 0.8558352402745995,
          "mean_score": 0.7813157894736842,
          "min_score": 0.620137299771167,
          "std_score": 0.08252155054069757
         },
         {
          "DT__criterion": "entropy",
          "DT__max_depth": 10,
          "DT__min_samples_split": 100,
          "fselector__k": 10,
          "max_score": 0.8558352402745995,
          "mean_score": 0.7813157894736842,
          "min_score": 0.620137299771167,
          "std_score": 0.08252155054069757
         },
         {
          "DT__criterion": "gini",
          "DT__max_depth": 3,
          "DT__min_samples_split": 100,
          "fselector__k": 10,
          "max_score": 0.8558352402745995,
          "mean_score": 0.7813157894736842,
          "min_score": 0.620137299771167,
          "std_score": 0.08252155054069757
         },
         {
          "DT__criterion": "entropy",
          "DT__max_depth": 5,
          "DT__min_samples_split": 100,
          "fselector__k": 10,
          "max_score": 0.8558352402745995,
          "mean_score": 0.7813157894736842,
          "min_score": 0.620137299771167,
          "std_score": 0.08252155054069757
         },
         {
          "DT__criterion": "gini",
          "DT__max_depth": 2,
          "DT__min_samples_split": 100,
          "fselector__k": 10,
          "max_score": 0.8558352402745995,
          "mean_score": 0.7813157894736842,
          "min_score": 0.620137299771167,
          "std_score": 0.08252155054069757
         },
         {
          "DT__criterion": "entropy",
          "DT__max_depth": 9,
          "DT__min_samples_split": 100,
          "fselector__k": 10,
          "max_score": 0.8558352402745995,
          "mean_score": 0.7813157894736842,
          "min_score": 0.620137299771167,
          "std_score": 0.08252155054069757
         },
         {
          "DT__criterion": "gini",
          "DT__max_depth": 5,
          "DT__min_samples_split": 100,
          "fselector__k": 10,
          "max_score": 0.8558352402745995,
          "mean_score": 0.7813157894736842,
          "min_score": 0.620137299771167,
          "std_score": 0.08252155054069757
         },
         {
          "DT__criterion": "entropy",
          "DT__max_depth": 5,
          "DT__min_samples_split": 3,
          "fselector__k": 10,
          "max_score": 0.8672768878718535,
          "mean_score": 0.7800572082379864,
          "min_score": 0.6624713958810069,
          "std_score": 0.06855542318672903
         },
         {
          "DT__criterion": "gini",
          "DT__max_depth": 5,
          "DT__min_samples_split": 3,
          "fselector__k": 10,
          "max_score": 0.8581235697940504,
          "mean_score": 0.771350114416476,
          "min_score": 0.6704805491990847,
          "std_score": 0.07594140859498993
         },
         {
          "DT__criterion": "gini",
          "DT__max_depth": 9,
          "DT__min_samples_split": 2,
          "fselector__k": 10,
          "max_score": 0.8032036613272311,
          "mean_score": 0.7700572082379863,
          "min_score": 0.7082379862700229,
          "std_score": 0.03377072792409961
         },
         {
          "DT__criterion": "entropy",
          "DT__max_depth": 5,
          "DT__min_samples_split": 2,
          "fselector__k": 10,
          "max_score": 0.8558352402745995,
          "mean_score": 0.7689016018306637,
          "min_score": 0.6624713958810069,
          "std_score": 0.06370321200922521
         },
         {
          "DT__criterion": "gini",
          "DT__max_depth": 9,
          "DT__min_samples_split": 3,
          "fselector__k": 10,
          "max_score": 0.776887871853547,
          "mean_score": 0.7630434782608696,
          "min_score": 0.7554347826086956,
          "std_score": 0.00880449465562297
         },
         {
          "DT__criterion": "entropy",
          "DT__max_depth": 9,
          "DT__min_samples_split": 3,
          "fselector__k": 10,
          "max_score": 0.7880434782608695,
          "mean_score": 0.75941647597254,
          "min_score": 0.7276887871853548,
          "std_score": 0.02359204477264123
         },
         {
          "DT__criterion": "entropy",
          "DT__max_depth": 10,
          "DT__min_samples_split": 3,
          "fselector__k": 10,
          "max_score": 0.7929061784897025,
          "mean_score": 0.7582608695652174,
          "min_score": 0.6887871853546911,
          "std_score": 0.03742558556677849
         },
         {
          "DT__criterion": "gini",
          "DT__max_depth": 10,
          "DT__min_samples_split": 2,
          "fselector__k": 10,
          "max_score": 0.8032036613272311,
          "mean_score": 0.7555720823798627,
          "min_score": 0.7043478260869566,
          "std_score": 0.03367126622990135
         },
         {
          "DT__criterion": "entropy",
          "DT__max_depth": 10,
          "DT__min_samples_split": 2,
          "fselector__k": 10,
          "max_score": 0.8130434782608695,
          "mean_score": 0.7536155606407323,
          "min_score": 0.6727688787185355,
          "std_score": 0.051790796999609985
         },
         {
          "DT__criterion": "gini",
          "DT__max_depth": 10,
          "DT__min_samples_split": 3,
          "fselector__k": 10,
          "max_score": 0.7891304347826087,
          "mean_score": 0.751304347826087,
          "min_score": 0.7013729977116705,
          "std_score": 0.03266341709065669
         },
         {
          "DT__criterion": "entropy",
          "DT__max_depth": 9,
          "DT__min_samples_split": 2,
          "fselector__k": 10,
          "max_score": 0.8130434782608695,
          "mean_score": 0.7407780320366133,
          "min_score": 0.7043478260869566,
          "std_score": 0.03860416646882196
         }
        ]
       },
       "encoding": {
        "color": {
         "field": "DT__criterion",
         "type": "nominal"
        },
        "x": {
         "field": "DT__min_samples_split",
         "title": "Min Samples for Split",
         "type": "quantitative"
        },
        "y": {
         "field": "mean_score",
         "scale": {
          "zero": false
         },
         "title": "AUC Score",
         "type": "quantitative"
        }
       },
       "height": 100,
       "mark": {
        "point": true,
        "type": "line"
       },
       "title": "DT Performance Comparison with 10 Features",
       "width": 150
      },
      "image/png": "[encoded data removed]",
      "text/plain": [
       "<VegaLite 2 object>\n",
       "\n",
       "If you see this message, it means the renderer has not been properly enabled\n",
       "for the frontend that you are using. For more information, see\n",
       "https://altair-viz.github.io/user_guide/troubleshooting.html\n"
      ]
     },
     "execution_count": 76,
     "metadata": {},
     "output_type": "execute_result"
    }
   ],
   "source": [
    "plot_DT_Cr(10)"
   ]
  },
  {
   "cell_type": "markdown",
   "metadata": {},
   "source": [
    "## Regression Modelling\n",
    "\n",
    "In this section I will look into finding a suitable regression model for this data. Since the target is binary I will look into a logistic regression model. First I will fit a full model, use all predictors, then I will look into the model and see if I can make a simpler model. \n",
    "Firstly I tuned the parameters based on l1 and l2. Both of these metrics are based on preventing overfitting. I will also use these metrics when modelling the simple logistic regression model."
   ]
  },
  {
   "cell_type": "code",
   "execution_count": 77,
   "metadata": {},
   "outputs": [],
   "source": [
    "from sklearn.linear_model import LogisticRegression"
   ]
  },
  {
   "cell_type": "code",
   "execution_count": 78,
   "metadata": {},
   "outputs": [],
   "source": [
    "lr_pipe = Pipeline([('fselector', fs.SelectKBest()), \n",
    "                     ('lr', LogisticRegression())])\n",
    "\n",
    "lr_pipe_params = {'fselector__k' : [5, 10, 15, 20,  heart.shape[1]],\n",
    "                 'lr__penalty' : ['l1','l2']}\n",
    "\n",
    "GridSearch_lr = GridSearchCV(estimator=lr_pipe, \n",
    "                          param_grid=lr_pipe_params, \n",
    "                          cv=cross_val_method,\n",
    "                          refit=True,\n",
    "                          n_jobs=-2,\n",
    "                          scoring='roc_auc',\n",
    "                          verbose=1) "
   ]
  },
  {
   "cell_type": "code",
   "execution_count": 79,
   "metadata": {},
   "outputs": [
    {
     "name": "stdout",
     "output_type": "stream",
     "text": [
      "Fitting 5 folds for each of 10 candidates, totalling 50 fits\n"
     ]
    },
    {
     "name": "stderr",
     "output_type": "stream",
     "text": [
      "[Parallel(n_jobs=-2)]: Using backend LokyBackend with 3 concurrent workers.\n",
      "[Parallel(n_jobs=-2)]: Done  50 out of  50 | elapsed:    0.2s finished\n"
     ]
    },
    {
     "data": {
      "text/plain": [
       "GridSearchCV(cv=StratifiedKFold(n_splits=5, random_state=999, shuffle=False),\n",
       "       error_score='raise-deprecating',\n",
       "       estimator=Pipeline(memory=None,\n",
       "     steps=[('fselector', SelectKBest(k=10, score_func=<function f_classif at 0x1a2567cd08>)), ('lr', LogisticRegression(C=1.0, class_weight=None, dual=False, fit_intercept=True,\n",
       "          intercept_scaling=1, max_iter=100, multi_class='warn',\n",
       "          n_jobs=None, penalty='l2', random_state=None, solver='warn',\n",
       "          tol=0.0001, verbose=0, warm_start=False))]),\n",
       "       fit_params=None, iid='warn', n_jobs=-2,\n",
       "       param_grid={'fselector__k': [5, 10, 15, 20, 26], 'lr__penalty': ['l1', 'l2']},\n",
       "       pre_dispatch='2*n_jobs', refit=True, return_train_score='warn',\n",
       "       scoring='roc_auc', verbose=1)"
      ]
     },
     "execution_count": 79,
     "metadata": {},
     "output_type": "execute_result"
    }
   ],
   "source": [
    "GridSearch_lr.fit(heart_train,target_train)"
   ]
  },
  {
   "cell_type": "code",
   "execution_count": 80,
   "metadata": {},
   "outputs": [
    {
     "data": {
      "text/plain": [
       "{'fselector__k': 20, 'lr__penalty': 'l2'}"
      ]
     },
     "execution_count": 80,
     "metadata": {},
     "output_type": "execute_result"
    }
   ],
   "source": [
    "GridSearch_lr.best_params_"
   ]
  },
  {
   "cell_type": "code",
   "execution_count": 81,
   "metadata": {},
   "outputs": [
    {
     "data": {
      "text/plain": [
       "0.9165337204783904"
      ]
     },
     "execution_count": 81,
     "metadata": {},
     "output_type": "execute_result"
    }
   ],
   "source": [
    "GridSearch_lr.best_score_"
   ]
  },
  {
   "cell_type": "markdown",
   "metadata": {},
   "source": [
    "We observe that the best parameters are l2 and 20 features. This gives us an AUC score of ~0.917. This model seems to perform the same as the KNN model."
   ]
  },
  {
   "cell_type": "code",
   "execution_count": 82,
   "metadata": {},
   "outputs": [
    {
     "data": {
      "text/html": [
       "<div>\n",
       "<style scoped>\n",
       "    .dataframe tbody tr th:only-of-type {\n",
       "        vertical-align: middle;\n",
       "    }\n",
       "\n",
       "    .dataframe tbody tr th {\n",
       "        vertical-align: top;\n",
       "    }\n",
       "\n",
       "    .dataframe thead th {\n",
       "        text-align: right;\n",
       "    }\n",
       "</style>\n",
       "<table border=\"1\" class=\"dataframe\">\n",
       "  <thead>\n",
       "    <tr style=\"text-align: right;\">\n",
       "      <th></th>\n",
       "      <th>mean_score</th>\n",
       "      <th>std_score</th>\n",
       "      <th>max_score</th>\n",
       "      <th>min_score</th>\n",
       "      <th>fselector__k</th>\n",
       "      <th>lr__penalty</th>\n",
       "    </tr>\n",
       "  </thead>\n",
       "  <tbody>\n",
       "    <tr>\n",
       "      <th>7</th>\n",
       "      <td>0.916453</td>\n",
       "      <td>0.047193</td>\n",
       "      <td>0.990847</td>\n",
       "      <td>0.846682</td>\n",
       "      <td>20</td>\n",
       "      <td>l2</td>\n",
       "    </tr>\n",
       "    <tr>\n",
       "      <th>9</th>\n",
       "      <td>0.915904</td>\n",
       "      <td>0.0476916</td>\n",
       "      <td>0.988558</td>\n",
       "      <td>0.846682</td>\n",
       "      <td>26</td>\n",
       "      <td>l2</td>\n",
       "    </tr>\n",
       "    <tr>\n",
       "      <th>5</th>\n",
       "      <td>0.914211</td>\n",
       "      <td>0.047687</td>\n",
       "      <td>0.988558</td>\n",
       "      <td>0.842105</td>\n",
       "      <td>15</td>\n",
       "      <td>l2</td>\n",
       "    </tr>\n",
       "    <tr>\n",
       "      <th>8</th>\n",
       "      <td>0.913684</td>\n",
       "      <td>0.050665</td>\n",
       "      <td>0.98627</td>\n",
       "      <td>0.832952</td>\n",
       "      <td>26</td>\n",
       "      <td>l1</td>\n",
       "    </tr>\n",
       "    <tr>\n",
       "      <th>6</th>\n",
       "      <td>0.912403</td>\n",
       "      <td>0.050155</td>\n",
       "      <td>0.98627</td>\n",
       "      <td>0.832952</td>\n",
       "      <td>20</td>\n",
       "      <td>l1</td>\n",
       "    </tr>\n",
       "  </tbody>\n",
       "</table>\n",
       "</div>"
      ],
      "text/plain": [
       "  mean_score  std_score max_score min_score fselector__k lr__penalty\n",
       "7   0.916453   0.047193  0.990847  0.846682           20          l2\n",
       "9   0.915904  0.0476916  0.988558  0.846682           26          l2\n",
       "5   0.914211   0.047687  0.988558  0.842105           15          l2\n",
       "8   0.913684   0.050665   0.98627  0.832952           26          l1\n",
       "6   0.912403   0.050155   0.98627  0.832952           20          l1"
      ]
     },
     "execution_count": 82,
     "metadata": {},
     "output_type": "execute_result"
    }
   ],
   "source": [
    "results_lr = get_search_results(GridSearch_lr)\n",
    "results_lr.head()"
   ]
  },
  {
   "cell_type": "markdown",
   "metadata": {},
   "source": [
    "From the table, we can observe that 15 features nearly gives us the same result as the 20 feature model.\n",
    "\n",
    "The below visualisation allow us to see how the score changes based on the penalty (l1 or l2)."
   ]
  },
  {
   "cell_type": "code",
   "execution_count": 83,
   "metadata": {},
   "outputs": [],
   "source": [
    "def plot_lr(results):\n",
    "    chart = alt.Chart(results, height = 100, width = 150,\n",
    "          title='Logistic Regression Performance'\n",
    "             ).mark_line(point=True).encode(\n",
    "        alt.X('fselector__k', title='Number of Features'),\n",
    "        alt.Y('mean_score', title='AUC Score', scale=alt.Scale(zero=False)),\n",
    "        alt.Color('lr__penalty')\n",
    "    )\n",
    "    return chart"
   ]
  },
  {
   "cell_type": "code",
   "execution_count": 84,
   "metadata": {},
   "outputs": [
    {
     "data": {
      "application/vnd.vegalite.v2+json": {
       "$schema": "https://vega.github.io/schema/vega-lite/v2.6.0.json",
       "config": {
        "view": {
         "height": 300,
         "width": 400
        }
       },
       "data": {
        "name": "data-975406dc5a8e2c9e8a575d9fd97d86b7"
       },
       "datasets": {
        "data-975406dc5a8e2c9e8a575d9fd97d86b7": [
         {
          "fselector__k": 20,
          "lr__penalty": "l2",
          "max_score": 0.9908466819221968,
          "mean_score": 0.9164530892448512,
          "min_score": 0.8466819221967964,
          "std_score": 0.04719301142857027
         },
         {
          "fselector__k": 26,
          "lr__penalty": "l2",
          "max_score": 0.988558352402746,
          "mean_score": 0.915903890160183,
          "min_score": 0.8466819221967964,
          "std_score": 0.04769155418300313
         },
         {
          "fselector__k": 15,
          "lr__penalty": "l2",
          "max_score": 0.9885583524027459,
          "mean_score": 0.9142105263157895,
          "min_score": 0.8421052631578948,
          "std_score": 0.04768696439284001
         },
         {
          "fselector__k": 26,
          "lr__penalty": "l1",
          "max_score": 0.9862700228832951,
          "mean_score": 0.9136842105263158,
          "min_score": 0.8329519450800916,
          "std_score": 0.05066501086430469
         },
         {
          "fselector__k": 20,
          "lr__penalty": "l1",
          "max_score": 0.9862700228832951,
          "mean_score": 0.9124027459954233,
          "min_score": 0.8329519450800915,
          "std_score": 0.050154973505549205
         },
         {
          "fselector__k": 15,
          "lr__penalty": "l1",
          "max_score": 0.9862700228832951,
          "mean_score": 0.9122425629290618,
          "min_score": 0.834096109839817,
          "std_score": 0.049530045352321105
         },
         {
          "fselector__k": 10,
          "lr__penalty": "l2",
          "max_score": 0.9771167048054918,
          "mean_score": 0.9105720823798628,
          "min_score": 0.8329519450800915,
          "std_score": 0.046619826785461796
         },
         {
          "fselector__k": 10,
          "lr__penalty": "l1",
          "max_score": 0.982837528604119,
          "mean_score": 0.9049427917620138,
          "min_score": 0.8089244851258581,
          "std_score": 0.05608561674528822
         },
         {
          "fselector__k": 5,
          "lr__penalty": "l1",
          "max_score": 0.954233409610984,
          "mean_score": 0.8691533180778033,
          "min_score": 0.7894736842105263,
          "std_score": 0.05243743917672589
         },
         {
          "fselector__k": 5,
          "lr__penalty": "l2",
          "max_score": 0.9542334096109839,
          "mean_score": 0.8646224256292907,
          "min_score": 0.782608695652174,
          "std_score": 0.05462484620072495
         }
        ]
       },
       "encoding": {
        "color": {
         "field": "lr__penalty",
         "type": "nominal"
        },
        "x": {
         "field": "fselector__k",
         "title": "Number of Features",
         "type": "quantitative"
        },
        "y": {
         "field": "mean_score",
         "scale": {
          "zero": false
         },
         "title": "AUC Score",
         "type": "quantitative"
        }
       },
       "height": 100,
       "mark": {
        "point": true,
        "type": "line"
       },
       "title": "Logistic Regression Performance",
       "width": 150
      },
      "image/png": "[encoded data removed]",
      "text/plain": [
       "<VegaLite 2 object>\n",
       "\n",
       "If you see this message, it means the renderer has not been properly enabled\n",
       "for the frontend that you are using. For more information, see\n",
       "https://altair-viz.github.io/user_guide/troubleshooting.html\n"
      ]
     },
     "execution_count": 84,
     "metadata": {},
     "output_type": "execute_result"
    }
   ],
   "source": [
    "plot_lr(results_lr)"
   ]
  },
  {
   "cell_type": "markdown",
   "metadata": {},
   "source": [
    "### Simplest Model\n",
    "\n",
    "Now that we have a model built by sklearn we will see what the model looks like. From here, we can see the p values and make decisions about what to cut out and what to leave in. Firstly, I will take the binned data set that I created for the bernoulli NB and change the column names. This was done as the 'glm' function doesn't parse any column with ']' in it. I will then start fitting models and iteratively making them simpler. I will also make a dummy of the target variable in order to predict whether it is heart disease (target = 1)."
   ]
  },
  {
   "cell_type": "code",
   "execution_count": 85,
   "metadata": {},
   "outputs": [],
   "source": [
    "heart_lr = heart_bin_B.copy()\n",
    "heart_lr = heart_lr.rename(columns={'age_bins_(28.952, 38.6]' : 'age0', 'age_bins_(38.6, 48.2]' : 'age1',\n",
    "                                   'age_bins_(48.2, 57.8]' : 'age2', 'age_bins_(57.8, 67.4]' : 'age3',\n",
    "       'age_bins_(67.4, 77.0]': 'age4', 'trestbps_bins_(93.894, 115.2]' : 'trest0',\n",
    "       'trestbps_bins_(115.2, 136.4]' : 'trest1', 'trestbps_bins_(136.4, 157.6]' : 'trest2',\n",
    "       'trestbps_bins_(157.6, 178.8]' : 'trest3', 'trestbps_bins_(178.8, 200.0]' : 'trest4',\n",
    "       'chol_bins_(125.562, 213.6]' : 'chol0', 'chol_bins_(213.6, 301.2]' : 'chol1',\n",
    "       'chol_bins_(301.2, 388.8]' : 'chol2', 'chol_bins_(388.8, 476.4]' : 'chol3',\n",
    "       'chol_bins_(476.4, 564.0]' : 'chol4', 'thalach_bins_(70.869, 97.2]' : 'thalach0',\n",
    "       'thalach_bins_(97.2, 123.4]' : 'thalach1', 'thalach_bins_(123.4, 149.6]' : 'thalach2',\n",
    "       'thalach_bins_(149.6, 175.8]' : 'thalach3', 'thalach_bins_(175.8, 202.0]' : 'thalach4',\n",
    "       'oldpeak_bins_(-0.0062, 1.55]' : 'old0', 'oldpeak_bins_(1.55, 3.1]' : 'old1',\n",
    "       'oldpeak_bins_(3.1, 4.65]' : 'old2', 'oldpeak_bins_(4.65, 6.2]' : 'old3'\n",
    "    \n",
    "})\n",
    "dummies = pd.get_dummies(target)\n",
    "heart_lr['target1'] = dummies['1']"
   ]
  },
  {
   "cell_type": "markdown",
   "metadata": {},
   "source": [
    "Now that we've changed all the column names we can now start iteratively building a simple logistic regression model."
   ]
  },
  {
   "cell_type": "code",
   "execution_count": 86,
   "metadata": {},
   "outputs": [
    {
     "data": {
      "text/plain": [
       "Index(['sex', 'fbs', 'exang', 'cp_0', 'cp_1', 'cp_2', 'cp_3', 'restecg_0',\n",
       "       'restecg_1', 'restecg_2', 'slope_0', 'slope_1', 'slope_2', 'ca_0',\n",
       "       'ca_1', 'ca_2', 'ca_3', 'thal_0', 'thal_1', 'thal_2', 'thal_3', 'age0',\n",
       "       'age1', 'age2', 'age3', 'age4', 'trest0', 'trest1', 'trest2', 'trest3',\n",
       "       'trest4', 'chol0', 'chol1', 'chol2', 'chol3', 'chol4', 'thalach0',\n",
       "       'thalach1', 'thalach2', 'thalach3', 'thalach4', 'old0', 'old1', 'old2',\n",
       "       'old3', 'target1'],\n",
       "      dtype='object')"
      ]
     },
     "execution_count": 86,
     "metadata": {},
     "output_type": "execute_result"
    }
   ],
   "source": [
    "heart_lr.columns"
   ]
  },
  {
   "cell_type": "markdown",
   "metadata": {},
   "source": [
    "We first start out trying to fit a full model. This was done using statsmodels package."
   ]
  },
  {
   "cell_type": "code",
   "execution_count": 87,
   "metadata": {},
   "outputs": [
    {
     "name": "stdout",
     "output_type": "stream",
     "text": [
      "                 Generalized Linear Model Regression Results                  \n",
      "==============================================================================\n",
      "Dep. Variable:                target1   No. Observations:                  303\n",
      "Model:                            GLM   Df Residuals:                      267\n",
      "Model Family:                Binomial   Df Model:                           35\n",
      "Link Function:                  logit   Scale:                          1.0000\n",
      "Method:                          IRLS   Log-Likelihood:                    nan\n",
      "Date:                Fri, 07 Jun 2019   Deviance:                          nan\n",
      "Time:                        12:19:41   Pearson chi2:                 2.43e+17\n",
      "No. Iterations:                   100   Covariance Type:             nonrobust\n",
      "==============================================================================\n",
      "                 coef    std err          z      P>|z|      [0.025      0.975]\n",
      "------------------------------------------------------------------------------\n",
      "Intercept   -4.14e+14   8.29e+06     -5e+07      0.000   -4.14e+14   -4.14e+14\n",
      "sex        -3.471e+14   1.01e+07  -3.44e+07      0.000   -3.47e+14   -3.47e+14\n",
      "fbs          1.56e+14   1.17e+07   1.33e+07      0.000    1.56e+14    1.56e+14\n",
      "exang      -3.148e+14   1.02e+07  -3.07e+07      0.000   -3.15e+14   -3.15e+14\n",
      "cp_0       -8.609e+14   7.68e+06  -1.12e+08      0.000   -8.61e+14   -8.61e+14\n",
      "cp_1       -3.288e+14   9.41e+06  -3.49e+07      0.000   -3.29e+14   -3.29e+14\n",
      "cp_2        1.939e+14   7.54e+06   2.57e+07      0.000    1.94e+14    1.94e+14\n",
      "cp_3        5.818e+14   1.23e+07   4.75e+07      0.000    5.82e+14    5.82e+14\n",
      "restecg_0  -1.592e+14   1.24e+07  -1.29e+07      0.000   -1.59e+14   -1.59e+14\n",
      "restecg_1   2.909e+12   1.25e+07   2.33e+05      0.000    2.91e+12    2.91e+12\n",
      "restecg_2  -2.577e+14   2.57e+07     -1e+07      0.000   -2.58e+14   -2.58e+14\n",
      "slope_0    -5.128e+14    1.2e+07  -4.26e+07      0.000   -5.13e+14   -5.13e+14\n",
      "slope_1    -1.136e+14   7.68e+06  -1.48e+07      0.000   -1.14e+14   -1.14e+14\n",
      "slope_2     2.124e+14   8.59e+06   2.47e+07      0.000    2.12e+14    2.12e+14\n",
      "ca_0        2.156e+14   7.05e+06   3.06e+07      0.000    2.16e+14    2.16e+14\n",
      "ca_1        1.113e+14   8.61e+06   1.29e+07      0.000    1.11e+14    1.11e+14\n",
      "ca_2       -7.375e+13   1.07e+07  -6.91e+06      0.000   -7.37e+13   -7.37e+13\n",
      "ca_3       -6.672e+14   1.18e+07  -5.66e+07      0.000   -6.67e+14   -6.67e+14\n",
      "thal_0     -1.074e+15    3.8e+07  -2.83e+07      0.000   -1.07e+15   -1.07e+15\n",
      "thal_1      6.848e+13   1.77e+07   3.87e+06      0.000    6.85e+13    6.85e+13\n",
      "thal_2      7.446e+14   1.33e+07   5.61e+07      0.000    7.45e+14    7.45e+14\n",
      "thal_3     -1.526e+14   1.32e+07  -1.15e+07      0.000   -1.53e+14   -1.53e+14\n",
      "age0        -3.21e+14    1.8e+07  -1.78e+07      0.000   -3.21e+14   -3.21e+14\n",
      "age1       -1.953e+14   9.48e+06  -2.06e+07      0.000   -1.95e+14   -1.95e+14\n",
      "age2        3.274e+14   8.14e+06   4.02e+07      0.000    3.27e+14    3.27e+14\n",
      "age3       -1.063e+14   8.34e+06  -1.27e+07      0.000   -1.06e+14   -1.06e+14\n",
      "age4       -1.188e+14   1.51e+07  -7.85e+06      0.000   -1.19e+14   -1.19e+14\n",
      "trest0      1.685e+14   1.13e+07   1.49e+07      0.000    1.69e+14    1.69e+14\n",
      "trest1      2.399e+14   9.04e+06   2.65e+07      0.000     2.4e+14     2.4e+14\n",
      "trest2     -2.784e+14   9.61e+06   -2.9e+07      0.000   -2.78e+14   -2.78e+14\n",
      "trest3      1.985e+14   1.46e+07   1.36e+07      0.000    1.98e+14    1.98e+14\n",
      "trest4     -7.425e+14   2.67e+07  -2.79e+07      0.000   -7.42e+14   -7.42e+14\n",
      "chol0       -2.02e+14   1.69e+07   -1.2e+07      0.000   -2.02e+14   -2.02e+14\n",
      "chol1      -6.368e+14   1.61e+07  -3.96e+07      0.000   -6.37e+14   -6.37e+14\n",
      "chol2      -8.111e+14   1.79e+07  -4.52e+07      0.000   -8.11e+14   -8.11e+14\n",
      "chol3       4.051e+14   3.16e+07   1.28e+07      0.000    4.05e+14    4.05e+14\n",
      "chol4       8.308e+14   5.73e+07   1.45e+07      0.000    8.31e+14    8.31e+14\n",
      "thalach0   -1.175e+15    2.2e+07  -5.34e+07      0.000   -1.18e+15   -1.18e+15\n",
      "thalach1    1.539e+13   1.17e+07   1.32e+06      0.000    1.54e+13    1.54e+13\n",
      "thalach2   -8.053e+13   9.14e+06  -8.81e+06      0.000   -8.05e+13   -8.05e+13\n",
      "thalach3    1.278e+14   8.43e+06   1.52e+07      0.000    1.28e+14    1.28e+14\n",
      "thalach4    6.988e+14   1.34e+07    5.2e+07      0.000    6.99e+14    6.99e+14\n",
      "old0        1.157e+15   1.51e+07   7.69e+07      0.000    1.16e+15    1.16e+15\n",
      "old1        1.338e+15   1.51e+07   8.86e+07      0.000    1.34e+15    1.34e+15\n",
      "old2        1.078e+15   1.78e+07   6.06e+07      0.000    1.08e+15    1.08e+15\n",
      "old3       -3.988e+15   3.98e+07     -1e+08      0.000   -3.99e+15   -3.99e+15\n",
      "==============================================================================\n"
     ]
    }
   ],
   "source": [
    "import statsmodels.formula.api as smf\n",
    "import statsmodels.api as sm\n",
    "mylogit = smf.glm(formula='target1 ~  sex + fbs + exang + cp_0 + cp_1 + cp_2 + cp_3 + restecg_0 + restecg_1 + restecg_2 + slope_0 + slope_1 + slope_2 + ca_0 + ca_1 + ca_2 + ca_3 + thal_0 + thal_1 + thal_2 + thal_3 + age0 + age1 + age2 + age3 + age4 + trest0 + trest1 + trest2 + trest3 + trest4 + chol0 + chol1 + chol2 + chol3 + chol4 + thalach0 + thalach1 + thalach2 + thalach3 + thalach4 + old0 + old1 + old2 + old3', data=heart_lr, family=sm.families.Binomial())\n",
    "print(mylogit.fit().summary())"
   ]
  },
  {
   "cell_type": "markdown",
   "metadata": {},
   "source": [
    "Although all the p-values are 0, we see errors in the chi squared, AIC and BIC, giving a NAN value. Therefore, we must simplify this model.\n",
    "\n",
    "In order to simplify this model, I will first look at modelling just the categorical features, then reinserting the binned features later on."
   ]
  },
  {
   "cell_type": "code",
   "execution_count": 88,
   "metadata": {},
   "outputs": [
    {
     "name": "stdout",
     "output_type": "stream",
     "text": [
      "               Results: Generalized linear model\n",
      "===============================================================\n",
      "Model:              GLM              AIC:            230.4432  \n",
      "Link Function:      logit            BIC:            -1437.6844\n",
      "Dependent Variable: target1          Log-Likelihood: -98.222   \n",
      "Date:               2019-06-07 12:19 LL-Null:        -208.82   \n",
      "No. Observations:   303              Deviance:       196.44    \n",
      "Df Model:           16               Pearson chi2:   382.      \n",
      "Df Residuals:       286              Scale:          1.0000    \n",
      "Method:             IRLS                                       \n",
      "----------------------------------------------------------------\n",
      "             Coef.   Std.Err.     z     P>|z|    [0.025   0.975]\n",
      "----------------------------------------------------------------\n",
      "Intercept   -0.0309    0.4373  -0.0706  0.9437  -0.8880   0.8263\n",
      "sex         -1.4659    0.4924  -2.9772  0.0029  -2.4309  -0.5008\n",
      "fbs          0.2921    0.5411   0.5399  0.5893  -0.7684   1.3527\n",
      "exang       -0.9431    0.4222  -2.2337  0.0255  -1.7706  -0.1156\n",
      "cp_0        -1.3156    0.3120  -4.2173  0.0000  -1.9271  -0.7042\n",
      "cp_1        -0.0751    0.4164  -0.1804  0.8568  -0.8912   0.7410\n",
      "cp_2         0.6430    0.3513   1.8302  0.0672  -0.0456   1.3315\n",
      "cp_3         0.7170    0.4810   1.4907  0.1360  -0.2257   1.6596\n",
      "restecg_0    0.3686    0.5627   0.6551  0.5124  -0.7342   1.4714\n",
      "restecg_1    0.9613    0.5661   1.6981  0.0895  -0.1483   2.0708\n",
      "restecg_2   -1.3607    1.2675  -1.0736  0.2830  -3.8450   1.1235\n",
      "slope_0     -0.4110    0.5098  -0.8062  0.4201  -1.4101   0.5881\n",
      "slope_1     -0.6980    0.3100  -2.2516  0.0243  -1.3056  -0.0904\n",
      "slope_2      1.0781    0.3502   3.0789  0.0021   0.3918   1.7644\n",
      "ca_0         1.8113    0.3227   5.6136  0.0000   1.1789   2.4437\n",
      "ca_1        -0.3342    0.3936  -0.8492  0.3958  -1.1056   0.4372\n",
      "ca_2        -1.5269    0.5567  -2.7427  0.0061  -2.6180  -0.4357\n",
      "ca_3         0.0190    0.5578   0.0340  0.9729  -1.0743   1.1122\n",
      "thal_0      -1.2406    2.2178  -0.5594  0.5759  -5.5875   3.1062\n",
      "thal_1       0.8252    0.8548   0.9654  0.3343  -0.8501   2.5005\n",
      "thal_2       0.9946    0.6924   1.4365  0.1509  -0.3624   2.3516\n",
      "thal_3      -0.6100    0.6998  -0.8717  0.3834  -1.9815   0.7615\n",
      "===============================================================\n",
      "\n"
     ]
    }
   ],
   "source": [
    "import statsmodels.formula.api as smf\n",
    "import statsmodels.api as sm\n",
    "mylogit = smf.glm(formula='target1 ~  sex + fbs + exang + cp_0 + cp_1 + cp_2 + cp_3 + restecg_0 + restecg_1 + restecg_2 + slope_0 + slope_1 + slope_2 + ca_0 + ca_1 + ca_2 + ca_3 + thal_0 + thal_1 + thal_2 + thal_3', data=heart_lr, family=sm.families.Binomial())\n",
    "print(mylogit.fit().summary2())"
   ]
  },
  {
   "cell_type": "markdown",
   "metadata": {},
   "source": [
    "From the above table we can see that fbs, cp_1, cp_3, all of restecg, slope_0, slope_1, ca_1, ca_3 and all of thal are insignificant at alpha = 0.05. Therefore we will remove them and fit a simpler model"
   ]
  },
  {
   "cell_type": "code",
   "execution_count": 89,
   "metadata": {},
   "outputs": [],
   "source": [
    "heart_lr1 = heart_lr.copy()\n",
    "heart_lr1 = heart_lr1.drop(['fbs','cp_1','cp_3','restecg_0','restecg_2','slope_0','ca_1', 'ca_3','thal_0','thal_1','thal_2','thal_3'], axis = 1)"
   ]
  },
  {
   "cell_type": "code",
   "execution_count": 90,
   "metadata": {},
   "outputs": [
    {
     "name": "stdout",
     "output_type": "stream",
     "text": [
      "               Results: Generalized linear model\n",
      "===============================================================\n",
      "Model:              GLM              AIC:            235.4467  \n",
      "Link Function:      logit            BIC:            -1462.3908\n",
      "Dependent Variable: target1          Log-Likelihood: -108.72   \n",
      "Date:               2019-06-07 12:19 LL-Null:        -208.82   \n",
      "No. Observations:   303              Deviance:       217.45    \n",
      "Df Model:           8                Pearson chi2:   309.      \n",
      "Df Residuals:       294              Scale:          1.0000    \n",
      "Method:             IRLS                                       \n",
      "----------------------------------------------------------------\n",
      "             Coef.   Std.Err.     z     P>|z|    [0.025   0.975]\n",
      "----------------------------------------------------------------\n",
      "Intercept    0.8012    0.8225   0.9741  0.3300  -0.8109   2.4133\n",
      "sex         -1.7984    0.4118  -4.3667  0.0000  -2.6056  -0.9912\n",
      "exang       -1.1365    0.3925  -2.8958  0.0038  -1.9058  -0.3673\n",
      "cp_0        -1.7565    0.4433  -3.9623  0.0001  -2.6253  -0.8876\n",
      "cp_2         0.3375    0.4850   0.6958  0.4865  -0.6130   1.2879\n",
      "slope_1     -0.2133    0.6556  -0.3253  0.7449  -1.4982   1.0716\n",
      "slope_2      1.6717    0.6666   2.5078  0.0121   0.3652   2.9781\n",
      "ca_0         2.0973    0.4034   5.1991  0.0000   1.3067   2.8880\n",
      "ca_2        -0.9116    0.6751  -1.3503  0.1769  -2.2347   0.4116\n",
      "===============================================================\n",
      "\n"
     ]
    }
   ],
   "source": [
    "mylogit = smf.glm(formula='target1 ~  sex + exang + cp_0 + cp_2 + slope_1 + slope_2 + ca_0 + ca_2', data=heart_lr1, family=sm.families.Binomial())\n",
    "print(mylogit.fit().summary2())"
   ]
  },
  {
   "cell_type": "markdown",
   "metadata": {},
   "source": [
    "I will now remove cp_2, slope_1, ca_2 as their p values are greater than 0.05.\n",
    "\n",
    "Now that I know what categorical variables, I will iteratively reinsert other variables. To judge whether or not the model is performing better I will look at the AIC and BIC. A lower AIC and BIC mean a better model. I will do this in one step."
   ]
  },
  {
   "cell_type": "code",
   "execution_count": 91,
   "metadata": {},
   "outputs": [
    {
     "name": "stdout",
     "output_type": "stream",
     "text": [
      "               Results: Generalized linear model\n",
      "===============================================================\n",
      "Model:              GLM              AIC:            232.2301  \n",
      "Link Function:      logit            BIC:            -1476.7485\n",
      "Dependent Variable: target1          Log-Likelihood: -110.12   \n",
      "Date:               2019-06-07 12:19 LL-Null:        -208.82   \n",
      "No. Observations:   303              Deviance:       220.23    \n",
      "Df Model:           5                Pearson chi2:   317.      \n",
      "Df Residuals:       297              Scale:          1.0000    \n",
      "Method:             IRLS                                       \n",
      "----------------------------------------------------------------\n",
      "             Coef.   Std.Err.     z     P>|z|    [0.025   0.975]\n",
      "----------------------------------------------------------------\n",
      "Intercept    0.5913    0.4473   1.3219  0.1862  -0.2854   1.4680\n",
      "sex         -1.7265    0.4016  -4.2992  0.0000  -2.5136  -0.9394\n",
      "exang       -1.1018    0.3886  -2.8350  0.0046  -1.8635  -0.3401\n",
      "cp_0        -1.9848    0.3679  -5.3953  0.0000  -2.7058  -1.2638\n",
      "slope_2      1.7879    0.3643   4.9071  0.0000   1.0738   2.5020\n",
      "ca_0         2.2810    0.3691   6.1797  0.0000   1.5575   3.0044\n",
      "===============================================================\n",
      "\n"
     ]
    }
   ],
   "source": [
    "mylogit = smf.glm(formula='target1 ~  sex + exang + cp_0  + slope_2 + ca_0', data=heart_lr1, family=sm.families.Binomial())\n",
    "print(mylogit.fit().summary2())"
   ]
  },
  {
   "cell_type": "markdown",
   "metadata": {},
   "source": [
    "The model without had an AIC of ~232, whereas this new model had an AIC of 229 indicating a better model. Every other binned predictor (besides age3) was not significant to 5%. \n",
    "\n",
    "However when the model with age3 was tested, the overall model was not adequate to 5%, as the defined by: \n",
    " H0: the model fits the data well vs.\n",
    " H1: the model does not fit the data well\n",
    "\n",
    "The p-value = 0.04669, therefore the logistic model for this data can not be used to predict the probability of having heart disease given these predictors. Therefore, we will leave out 'age3'\n",
    "\n",
    "The simplest model is defined as (where hd = heart disease):\n",
    "hd = 1.0814 + -1.7265SEX - 1.1018EXANG - 1.9848CP_0 + 1.7879SLOPE_2 + 2.2810CA_0\n",
    "\n",
    "From the model we can conduct a chi-squared test to see whether the model is adequet with the same hypothesis test used before.\n",
    "We can see that the residual deviance is ~215.00 on 296 degrees of freedom.\n",
    "The p value of the chi-square test is equals 0.2032, indicating that the null hypothesis is plausible, therefore\n",
    "we can conclude that the logistic model is significantly adequate.\n",
    "\n",
    "This means that a logistic model for this data can be used to predict the probability of having heart disease given these\n",
    "predictors.\n"
   ]
  },
  {
   "cell_type": "code",
   "execution_count": 92,
   "metadata": {},
   "outputs": [],
   "source": [
    "target1 = heart_lr1['target1']\n",
    "heart_lr1 = heart_lr1.drop(['target1', 'cp_2', 'restecg_1', 'slope_1',\n",
    "        'ca_2', 'age0', 'age1', 'age2', 'age3', 'age4', 'trest0',\n",
    "       'trest1', 'trest2', 'trest3', 'trest4', 'chol0', 'chol1', 'chol2',\n",
    "       'chol3', 'chol4', 'thalach0', 'thalach1', 'thalach2', 'thalach3',\n",
    "       'thalach4', 'old0', 'old1', 'old2', 'old3'], axis = 1)\n"
   ]
  },
  {
   "cell_type": "code",
   "execution_count": 93,
   "metadata": {},
   "outputs": [
    {
     "name": "stdout",
     "output_type": "stream",
     "text": [
      "(303, 5)\n",
      "(303, 1)\n"
     ]
    }
   ],
   "source": [
    "heart_lr_sample = pd.DataFrame(heart_lr1).values\n",
    "target_lr_sample = pd.DataFrame(target1).values\n",
    "\n",
    "print(heart_lr_sample.shape)\n",
    "print(target_lr_sample.shape)"
   ]
  },
  {
   "cell_type": "code",
   "execution_count": 94,
   "metadata": {},
   "outputs": [],
   "source": [
    "X_train, X_test, y_train, y_test = train_test_split(heart_lr_sample, target_lr_sample, test_size=0.3, random_state=0)"
   ]
  },
  {
   "cell_type": "code",
   "execution_count": 95,
   "metadata": {},
   "outputs": [
    {
     "name": "stdout",
     "output_type": "stream",
     "text": [
      "Fitting 5 folds for each of 8 candidates, totalling 40 fits\n"
     ]
    },
    {
     "name": "stderr",
     "output_type": "stream",
     "text": [
      "[Parallel(n_jobs=-2)]: Using backend LokyBackend with 3 concurrent workers.\n",
      "[Parallel(n_jobs=-2)]: Done  40 out of  40 | elapsed:    0.2s finished\n"
     ]
    },
    {
     "data": {
      "text/plain": [
       "GridSearchCV(cv=StratifiedKFold(n_splits=5, random_state=999, shuffle=False),\n",
       "       error_score='raise-deprecating',\n",
       "       estimator=Pipeline(memory=None,\n",
       "     steps=[('fselector', SelectKBest(k=10, score_func=<function f_classif at 0x1a2567cd08>)), ('lr', LogisticRegression(C=1.0, class_weight=None, dual=False, fit_intercept=True,\n",
       "          intercept_scaling=1, max_iter=100, multi_class='warn',\n",
       "          n_jobs=None, penalty='l2', random_state=None, solver='warn',\n",
       "          tol=0.0001, verbose=0, warm_start=False))]),\n",
       "       fit_params=None, iid='warn', n_jobs=-2,\n",
       "       param_grid={'fselector__k': [1, 2, 3, 5], 'lr__penalty': ['l1', 'l2']},\n",
       "       pre_dispatch='2*n_jobs', refit=True, return_train_score='warn',\n",
       "       scoring='roc_auc', verbose=1)"
      ]
     },
     "execution_count": 95,
     "metadata": {},
     "output_type": "execute_result"
    }
   ],
   "source": [
    "lr_simple_pipe = Pipeline([('fselector', fs.SelectKBest()), \n",
    "                     ('lr', LogisticRegression())])\n",
    "\n",
    "lr_simple_pipe_params = {'fselector__k' : [1,2,3, heart_lr1.shape[1]],\n",
    "                 'lr__penalty' : ['l1','l2']}\n",
    "\n",
    "GridSearch_lr_simple = GridSearchCV(estimator=lr_simple_pipe, \n",
    "                          param_grid=lr_simple_pipe_params, \n",
    "                          cv=cross_val_method,\n",
    "                          refit=True,\n",
    "                          n_jobs=-2,\n",
    "                          scoring='roc_auc',\n",
    "                          verbose=1) \n",
    "GridSearch_lr_simple.fit(X_train, y_train)"
   ]
  },
  {
   "cell_type": "code",
   "execution_count": 96,
   "metadata": {},
   "outputs": [
    {
     "data": {
      "text/plain": [
       "{'fselector__k': 5, 'lr__penalty': 'l2'}"
      ]
     },
     "execution_count": 96,
     "metadata": {},
     "output_type": "execute_result"
    }
   ],
   "source": [
    "GridSearch_lr_simple.best_params_"
   ]
  },
  {
   "cell_type": "code",
   "execution_count": 97,
   "metadata": {},
   "outputs": [
    {
     "data": {
      "text/plain": [
       "0.8980374845885565"
      ]
     },
     "execution_count": 97,
     "metadata": {},
     "output_type": "execute_result"
    }
   ],
   "source": [
    "GridSearch_lr_simple.best_score_"
   ]
  },
  {
   "cell_type": "markdown",
   "metadata": {},
   "source": [
    "We observe a near similar result to the full regression model in terms of AUC score. Although smaller, this model is only using 5 predictors."
   ]
  },
  {
   "cell_type": "code",
   "execution_count": 98,
   "metadata": {},
   "outputs": [
    {
     "data": {
      "text/html": [
       "<div>\n",
       "<style scoped>\n",
       "    .dataframe tbody tr th:only-of-type {\n",
       "        vertical-align: middle;\n",
       "    }\n",
       "\n",
       "    .dataframe tbody tr th {\n",
       "        vertical-align: top;\n",
       "    }\n",
       "\n",
       "    .dataframe thead th {\n",
       "        text-align: right;\n",
       "    }\n",
       "</style>\n",
       "<table border=\"1\" class=\"dataframe\">\n",
       "  <thead>\n",
       "    <tr style=\"text-align: right;\">\n",
       "      <th></th>\n",
       "      <th>mean_score</th>\n",
       "      <th>std_score</th>\n",
       "      <th>max_score</th>\n",
       "      <th>min_score</th>\n",
       "      <th>fselector__k</th>\n",
       "      <th>lr__penalty</th>\n",
       "    </tr>\n",
       "  </thead>\n",
       "  <tbody>\n",
       "    <tr>\n",
       "      <th>7</th>\n",
       "      <td>0.897925</td>\n",
       "      <td>0.0360703</td>\n",
       "      <td>0.951754</td>\n",
       "      <td>0.841009</td>\n",
       "      <td>5</td>\n",
       "      <td>l2</td>\n",
       "    </tr>\n",
       "    <tr>\n",
       "      <th>6</th>\n",
       "      <td>0.893424</td>\n",
       "      <td>0.0373262</td>\n",
       "      <td>0.951754</td>\n",
       "      <td>0.836623</td>\n",
       "      <td>5</td>\n",
       "      <td>l1</td>\n",
       "    </tr>\n",
       "    <tr>\n",
       "      <th>4</th>\n",
       "      <td>0.86401</td>\n",
       "      <td>0.0346206</td>\n",
       "      <td>0.908991</td>\n",
       "      <td>0.811213</td>\n",
       "      <td>3</td>\n",
       "      <td>l1</td>\n",
       "    </tr>\n",
       "    <tr>\n",
       "      <th>5</th>\n",
       "      <td>0.858899</td>\n",
       "      <td>0.0480232</td>\n",
       "      <td>0.917763</td>\n",
       "      <td>0.776888</td>\n",
       "      <td>3</td>\n",
       "      <td>l2</td>\n",
       "    </tr>\n",
       "    <tr>\n",
       "      <th>3</th>\n",
       "      <td>0.807221</td>\n",
       "      <td>0.0646012</td>\n",
       "      <td>0.879386</td>\n",
       "      <td>0.715103</td>\n",
       "      <td>2</td>\n",
       "      <td>l2</td>\n",
       "    </tr>\n",
       "  </tbody>\n",
       "</table>\n",
       "</div>"
      ],
      "text/plain": [
       "  mean_score  std_score max_score min_score fselector__k lr__penalty\n",
       "7   0.897925  0.0360703  0.951754  0.841009            5          l2\n",
       "6   0.893424  0.0373262  0.951754  0.836623            5          l1\n",
       "4    0.86401  0.0346206  0.908991  0.811213            3          l1\n",
       "5   0.858899  0.0480232  0.917763  0.776888            3          l2\n",
       "3   0.807221  0.0646012  0.879386  0.715103            2          l2"
      ]
     },
     "execution_count": 98,
     "metadata": {},
     "output_type": "execute_result"
    }
   ],
   "source": [
    "results_s_lr = get_search_results(GridSearch_lr_simple)\n",
    "results_s_lr.head()"
   ]
  },
  {
   "cell_type": "markdown",
   "metadata": {},
   "source": [
    "From the table we can observe that the best model was a based on all 5 features and a penalty of l2. The max score of the top model was ~0.95, which is, considering the previous models high feature count, is quite remarkable.\n",
    "\n",
    "Below is a visualisation of the score vs the number of features."
   ]
  },
  {
   "cell_type": "code",
   "execution_count": 99,
   "metadata": {},
   "outputs": [
    {
     "data": {
      "application/vnd.vegalite.v2+json": {
       "$schema": "https://vega.github.io/schema/vega-lite/v2.6.0.json",
       "config": {
        "view": {
         "height": 300,
         "width": 400
        }
       },
       "data": {
        "name": "data-df34f287c62f5da8d1c4d0de0f1b433a"
       },
       "datasets": {
        "data-df34f287c62f5da8d1c4d0de0f1b433a": [
         {
          "fselector__k": 5,
          "lr__penalty": "l2",
          "max_score": 0.9517543859649122,
          "mean_score": 0.8979246122552759,
          "min_score": 0.8410087719298247,
          "std_score": 0.03607029742846873
         },
         {
          "fselector__k": 5,
          "lr__penalty": "l1",
          "max_score": 0.9517543859649122,
          "mean_score": 0.8934242308670226,
          "min_score": 0.836622807017544,
          "std_score": 0.03732624435974337
         },
         {
          "fselector__k": 3,
          "lr__penalty": "l1",
          "max_score": 0.9089912280701755,
          "mean_score": 0.8640096618357488,
          "min_score": 0.811212814645309,
          "std_score": 0.03462059411012733
         },
         {
          "fselector__k": 3,
          "lr__penalty": "l2",
          "max_score": 0.917763157894737,
          "mean_score": 0.8588990592423087,
          "min_score": 0.776887871853547,
          "std_score": 0.048023187404553434
         },
         {
          "fselector__k": 2,
          "lr__penalty": "l2",
          "max_score": 0.8793859649122808,
          "mean_score": 0.8072209509280448,
          "min_score": 0.7151029748283753,
          "std_score": 0.06460124425069022
         },
         {
          "fselector__k": 2,
          "lr__penalty": "l1",
          "max_score": 0.8793859649122808,
          "mean_score": 0.8057716755657258,
          "min_score": 0.7151029748283753,
          "std_score": 0.06305957247255906
         },
         {
          "fselector__k": 1,
          "lr__penalty": "l1",
          "max_score": 0.8454106280193238,
          "mean_score": 0.7222762522247649,
          "min_score": 0.620137299771167,
          "std_score": 0.0814286334241763
         },
         {
          "fselector__k": 1,
          "lr__penalty": "l2",
          "max_score": 0.8454106280193238,
          "mean_score": 0.7222762522247649,
          "min_score": 0.620137299771167,
          "std_score": 0.0814286334241763
         }
        ]
       },
       "encoding": {
        "color": {
         "field": "lr__penalty",
         "type": "nominal"
        },
        "x": {
         "field": "fselector__k",
         "title": "Number of Features",
         "type": "quantitative"
        },
        "y": {
         "field": "mean_score",
         "scale": {
          "zero": false
         },
         "title": "AUC Score",
         "type": "quantitative"
        }
       },
       "height": 100,
       "mark": {
        "point": true,
        "type": "line"
       },
       "title": "Logistic Regression Performance",
       "width": 150
      },
      "image/png": "[encoded data removed]",
      "text/plain": [
       "<VegaLite 2 object>\n",
       "\n",
       "If you see this message, it means the renderer has not been properly enabled\n",
       "for the frontend that you are using. For more information, see\n",
       "https://altair-viz.github.io/user_guide/troubleshooting.html\n"
      ]
     },
     "execution_count": 99,
     "metadata": {},
     "output_type": "execute_result"
    }
   ],
   "source": [
    "plot_lr(results_s_lr)"
   ]
  },
  {
   "cell_type": "markdown",
   "metadata": {},
   "source": [
    "<a id='Per'></a>\n",
    "\n",
    "# Performance Comparison"
   ]
  },
  {
   "cell_type": "markdown",
   "metadata": {},
   "source": [
    "The classification models proposed have been optimised on the training data. For comparison, I will be doing a pairwise t-test in order to dicern which model performs the best. Due to the randomness of the cross validation, I will be doing a stratified 10 fold cross validation on each model to find the mean score before testing each model. The first round will consist of both Naive Bayes models and both logistic regression models. The better of the two will then be compared to KNN, DT and eachother. The tests will be as follows:\n",
    "\n",
    "The first round will consist of:\n",
    "\n",
    "* Bernoulli NB vs Gaussian NB\n",
    "* Simplified Logistic Regression vs Full Logistic Regression\n",
    "\n",
    "The winner of those tests will then be compared to KNN and DT. For these tests, assume the winners of the first round are B and C.\n",
    "\n",
    "* KNN vs B\n",
    "* KNN vs C\n",
    "* C vs B\n",
    "* KNN vs DT\n",
    "* DT vs C\n",
    "* DT vs B\n"
   ]
  },
  {
   "cell_type": "code",
   "execution_count": 100,
   "metadata": {},
   "outputs": [],
   "source": [
    "from sklearn.model_selection import cross_val_score\n",
    "\n",
    "ttest_cv = StratifiedKFold(n_splits=10, random_state=1)\n"
   ]
  },
  {
   "cell_type": "code",
   "execution_count": 101,
   "metadata": {},
   "outputs": [
    {
     "data": {
      "text/plain": [
       "0.932"
      ]
     },
     "execution_count": 101,
     "metadata": {},
     "output_type": "execute_result"
    }
   ],
   "source": [
    "results_b_NB_cv = cross_val_score(estimator=gs_b_NB.best_estimator_,\n",
    "                                 X=heart_test,\n",
    "                                 y=target_test, \n",
    "                                 cv=ttest_cv, \n",
    "                                 n_jobs=-2,\n",
    "                                 scoring='roc_auc')\n",
    "results_b_NB_cv.mean()"
   ]
  },
  {
   "cell_type": "code",
   "execution_count": 102,
   "metadata": {},
   "outputs": [
    {
     "data": {
      "text/plain": [
       "0.9349999999999999"
      ]
     },
     "execution_count": 102,
     "metadata": {},
     "output_type": "execute_result"
    }
   ],
   "source": [
    "heart_test_transformed = PowerTransformer().fit_transform(heart_test)\n",
    "\n",
    "results_NB_cv = cross_val_score(estimator=gs_NB.best_estimator_,\n",
    "                                 X=heart_test_transformed,\n",
    "                                 y=target_test, \n",
    "                                 cv=ttest_cv, \n",
    "                                 n_jobs=-2,\n",
    "                                 scoring='roc_auc')\n",
    "results_NB_cv.mean()"
   ]
  },
  {
   "cell_type": "code",
   "execution_count": 103,
   "metadata": {},
   "outputs": [
    {
     "data": {
      "text/plain": [
       "0.9275"
      ]
     },
     "execution_count": 103,
     "metadata": {},
     "output_type": "execute_result"
    }
   ],
   "source": [
    "results_s_lr_cv = cross_val_score(estimator=GridSearch_lr_simple.best_estimator_,\n",
    "                                 X=heart_test,\n",
    "                                 y=target_test, \n",
    "                                 cv=ttest_cv, \n",
    "                                 n_jobs=-2,\n",
    "                                 scoring='roc_auc')\n",
    "results_s_lr_cv.mean()"
   ]
  },
  {
   "cell_type": "code",
   "execution_count": 104,
   "metadata": {},
   "outputs": [
    {
     "data": {
      "text/plain": [
       "0.96"
      ]
     },
     "execution_count": 104,
     "metadata": {},
     "output_type": "execute_result"
    }
   ],
   "source": [
    "results_LR_cv = cross_val_score(estimator=GridSearch_lr.best_estimator_,\n",
    "                                 X=heart_test,\n",
    "                                 y=target_test, \n",
    "                                 cv=ttest_cv, \n",
    "                                 n_jobs=-2,\n",
    "                                 scoring='roc_auc')\n",
    "results_LR_cv.mean()"
   ]
  },
  {
   "cell_type": "code",
   "execution_count": 105,
   "metadata": {},
   "outputs": [
    {
     "data": {
      "text/plain": [
       "0.8325000000000001"
      ]
     },
     "execution_count": 105,
     "metadata": {},
     "output_type": "execute_result"
    }
   ],
   "source": [
    "results_DT_cv = cross_val_score(estimator=GridSearch_DT.best_estimator_,\n",
    "                                 X=heart_test,\n",
    "                                 y=target_test, \n",
    "                                 cv=ttest_cv, \n",
    "                                 n_jobs=-2,\n",
    "                                 scoring='roc_auc')\n",
    "results_DT_cv.mean()"
   ]
  },
  {
   "cell_type": "code",
   "execution_count": 106,
   "metadata": {},
   "outputs": [
    {
     "data": {
      "text/plain": [
       "0.9189999999999999"
      ]
     },
     "execution_count": 106,
     "metadata": {},
     "output_type": "execute_result"
    }
   ],
   "source": [
    "results_KNN_cv = cross_val_score(estimator=GridSearch_KNN.best_estimator_,\n",
    "                                 X=heart_test,\n",
    "                                 y=target_test, \n",
    "                                 cv=ttest_cv, \n",
    "                                 n_jobs=-2,\n",
    "                                 scoring='roc_auc')\n",
    "results_KNN_cv.mean()"
   ]
  },
  {
   "cell_type": "markdown",
   "metadata": {},
   "source": [
    "Since the random state is constant, each of the test sets are fixed, therefore we can run paired t-tests accurately. I will run these paired t-tests to determine the best model according to their AUC score."
   ]
  },
  {
   "cell_type": "code",
   "execution_count": 107,
   "metadata": {},
   "outputs": [
    {
     "name": "stdout",
     "output_type": "stream",
     "text": [
      "t-test for Bernoulli NB vs Gaussian NB: \n",
      "Ttest_relResult(statistic=-0.20751433915982262, pvalue=0.840227666913529)\n",
      "\n",
      "t-test for simple logistic regression vs full logistic regression: \n",
      "Ttest_relResult(statistic=2.326544946460383, pvalue=0.045000997712527385)\n"
     ]
    }
   ],
   "source": [
    "from scipy import stats\n",
    "# round 1\n",
    "print(\"t-test for Bernoulli NB vs Gaussian NB: \\n\" + str(stats.ttest_rel(results_b_NB_cv, results_NB_cv)) + \"\\n\")\n",
    "print(\"t-test for simple logistic regression vs full logistic regression: \\n\" + str(stats.ttest_rel(results_LR_cv, results_s_lr_cv)))"
   ]
  },
  {
   "cell_type": "markdown",
   "metadata": {},
   "source": [
    "The Naive Bayes Models were not significantly different from one another as indicted by their p values being above 0.05. The Simple Logistic Regression model and the Full Logistic Regression Model however, are significantly different at 5% (p < 0.05). Therefore I will continue with the Full Logistic Regression Model. Either Naive Bayes model would be fine to continue with as they are not significantly different so I will continue with the Bernoulli Naive Bayes model."
   ]
  },
  {
   "cell_type": "code",
   "execution_count": 108,
   "metadata": {},
   "outputs": [
    {
     "name": "stdout",
     "output_type": "stream",
     "text": [
      "KNN vs DT: \n",
      "Ttest_relResult(statistic=4.440441083862264, pvalue=0.0016224595212309051)\n",
      "\n",
      "KNN vs Logistic Regression: \n",
      "Ttest_relResult(statistic=-1.9438290893161172, pvalue=0.08379281305897199)\n",
      "\n",
      "Logistic Regression vs Bernoulli Naive Bayes: \n",
      "Ttest_relResult(statistic=1.9498010508590446, pvalue=0.08299322957614211)\n",
      "\n",
      "KNN vs Bernoulli NB: \n",
      "Ttest_relResult(statistic=-0.8518614552445126, pvalue=0.4163818598080866)\n",
      "\n",
      "DT vs Logistic Regression: \n",
      "Ttest_relResult(statistic=-4.437113147827923, pvalue=0.001630287900503843)\n",
      "\n",
      "DT vs Bernoulli NB: \n",
      "Ttest_relResult(statistic=-5.3378090647717436, pvalue=0.0004698268438594737)\n",
      "\n"
     ]
    }
   ],
   "source": [
    "# round 2:\n",
    "print(\"KNN vs DT: \\n\" + str(stats.ttest_rel(results_KNN_cv, results_DT_cv)) + \"\\n\")\n",
    "print(\"KNN vs Logistic Regression: \\n\" +str(stats.ttest_rel(results_KNN_cv, results_LR_cv))+ \"\\n\")\n",
    "print(\"Logistic Regression vs Bernoulli Naive Bayes: \\n\" +str(stats.ttest_rel(results_LR_cv, results_b_NB_cv))+ \"\\n\")\n",
    "print(\"KNN vs Bernoulli NB: \\n\" +str(stats.ttest_rel(results_KNN_cv, results_b_NB_cv))+ \"\\n\")\n",
    "print(\"DT vs Logistic Regression: \\n\" +str(stats.ttest_rel(results_DT_cv, results_LR_cv))+ \"\\n\")\n",
    "print(\"DT vs Bernoulli NB: \\n\" +str(stats.ttest_rel(results_DT_cv, results_b_NB_cv))+ \"\\n\")"
   ]
  },
  {
   "cell_type": "markdown",
   "metadata": {},
   "source": [
    "Most of these models differ to 5% significance, with the exception of KNN vs Bernoulli NB, Logistic Regression vs KNN and Logistic Regression vs Bernoulli NB. Since the Logistic Regression model is significantly different to both these models at 10% as p < 0.1, We can conclude with 90% accuracy that the Full Logistic Regression Model is statistically the best model when compared to the test data and in terms of AUC score.\n",
    "\n",
    "Since this method used the AUC to optimize hyperparameters, we will also take into consideration other factors to dicern the best model. To do this, I will be using sklearns classification report to look at:\n",
    "\n",
    "* Accuracy\n",
    "* Precision\n",
    "* Recall\n",
    "* F1 Score\n",
    "\n",
    "I will also be looking at each models confusion matrix\n",
    "\n",
    "To do this I will use the predict function from every grid search in order to obtain the results"
   ]
  },
  {
   "cell_type": "code",
   "execution_count": 109,
   "metadata": {},
   "outputs": [],
   "source": [
    "# KNN \n",
    "KNN_pred = GridSearch_KNN.predict(heart_test)"
   ]
  },
  {
   "cell_type": "code",
   "execution_count": 110,
   "metadata": {},
   "outputs": [],
   "source": [
    "# Gaussian NB\n",
    "G_NB_pred = gs_NB.predict(heart_test_transformed)"
   ]
  },
  {
   "cell_type": "code",
   "execution_count": 111,
   "metadata": {},
   "outputs": [],
   "source": [
    "# Bernoulli NB\n",
    "B_NB_pred = gs_b_NB.predict(heart_B_test)"
   ]
  },
  {
   "cell_type": "code",
   "execution_count": 112,
   "metadata": {},
   "outputs": [],
   "source": [
    "# DT\n",
    "pred_DT = GridSearch_DT.predict(heart_test)"
   ]
  },
  {
   "cell_type": "code",
   "execution_count": 113,
   "metadata": {},
   "outputs": [],
   "source": [
    "# Simple Logistic Regression\n",
    "pred_S_LR = GridSearch_lr_simple.predict(X_test)"
   ]
  },
  {
   "cell_type": "code",
   "execution_count": 114,
   "metadata": {},
   "outputs": [],
   "source": [
    "# Full Logistic Regression\n",
    "pred_FullLR = GridSearch_lr.predict(heart_test)"
   ]
  },
  {
   "cell_type": "code",
   "execution_count": 115,
   "metadata": {},
   "outputs": [
    {
     "name": "stdout",
     "output_type": "stream",
     "text": [
      "\n",
      "Classification report for K-Nearest Neighbor\n",
      "              precision    recall  f1-score   support\n",
      "\n",
      "           0       0.89      0.78      0.83        41\n",
      "           1       0.84      0.92      0.88        50\n",
      "\n",
      "   micro avg       0.86      0.86      0.86        91\n",
      "   macro avg       0.86      0.85      0.85        91\n",
      "weighted avg       0.86      0.86      0.86        91\n",
      "\n",
      "\n",
      "Classification report for Gaussian Naive Bayes\n",
      "              precision    recall  f1-score   support\n",
      "\n",
      "           0       0.89      0.76      0.82        41\n",
      "           1       0.82      0.92      0.87        50\n",
      "\n",
      "   micro avg       0.85      0.85      0.85        91\n",
      "   macro avg       0.85      0.84      0.84        91\n",
      "weighted avg       0.85      0.85      0.84        91\n",
      "\n",
      "\n",
      "Classification report for Decision Tree\n",
      "              precision    recall  f1-score   support\n",
      "\n",
      "           0       0.64      0.73      0.68        41\n",
      "           1       0.75      0.66      0.70        50\n",
      "\n",
      "   micro avg       0.69      0.69      0.69        91\n",
      "   macro avg       0.69      0.70      0.69        91\n",
      "weighted avg       0.70      0.69      0.69        91\n",
      "\n",
      "\n",
      "Classification report for Simple Logistic Regression\n",
      "              precision    recall  f1-score   support\n",
      "\n",
      "           0       0.85      0.77      0.81        44\n",
      "           1       0.80      0.87      0.84        47\n",
      "\n",
      "   micro avg       0.82      0.82      0.82        91\n",
      "   macro avg       0.83      0.82      0.82        91\n",
      "weighted avg       0.83      0.82      0.82        91\n",
      "\n",
      "\n",
      "Classification report for Full Logistic Regression\n",
      "              precision    recall  f1-score   support\n",
      "\n",
      "           0       0.85      0.83      0.84        41\n",
      "           1       0.86      0.88      0.87        50\n",
      "\n",
      "   micro avg       0.86      0.86      0.86        91\n",
      "   macro avg       0.86      0.85      0.86        91\n",
      "weighted avg       0.86      0.86      0.86        91\n",
      "\n",
      "\n",
      "Classification report for Bernoulli NB\n",
      "              precision    recall  f1-score   support\n",
      "\n",
      "           0       0.88      0.88      0.88        41\n",
      "           1       0.90      0.90      0.90        50\n",
      "\n",
      "   micro avg       0.89      0.89      0.89        91\n",
      "   macro avg       0.89      0.89      0.89        91\n",
      "weighted avg       0.89      0.89      0.89        91\n",
      "\n"
     ]
    }
   ],
   "source": [
    "from sklearn import metrics\n",
    "print(\"\\nClassification report for K-Nearest Neighbor\") \n",
    "print(metrics.classification_report(target_test, KNN_pred))\n",
    "print(\"\\nClassification report for Gaussian Naive Bayes\") \n",
    "print(metrics.classification_report(target_test, G_NB_pred))\n",
    "print(\"\\nClassification report for Decision Tree\") \n",
    "print(metrics.classification_report(target_test, pred_DT))\n",
    "print(\"\\nClassification report for Simple Logistic Regression\") \n",
    "print(metrics.classification_report(y_test, pred_S_LR))\n",
    "print(\"\\nClassification report for Full Logistic Regression\") \n",
    "print(metrics.classification_report(target_test, pred_FullLR))\n",
    "print(\"\\nClassification report for Bernoulli NB\") \n",
    "print(metrics.classification_report(target_test, B_NB_pred))"
   ]
  },
  {
   "cell_type": "code",
   "execution_count": 116,
   "metadata": {},
   "outputs": [
    {
     "name": "stdout",
     "output_type": "stream",
     "text": [
      "\n",
      "Confusion Matrix report for K-Nearest Neighbor\n",
      "[[32  9]\n",
      " [ 4 46]]\n",
      "\n",
      "Confusion Matrix for Gaussian Naive Bayes\n",
      "[[31 10]\n",
      " [ 4 46]]\n",
      "\n",
      "Confusion Matrix for Decision Tree\n",
      "[[30 11]\n",
      " [17 33]]\n",
      "\n",
      "Confusion Matrix for Simple Logistic Regression\n",
      "[[34 10]\n",
      " [ 6 41]]\n",
      "\n",
      "Confusion Matrix for Full Logistic Regression\n",
      "[[34  7]\n",
      " [ 6 44]]\n",
      "\n",
      "Confusion Matrix for Bernoulli NB\n",
      "[[36  5]\n",
      " [ 5 45]]\n"
     ]
    }
   ],
   "source": [
    "from sklearn import metrics\n",
    "print(\"\\nConfusion Matrix report for K-Nearest Neighbor\") \n",
    "print(metrics.confusion_matrix(target_test, KNN_pred))\n",
    "print(\"\\nConfusion Matrix for Gaussian Naive Bayes\") \n",
    "print(metrics.confusion_matrix(target_test, G_NB_pred))\n",
    "print(\"\\nConfusion Matrix for Decision Tree\") \n",
    "print(metrics.confusion_matrix(target_test, pred_DT))\n",
    "print(\"\\nConfusion Matrix for Simple Logistic Regression\") \n",
    "print(metrics.confusion_matrix(y_test, pred_S_LR))\n",
    "print(\"\\nConfusion Matrix for Full Logistic Regression\") \n",
    "print(metrics.confusion_matrix(target_test, pred_FullLR))\n",
    "print(\"\\nConfusion Matrix for Bernoulli NB\") \n",
    "print(metrics.confusion_matrix(target_test, B_NB_pred))"
   ]
  },
  {
   "cell_type": "markdown",
   "metadata": {},
   "source": [
    "From the classification reports, we can see that the classifier with the highest recall score was the Gaussian Naive Bayes and the K-Nearest Neighbour Classifier. We choose the recall score as we want to predict if someone has heart disease, which the recall score tells us. The confusion matrices also confirm these recall scores. This contrasts to the t-tests conducted on the AUC score, where the full logistic regression model was deemed to be the best model."
   ]
  },
  {
   "cell_type": "markdown",
   "metadata": {},
   "source": [
    "<a id='Limit'></a>\n",
    "\n",
    "# Critiques, Limitations and Proposed Solutions"
   ]
  },
  {
   "cell_type": "markdown",
   "metadata": {},
   "source": [
    "The modelling strategy implemented had a number of limitations. One of the limitations was the input - output approach taken in this report, as we were looking to find the best classifier based on raw predictive power. The main limitation based on this approach was the lack of in depth in the hyperparameter tuning. One example was the Bernoulli NB, where only the number of features was tested upon. In future machine learning tasks, further analysis on hyperparameter tunings should be taken into consideration.\n",
    "\n",
    "The next critique would be the feature selection method. Although the F-score feature selection technique is powerful, it does not take into account mutual information. (Chen Y. W, & Lin C. J., 2003)<cite data-cite ='Fscore'>(Yi-Wei Chen & Chih-Jen Lin, 2019)</cite>, combines this feature technique with both a Support Vector Machine (SVM) and a Random Forest Feature selector to get further information on these features. This allows for a more in depth feature selection method, taking many aspects into account.\n",
    "\n",
    "The feature selection method also gives us next limitation; the number of features needed to predict heart disease. All of these models have 20 or more features, with the exception of the simple Logistic Regression Model. This may produce overfitting, and therefore incorrectly classifying future patients.\n",
    "\n",
    "The next limitation of this project is the number of observations. Since this dataset is based on the Cleveland data, it does not take into account the other data bases in the same UCI directory <cite data-cite = \"heart-disease\">(Created by Robert Detrano, Donated by David W Aha, 1989)</cite>, such as the Hungarian and Swiss datasets. These extra observations could give further insight into the predicting heart disease on a more generalised basis.\n",
    "\n",
    "The full Logistic Regression Model statistically outperforms all the other models at significance level of 10%. The hyperparameter space for this model was quite simple, further analysis considering other Logistic Regression parameters in the future would help in further tuning this model."
   ]
  },
  {
   "cell_type": "markdown",
   "metadata": {},
   "source": [
    "<a id='Summary'></a>\n",
    "\n",
    "# Summary"
   ]
  },
  {
   "cell_type": "markdown",
   "metadata": {},
   "source": [
    "The Bernoulli NB Model with 21 predictors, selected by their F-score, produces the highest cross-validated AUC score on the training data. However, the Logistic Regression Model with 20 of the best features as selected by their F-score, statistically outperformed every other model at 10% significance on the test data. The Gaussian Naive Bayes Model and the K-Nearest Neighbour Model had the highest recall score ont the test data with of a score of 0.92. We observe that most of these models best parameters contained 20 or more, indicating that these models may be sensitive to the number of features and in turn may produce overfitting. "
   ]
  }
 ],
 "metadata": {
  "kernelspec": {
   "display_name": "Python 3",
   "language": "python",
   "name": "python3"
  },
  "language_info": {
   "codemirror_mode": {
    "name": "ipython",
    "version": 3
   },
   "file_extension": ".py",
   "mimetype": "text/x-python",
   "name": "python",
   "nbconvert_exporter": "python",
   "pygments_lexer": "ipython3",
   "version": "3.7.3"
  }
 },
 "nbformat": 4,
 "nbformat_minor": 2
}
